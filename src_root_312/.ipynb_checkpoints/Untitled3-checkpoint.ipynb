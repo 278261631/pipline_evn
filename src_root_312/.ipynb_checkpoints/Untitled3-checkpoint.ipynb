{
 "cells": [
  {
   "cell_type": "code",
   "execution_count": 2,
   "id": "83e6a021-7611-4cd8-901d-2a64807560cc",
   "metadata": {},
   "outputs": [
    {
     "ename": "ModuleNotFoundError",
     "evalue": "No module named 'prefect.executors'",
     "output_type": "error",
     "traceback": [
      "\u001b[1;31m---------------------------------------------------------------------------\u001b[0m",
      "\u001b[1;31mModuleNotFoundError\u001b[0m                       Traceback (most recent call last)",
      "Cell \u001b[1;32mIn[2], line 3\u001b[0m\n\u001b[0;32m      1\u001b[0m \u001b[38;5;28;01mimport\u001b[39;00m \u001b[38;5;21;01mprefect\u001b[39;00m\n\u001b[0;32m      2\u001b[0m \u001b[38;5;28;01mfrom\u001b[39;00m \u001b[38;5;21;01mprefect\u001b[39;00m \u001b[38;5;28;01mimport\u001b[39;00m task, Flow\n\u001b[1;32m----> 3\u001b[0m \u001b[38;5;28;01mfrom\u001b[39;00m \u001b[38;5;21;01mprefect\u001b[39;00m\u001b[38;5;21;01m.\u001b[39;00m\u001b[38;5;21;01mexecutors\u001b[39;00m \u001b[38;5;28;01mimport\u001b[39;00m LocalExecutor\n\u001b[0;32m      4\u001b[0m \u001b[38;5;28;01mfrom\u001b[39;00m \u001b[38;5;21;01mprefect\u001b[39;00m\u001b[38;5;21;01m.\u001b[39;00m\u001b[38;5;21;01mrun_configs\u001b[39;00m \u001b[38;5;28;01mimport\u001b[39;00m LocalRun\n\u001b[0;32m      6\u001b[0m \u001b[38;5;66;03m# 定义任务\u001b[39;00m\n",
      "\u001b[1;31mModuleNotFoundError\u001b[0m: No module named 'prefect.executors'"
     ]
    }
   ],
   "source": [
    "import prefect\n",
    "from prefect import task, Flow\n",
    "\n",
    "# Define tasks\n",
    "@task\n",
    "def extract():\n",
    "    return [1, 2, 3, 4, 5]\n",
    "\n",
    "@task\n",
    "def transform(data):\n",
    "    return [x * 10 for x in data]\n",
    "\n",
    "@task\n",
    "def load(data):\n",
    "    print(\"Final Result: {}\".format(data))\n",
    "\n",
    "# Define the data workflow\n",
    "with Flow(\"demo-flow\") as flow:\n",
    "    data = extract()\n",
    "    transformed_data = transform(data)\n",
    "    load(transformed_data)\n",
    "\n",
    "# Run the workflow in the Jupyter Notebook\n",
    "flow.run()\n"
   ]
  },
  {
   "cell_type": "code",
   "execution_count": null,
   "id": "6bf42ae4-3df9-45c5-a27b-6209b61aa338",
   "metadata": {},
   "outputs": [],
   "source": []
  }
 ],
 "metadata": {
  "kernelspec": {
   "display_name": "Python 3 (ipykernel)",
   "language": "python",
   "name": "python3"
  },
  "language_info": {
   "codemirror_mode": {
    "name": "ipython",
    "version": 3
   },
   "file_extension": ".py",
   "mimetype": "text/x-python",
   "name": "python",
   "nbconvert_exporter": "python",
   "pygments_lexer": "ipython3",
   "version": "3.12.1"
  }
 },
 "nbformat": 4,
 "nbformat_minor": 5
}
