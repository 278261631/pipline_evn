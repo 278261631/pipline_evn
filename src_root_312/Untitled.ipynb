{
 "cells": [
  {
   "cell_type": "code",
   "execution_count": 1,
   "id": "6816589a-65b6-40de-95bf-12ac3c363b22",
   "metadata": {},
   "outputs": [
    {
     "data": {
      "text/html": [
       "<pre style=\"white-space:pre;overflow-x:auto;line-height:normal;font-family:Menlo,'DejaVu Sans Mono',consolas,'Courier New',monospace\">15:01:04.159 | <span style=\"color: #008080; text-decoration-color: #008080\">INFO</span>    | prefect.engine - Created flow run<span style=\"color: #800080; text-decoration-color: #800080\"> 'eminent-duck'</span> for flow<span style=\"color: #800080; text-decoration-color: #800080; font-weight: bold\"> 'repo-info'</span>\n",
       "</pre>\n"
      ],
      "text/plain": [
       "15:01:04.159 | \u001b[36mINFO\u001b[0m    | prefect.engine - Created flow run\u001b[35m 'eminent-duck'\u001b[0m for flow\u001b[1;35m 'repo-info'\u001b[0m\n"
      ]
     },
     "metadata": {},
     "output_type": "display_data"
    },
    {
     "data": {
      "text/html": [
       "<pre style=\"white-space:pre;overflow-x:auto;line-height:normal;font-family:Menlo,'DejaVu Sans Mono',consolas,'Courier New',monospace\">15:01:04.231 | <span style=\"color: #008080; text-decoration-color: #008080\">INFO</span>    | Flow run<span style=\"color: #800080; text-decoration-color: #800080\"> 'eminent-duck'</span> - Created task run 'get_repo_info-0' for task 'get_repo_info'\n",
       "</pre>\n"
      ],
      "text/plain": [
       "15:01:04.231 | \u001b[36mINFO\u001b[0m    | Flow run\u001b[35m 'eminent-duck'\u001b[0m - Created task run 'get_repo_info-0' for task 'get_repo_info'\n"
      ]
     },
     "metadata": {},
     "output_type": "display_data"
    },
    {
     "data": {
      "text/html": [
       "<pre style=\"white-space:pre;overflow-x:auto;line-height:normal;font-family:Menlo,'DejaVu Sans Mono',consolas,'Courier New',monospace\">15:01:04.233 | <span style=\"color: #008080; text-decoration-color: #008080\">INFO</span>    | Flow run<span style=\"color: #800080; text-decoration-color: #800080\"> 'eminent-duck'</span> - Executing 'get_repo_info-0' immediately...\n",
       "</pre>\n"
      ],
      "text/plain": [
       "15:01:04.233 | \u001b[36mINFO\u001b[0m    | Flow run\u001b[35m 'eminent-duck'\u001b[0m - Executing 'get_repo_info-0' immediately...\n"
      ]
     },
     "metadata": {},
     "output_type": "display_data"
    },
    {
     "data": {
      "text/html": [
       "<pre style=\"white-space:pre;overflow-x:auto;line-height:normal;font-family:Menlo,'DejaVu Sans Mono',consolas,'Courier New',monospace\">15:01:05.927 | <span style=\"color: #008080; text-decoration-color: #008080\">INFO</span>    | Task run 'get_repo_info-0' - Finished in state <span style=\"color: #008000; text-decoration-color: #008000\">Completed</span>()\n",
       "</pre>\n"
      ],
      "text/plain": [
       "15:01:05.927 | \u001b[36mINFO\u001b[0m    | Task run 'get_repo_info-0' - Finished in state \u001b[32mCompleted\u001b[0m()\n"
      ]
     },
     "metadata": {},
     "output_type": "display_data"
    },
    {
     "data": {
      "text/html": [
       "<pre style=\"white-space:pre;overflow-x:auto;line-height:normal;font-family:Menlo,'DejaVu Sans Mono',consolas,'Courier New',monospace\">15:01:05.929 | <span style=\"color: #008080; text-decoration-color: #008080\">INFO</span>    | Flow run<span style=\"color: #800080; text-decoration-color: #800080\"> 'eminent-duck'</span> - Stars 🌠 : 13920\n",
       "</pre>\n"
      ],
      "text/plain": [
       "15:01:05.929 | \u001b[36mINFO\u001b[0m    | Flow run\u001b[35m 'eminent-duck'\u001b[0m - Stars 🌠 : 13920\n"
      ]
     },
     "metadata": {},
     "output_type": "display_data"
    },
    {
     "data": {
      "text/html": [
       "<pre style=\"white-space:pre;overflow-x:auto;line-height:normal;font-family:Menlo,'DejaVu Sans Mono',consolas,'Courier New',monospace\">15:01:05.956 | <span style=\"color: #008080; text-decoration-color: #008080\">INFO</span>    | Flow run<span style=\"color: #800080; text-decoration-color: #800080\"> 'eminent-duck'</span> - Created task run 'get_contributors-0' for task 'get_contributors'\n",
       "</pre>\n"
      ],
      "text/plain": [
       "15:01:05.956 | \u001b[36mINFO\u001b[0m    | Flow run\u001b[35m 'eminent-duck'\u001b[0m - Created task run 'get_contributors-0' for task 'get_contributors'\n"
      ]
     },
     "metadata": {},
     "output_type": "display_data"
    },
    {
     "data": {
      "text/html": [
       "<pre style=\"white-space:pre;overflow-x:auto;line-height:normal;font-family:Menlo,'DejaVu Sans Mono',consolas,'Courier New',monospace\">15:01:05.957 | <span style=\"color: #008080; text-decoration-color: #008080\">INFO</span>    | Flow run<span style=\"color: #800080; text-decoration-color: #800080\"> 'eminent-duck'</span> - Executing 'get_contributors-0' immediately...\n",
       "</pre>\n"
      ],
      "text/plain": [
       "15:01:05.957 | \u001b[36mINFO\u001b[0m    | Flow run\u001b[35m 'eminent-duck'\u001b[0m - Executing 'get_contributors-0' immediately...\n"
      ]
     },
     "metadata": {},
     "output_type": "display_data"
    },
    {
     "data": {
      "text/html": [
       "<pre style=\"white-space:pre;overflow-x:auto;line-height:normal;font-family:Menlo,'DejaVu Sans Mono',consolas,'Courier New',monospace\">15:01:07.686 | <span style=\"color: #008080; text-decoration-color: #008080\">INFO</span>    | Task run 'get_contributors-0' - Finished in state <span style=\"color: #008000; text-decoration-color: #008000\">Completed</span>()\n",
       "</pre>\n"
      ],
      "text/plain": [
       "15:01:07.686 | \u001b[36mINFO\u001b[0m    | Task run 'get_contributors-0' - Finished in state \u001b[32mCompleted\u001b[0m()\n"
      ]
     },
     "metadata": {},
     "output_type": "display_data"
    },
    {
     "data": {
      "text/html": [
       "<pre style=\"white-space:pre;overflow-x:auto;line-height:normal;font-family:Menlo,'DejaVu Sans Mono',consolas,'Courier New',monospace\">15:01:07.688 | <span style=\"color: #008080; text-decoration-color: #008080\">INFO</span>    | Flow run<span style=\"color: #800080; text-decoration-color: #800080\"> 'eminent-duck'</span> - Number of contributors 👷: 30\n",
       "</pre>\n"
      ],
      "text/plain": [
       "15:01:07.688 | \u001b[36mINFO\u001b[0m    | Flow run\u001b[35m 'eminent-duck'\u001b[0m - Number of contributors 👷: 30\n"
      ]
     },
     "metadata": {},
     "output_type": "display_data"
    },
    {
     "data": {
      "text/html": [
       "<pre style=\"white-space:pre;overflow-x:auto;line-height:normal;font-family:Menlo,'DejaVu Sans Mono',consolas,'Courier New',monospace\">15:01:07.719 | <span style=\"color: #008080; text-decoration-color: #008080\">INFO</span>    | Flow run<span style=\"color: #800080; text-decoration-color: #800080\"> 'eminent-duck'</span> - Finished in state <span style=\"color: #008000; text-decoration-color: #008000\">Completed</span>('All states completed.')\n",
       "</pre>\n"
      ],
      "text/plain": [
       "15:01:07.719 | \u001b[36mINFO\u001b[0m    | Flow run\u001b[35m 'eminent-duck'\u001b[0m - Finished in state \u001b[32mCompleted\u001b[0m('All states completed.')\n"
      ]
     },
     "metadata": {},
     "output_type": "display_data"
    }
   ],
   "source": [
    "import httpx\n",
    "from prefect import flow, task\n",
    "\n",
    "\n",
    "@task(retries=2)\n",
    "def get_repo_info(repo_owner: str, repo_name: str):\n",
    "    \"\"\"Get info about a repo - will retry twice after failing\"\"\"\n",
    "    url = f\"https://api.github.com/repos/{repo_owner}/{repo_name}\"\n",
    "    api_response = httpx.get(url)\n",
    "    api_response.raise_for_status()\n",
    "    repo_info = api_response.json()\n",
    "    return repo_info\n",
    "\n",
    "\n",
    "@task\n",
    "def get_contributors(repo_info: dict):\n",
    "    \"\"\"Get contributors for a repo\"\"\"\n",
    "    contributors_url = repo_info[\"contributors_url\"]\n",
    "    response = httpx.get(contributors_url)\n",
    "    response.raise_for_status()\n",
    "    contributors = response.json()\n",
    "    return contributors\n",
    "\n",
    "\n",
    "@flow(log_prints=True)\n",
    "def repo_info(repo_owner: str = \"PrefectHQ\", repo_name: str = \"prefect\"):\n",
    "    \"\"\"\n",
    "    Given a GitHub repository, logs the number of stargazers\n",
    "    and contributors for that repo.\n",
    "    \"\"\"\n",
    "    repo_info = get_repo_info(repo_owner, repo_name)\n",
    "    print(f\"Stars 🌠 : {repo_info['stargazers_count']}\")\n",
    "\n",
    "    contributors = get_contributors(repo_info)\n",
    "    print(f\"Number of contributors 👷: {len(contributors)}\")\n",
    "\n",
    "\n",
    "if __name__ == \"__main__\":\n",
    "    repo_info()\n"
   ]
  },
  {
   "cell_type": "code",
   "execution_count": null,
   "id": "3319a8a0-5473-44af-ab4d-63ddb6866ee6",
   "metadata": {},
   "outputs": [],
   "source": []
  },
  {
   "cell_type": "code",
   "execution_count": null,
   "id": "b68e31bc-99b6-4324-b0e8-bdc8349b7f10",
   "metadata": {},
   "outputs": [],
   "source": []
  },
  {
   "cell_type": "code",
   "execution_count": null,
   "id": "d4be1f76-6639-4383-bf07-10bee033304c",
   "metadata": {},
   "outputs": [],
   "source": []
  },
  {
   "cell_type": "code",
   "execution_count": null,
   "id": "dc9084bc-2941-4ac7-806c-8bbf613fc788",
   "metadata": {},
   "outputs": [],
   "source": []
  }
 ],
 "metadata": {
  "kernelspec": {
   "display_name": "Python 3 (ipykernel)",
   "language": "python",
   "name": "python3"
  },
  "language_info": {
   "codemirror_mode": {
    "name": "ipython",
    "version": 3
   },
   "file_extension": ".py",
   "mimetype": "text/x-python",
   "name": "python",
   "nbconvert_exporter": "python",
   "pygments_lexer": "ipython3",
   "version": "3.12.1"
  }
 },
 "nbformat": 4,
 "nbformat_minor": 5
}
