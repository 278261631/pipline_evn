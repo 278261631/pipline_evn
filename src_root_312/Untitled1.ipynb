{
 "cells": [
  {
   "cell_type": "code",
   "execution_count": 1,
   "id": "c3eba300-a994-4ec4-9234-7e5b60057ba0",
   "metadata": {
    "editable": true,
    "slideshow": {
     "slide_type": ""
    },
    "tags": []
   },
   "outputs": [
    {
     "data": {
      "text/html": [
       "<pre style=\"white-space:pre;overflow-x:auto;line-height:normal;font-family:Menlo,'DejaVu Sans Mono',consolas,'Courier New',monospace\">16:31:29.744 | <span style=\"color: #008080; text-decoration-color: #008080\">INFO</span>    | prefect.engine - Created flow run<span style=\"color: #800080; text-decoration-color: #800080\"> 'lovely-galago'</span> for flow<span style=\"color: #800080; text-decoration-color: #800080; font-weight: bold\"> 'example-execute-notebook'</span>\n",
       "</pre>\n"
      ],
      "text/plain": [
       "16:31:29.744 | \u001b[36mINFO\u001b[0m    | prefect.engine - Created flow run\u001b[35m 'lovely-galago'\u001b[0m for flow\u001b[1;35m 'example-execute-notebook'\u001b[0m\n"
      ]
     },
     "metadata": {},
     "output_type": "display_data"
    },
    {
     "data": {
      "text/html": [
       "<pre style=\"white-space:pre;overflow-x:auto;line-height:normal;font-family:Menlo,'DejaVu Sans Mono',consolas,'Courier New',monospace\">16:31:29.806 | <span style=\"color: #008080; text-decoration-color: #008080\">INFO</span>    | Flow run<span style=\"color: #800080; text-decoration-color: #800080\"> 'lovely-galago'</span> - Created task run 'execute_notebook-0' for task 'execute_notebook'\n",
       "</pre>\n"
      ],
      "text/plain": [
       "16:31:29.806 | \u001b[36mINFO\u001b[0m    | Flow run\u001b[35m 'lovely-galago'\u001b[0m - Created task run 'execute_notebook-0' for task 'execute_notebook'\n"
      ]
     },
     "metadata": {},
     "output_type": "display_data"
    },
    {
     "data": {
      "text/html": [
       "<pre style=\"white-space:pre;overflow-x:auto;line-height:normal;font-family:Menlo,'DejaVu Sans Mono',consolas,'Courier New',monospace\">16:31:29.807 | <span style=\"color: #008080; text-decoration-color: #008080\">INFO</span>    | Flow run<span style=\"color: #800080; text-decoration-color: #800080\"> 'lovely-galago'</span> - Executing 'execute_notebook-0' immediately...\n",
       "</pre>\n"
      ],
      "text/plain": [
       "16:31:29.807 | \u001b[36mINFO\u001b[0m    | Flow run\u001b[35m 'lovely-galago'\u001b[0m - Executing 'execute_notebook-0' immediately...\n"
      ]
     },
     "metadata": {},
     "output_type": "display_data"
    },
    {
     "data": {
      "application/vnd.jupyter.widget-view+json": {
       "model_id": "60c26bbe498d4353ae8b1fe118d0970b",
       "version_major": 2,
       "version_minor": 0
      },
      "text/plain": [
       "Executing:   0%|          | 0/3 [00:00<?, ?cell/s]"
      ]
     },
     "metadata": {},
     "output_type": "display_data"
    },
    {
     "data": {
      "text/html": [
       "<pre style=\"white-space:pre;overflow-x:auto;line-height:normal;font-family:Menlo,'DejaVu Sans Mono',consolas,'Courier New',monospace\">16:31:31.438 | <span style=\"color: #008080; text-decoration-color: #008080\">INFO</span>    | Task run 'execute_notebook-0' - Finished in state <span style=\"color: #008000; text-decoration-color: #008000\">Completed</span>()\n",
       "</pre>\n"
      ],
      "text/plain": [
       "16:31:31.438 | \u001b[36mINFO\u001b[0m    | Task run 'execute_notebook-0' - Finished in state \u001b[32mCompleted\u001b[0m()\n"
      ]
     },
     "metadata": {},
     "output_type": "display_data"
    },
    {
     "data": {
      "text/html": [
       "<pre style=\"white-space:pre;overflow-x:auto;line-height:normal;font-family:Menlo,'DejaVu Sans Mono',consolas,'Courier New',monospace\">16:31:31.459 | <span style=\"color: #008080; text-decoration-color: #008080\">INFO</span>    | Flow run<span style=\"color: #800080; text-decoration-color: #800080\"> 'lovely-galago'</span> - Created task run 'export_notebook-0' for task 'export_notebook'\n",
       "</pre>\n"
      ],
      "text/plain": [
       "16:31:31.459 | \u001b[36mINFO\u001b[0m    | Flow run\u001b[35m 'lovely-galago'\u001b[0m - Created task run 'export_notebook-0' for task 'export_notebook'\n"
      ]
     },
     "metadata": {},
     "output_type": "display_data"
    },
    {
     "data": {
      "text/html": [
       "<pre style=\"white-space:pre;overflow-x:auto;line-height:normal;font-family:Menlo,'DejaVu Sans Mono',consolas,'Courier New',monospace\">16:31:31.460 | <span style=\"color: #008080; text-decoration-color: #008080\">INFO</span>    | Flow run<span style=\"color: #800080; text-decoration-color: #800080\"> 'lovely-galago'</span> - Executing 'export_notebook-0' immediately...\n",
       "</pre>\n"
      ],
      "text/plain": [
       "16:31:31.460 | \u001b[36mINFO\u001b[0m    | Flow run\u001b[35m 'lovely-galago'\u001b[0m - Executing 'export_notebook-0' immediately...\n"
      ]
     },
     "metadata": {},
     "output_type": "display_data"
    },
    {
     "data": {
      "text/html": [
       "<pre style=\"white-space:pre;overflow-x:auto;line-height:normal;font-family:Menlo,'DejaVu Sans Mono',consolas,'Courier New',monospace\">16:31:31.805 | <span style=\"color: #008080; text-decoration-color: #008080\">INFO</span>    | Task run 'export_notebook-0' - Finished in state <span style=\"color: #008000; text-decoration-color: #008000\">Completed</span>()\n",
       "</pre>\n"
      ],
      "text/plain": [
       "16:31:31.805 | \u001b[36mINFO\u001b[0m    | Task run 'export_notebook-0' - Finished in state \u001b[32mCompleted\u001b[0m()\n"
      ]
     },
     "metadata": {},
     "output_type": "display_data"
    },
    {
     "data": {
      "text/html": [
       "<pre style=\"white-space:pre;overflow-x:auto;line-height:normal;font-family:Menlo,'DejaVu Sans Mono',consolas,'Courier New',monospace\">16:31:31.835 | <span style=\"color: #008080; text-decoration-color: #008080\">INFO</span>    | Flow run<span style=\"color: #800080; text-decoration-color: #800080\"> 'lovely-galago'</span> - Finished in state <span style=\"color: #008000; text-decoration-color: #008000\">Completed</span>()\n",
       "</pre>\n"
      ],
      "text/plain": [
       "16:31:31.835 | \u001b[36mINFO\u001b[0m    | Flow run\u001b[35m 'lovely-galago'\u001b[0m - Finished in state \u001b[32mCompleted\u001b[0m()\n"
      ]
     },
     "metadata": {},
     "output_type": "display_data"
    },
    {
     "data": {
      "text/plain": [
       "'executed_notebook.ipynb'"
      ]
     },
     "execution_count": 1,
     "metadata": {},
     "output_type": "execute_result"
    }
   ],
   "source": [
    "from prefect import flow\n",
    "from prefect_jupyter import notebook\n",
    "\n",
    "@flow\n",
    "def example_execute_notebook():\n",
    "    nb = notebook.execute_notebook(\n",
    "        \"test_notebook.ipynb\",\n",
    "        parameters={\"num\": 5}\n",
    "    )\n",
    "    body = notebook.export_notebook(nb)\n",
    "    output_path = \"executed_notebook.ipynb\"\n",
    "    with open(output_path, \"w\") as f:\n",
    "        f.write(body)\n",
    "    return output_path\n",
    "\n",
    "example_execute_notebook()\n"
   ]
  },
  {
   "cell_type": "code",
   "execution_count": null,
   "id": "ad58dc2c-768c-4181-b864-07538aa39b9d",
   "metadata": {
    "editable": true,
    "slideshow": {
     "slide_type": ""
    },
    "tags": []
   },
   "outputs": [],
   "source": []
  }
 ],
 "metadata": {
  "kernelspec": {
   "display_name": "Python 3 (ipykernel)",
   "language": "python",
   "name": "python3"
  },
  "language_info": {
   "codemirror_mode": {
    "name": "ipython",
    "version": 3
   },
   "file_extension": ".py",
   "mimetype": "text/x-python",
   "name": "python",
   "nbconvert_exporter": "python",
   "pygments_lexer": "ipython3",
   "version": "3.12.1"
  }
 },
 "nbformat": 4,
 "nbformat_minor": 5
}
