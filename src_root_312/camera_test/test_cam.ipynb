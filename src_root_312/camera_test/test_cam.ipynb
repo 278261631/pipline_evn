{
 "cells": [
  {
   "cell_type": "code",
   "execution_count": null,
   "id": "dd6405af-ed49-4f49-8542-45701f9a7293",
   "metadata": {},
   "outputs": [
    {
     "name": "stdout",
     "output_type": "stream",
     "text": [
      "9223372036854775807\n",
      "64-Bit\n",
      "Windows\n",
      "path: E:\\python\\src_root_312\\camera_test\n",
      "scan camera...\n",
      "cam   + QHY163M-28dfcb448cba4b153\n",
      "-  read mode - 1\n",
      "QHY163M-28dfcb448cba4b153  0 b'STANDARD MODE'\n"
     ]
    },
    {
     "data": {
      "text/html": [
       "<pre style=\"white-space:pre;overflow-x:auto;line-height:normal;font-family:Menlo,'DejaVu Sans Mono',consolas,'Courier New',monospace\">17:21:06.703 | <span style=\"color: #008080; text-decoration-color: #008080\">INFO</span>    | prefect.engine - Created flow run<span style=\"color: #800080; text-decoration-color: #800080\"> 'brave-skink'</span> for flow<span style=\"color: #800080; text-decoration-color: #800080; font-weight: bold\"> 'test-frame'</span>\n",
       "</pre>\n"
      ],
      "text/plain": [
       "17:21:06.703 | \u001b[36mINFO\u001b[0m    | prefect.engine - Created flow run\u001b[35m 'brave-skink'\u001b[0m for flow\u001b[1;35m 'test-frame'\u001b[0m\n"
      ]
     },
     "metadata": {},
     "output_type": "display_data"
    },
    {
     "data": {
      "text/html": [
       "<pre style=\"white-space:pre;overflow-x:auto;line-height:normal;font-family:Menlo,'DejaVu Sans Mono',consolas,'Courier New',monospace\">17:21:06.743 | <span style=\"color: #008080; text-decoration-color: #008080\">INFO</span>    | Flow run<span style=\"color: #800080; text-decoration-color: #800080\"> 'brave-skink'</span> - open camera QHY163M-28dfcb448cba4b153\n",
       "</pre>\n"
      ],
      "text/plain": [
       "17:21:06.743 | \u001b[36mINFO\u001b[0m    | Flow run\u001b[35m 'brave-skink'\u001b[0m - open camera QHY163M-28dfcb448cba4b153\n"
      ]
     },
     "metadata": {},
     "output_type": "display_data"
    },
    {
     "data": {
      "text/html": [
       "<pre style=\"white-space:pre;overflow-x:auto;line-height:normal;font-family:Menlo,'DejaVu Sans Mono',consolas,'Courier New',monospace\">17:21:06.854 | <span style=\"color: #008080; text-decoration-color: #008080\">INFO</span>    | Flow run<span style=\"color: #800080; text-decoration-color: #800080\"> 'brave-skink'</span> - set StreamMode   =0\n",
       "</pre>\n"
      ],
      "text/plain": [
       "17:21:06.854 | \u001b[36mINFO\u001b[0m    | Flow run\u001b[35m 'brave-skink'\u001b[0m - set StreamMode   =0\n"
      ]
     },
     "metadata": {},
     "output_type": "display_data"
    },
    {
     "data": {
      "text/html": [
       "<pre style=\"white-space:pre;overflow-x:auto;line-height:normal;font-family:Menlo,'DejaVu Sans Mono',consolas,'Courier New',monospace\">17:21:07.131 | <span style=\"color: #008080; text-decoration-color: #008080\">INFO</span>    | Flow run<span style=\"color: #800080; text-decoration-color: #800080\"> 'brave-skink'</span> - init Camera   =0\n",
       "</pre>\n"
      ],
      "text/plain": [
       "17:21:07.131 | \u001b[36mINFO\u001b[0m    | Flow run\u001b[35m 'brave-skink'\u001b[0m - init Camera   =0\n"
      ]
     },
     "metadata": {},
     "output_type": "display_data"
    },
    {
     "data": {
      "text/html": [
       "<pre style=\"white-space:pre;overflow-x:auto;line-height:normal;font-family:Menlo,'DejaVu Sans Mono',consolas,'Courier New',monospace\">17:21:07.134 | <span style=\"color: #008080; text-decoration-color: #008080\">INFO</span>    | Flow run<span style=\"color: #800080; text-decoration-color: #800080\"> 'brave-skink'</span> - info.   =0\n",
       "</pre>\n"
      ],
      "text/plain": [
       "17:21:07.134 | \u001b[36mINFO\u001b[0m    | Flow run\u001b[35m 'brave-skink'\u001b[0m - info.   =0\n"
      ]
     },
     "metadata": {},
     "output_type": "display_data"
    },
    {
     "data": {
      "text/html": [
       "<pre style=\"white-space:pre;overflow-x:auto;line-height:normal;font-family:Menlo,'DejaVu Sans Mono',consolas,'Courier New',monospace\">17:21:07.135 | <span style=\"color: #008080; text-decoration-color: #008080\">INFO</span>    | Flow run<span style=\"color: #800080; text-decoration-color: #800080\"> 'brave-skink'</span> - c-w:     17.6472\n",
       "</pre>\n"
      ],
      "text/plain": [
       "17:21:07.135 | \u001b[36mINFO\u001b[0m    | Flow run\u001b[35m 'brave-skink'\u001b[0m - c-w:     17.6472\n"
      ]
     },
     "metadata": {},
     "output_type": "display_data"
    },
    {
     "data": {
      "text/html": [
       "<pre style=\"white-space:pre;overflow-x:auto;line-height:normal;font-family:Menlo,'DejaVu Sans Mono',consolas,'Courier New',monospace\">17:21:07.139 | <span style=\"color: #008080; text-decoration-color: #008080\">INFO</span>    | Flow run<span style=\"color: #800080; text-decoration-color: #800080\"> 'brave-skink'</span> -     c-h: 13.3228\n",
       "</pre>\n"
      ],
      "text/plain": [
       "17:21:07.139 | \u001b[36mINFO\u001b[0m    | Flow run\u001b[35m 'brave-skink'\u001b[0m -     c-h: 13.3228\n"
      ]
     },
     "metadata": {},
     "output_type": "display_data"
    },
    {
     "data": {
      "text/html": [
       "<pre style=\"white-space:pre;overflow-x:auto;line-height:normal;font-family:Menlo,'DejaVu Sans Mono',consolas,'Courier New',monospace\">17:21:07.141 | <span style=\"color: #008080; text-decoration-color: #008080\">INFO</span>    | Flow run<span style=\"color: #800080; text-decoration-color: #800080\"> 'brave-skink'</span> - p-w:     3.8\n",
       "</pre>\n"
      ],
      "text/plain": [
       "17:21:07.141 | \u001b[36mINFO\u001b[0m    | Flow run\u001b[35m 'brave-skink'\u001b[0m - p-w:     3.8\n"
      ]
     },
     "metadata": {},
     "output_type": "display_data"
    },
    {
     "data": {
      "text/html": [
       "<pre style=\"white-space:pre;overflow-x:auto;line-height:normal;font-family:Menlo,'DejaVu Sans Mono',consolas,'Courier New',monospace\">17:21:07.142 | <span style=\"color: #008080; text-decoration-color: #008080\">INFO</span>    | Flow run<span style=\"color: #800080; text-decoration-color: #800080\"> 'brave-skink'</span> -     p-h: 3.8\n",
       "</pre>\n"
      ],
      "text/plain": [
       "17:21:07.142 | \u001b[36mINFO\u001b[0m    | Flow run\u001b[35m 'brave-skink'\u001b[0m -     p-h: 3.8\n"
      ]
     },
     "metadata": {},
     "output_type": "display_data"
    },
    {
     "data": {
      "text/html": [
       "<pre style=\"white-space:pre;overflow-x:auto;line-height:normal;font-family:Menlo,'DejaVu Sans Mono',consolas,'Courier New',monospace\">17:21:07.144 | <span style=\"color: #008080; text-decoration-color: #008080\">INFO</span>    | Flow run<span style=\"color: #800080; text-decoration-color: #800080\"> 'brave-skink'</span> - i-w:     4656\n",
       "</pre>\n"
      ],
      "text/plain": [
       "17:21:07.144 | \u001b[36mINFO\u001b[0m    | Flow run\u001b[35m 'brave-skink'\u001b[0m - i-w:     4656\n"
      ]
     },
     "metadata": {},
     "output_type": "display_data"
    },
    {
     "data": {
      "text/html": [
       "<pre style=\"white-space:pre;overflow-x:auto;line-height:normal;font-family:Menlo,'DejaVu Sans Mono',consolas,'Courier New',monospace\">17:21:07.145 | <span style=\"color: #008080; text-decoration-color: #008080\">INFO</span>    | Flow run<span style=\"color: #800080; text-decoration-color: #800080\"> 'brave-skink'</span> -     i-h: 3522\n",
       "</pre>\n"
      ],
      "text/plain": [
       "17:21:07.145 | \u001b[36mINFO\u001b[0m    | Flow run\u001b[35m 'brave-skink'\u001b[0m -     i-h: 3522\n"
      ]
     },
     "metadata": {},
     "output_type": "display_data"
    },
    {
     "data": {
      "text/html": [
       "<pre style=\"white-space:pre;overflow-x:auto;line-height:normal;font-family:Menlo,'DejaVu Sans Mono',consolas,'Courier New',monospace\">17:21:07.146 | <span style=\"color: #008080; text-decoration-color: #008080\">INFO</span>    | Flow run<span style=\"color: #800080; text-decoration-color: #800080\"> 'brave-skink'</span> - bit: 16\n",
       "</pre>\n"
      ],
      "text/plain": [
       "17:21:07.146 | \u001b[36mINFO\u001b[0m    | Flow run\u001b[35m 'brave-skink'\u001b[0m - bit: 16\n"
      ]
     },
     "metadata": {},
     "output_type": "display_data"
    },
    {
     "data": {
      "text/html": [
       "<pre style=\"white-space:pre;overflow-x:auto;line-height:normal;font-family:Menlo,'DejaVu Sans Mono',consolas,'Courier New',monospace\">17:21:07.148 | <span style=\"color: #008080; text-decoration-color: #008080\">INFO</span>    | Flow run<span style=\"color: #800080; text-decoration-color: #800080\"> 'brave-skink'</span> - mem len: 68904928\n",
       "</pre>\n"
      ],
      "text/plain": [
       "17:21:07.148 | \u001b[36mINFO\u001b[0m    | Flow run\u001b[35m 'brave-skink'\u001b[0m - mem len: 68904928\n"
      ]
     },
     "metadata": {},
     "output_type": "display_data"
    },
    {
     "data": {
      "text/html": [
       "<pre style=\"white-space:pre;overflow-x:auto;line-height:normal;font-family:Menlo,'DejaVu Sans Mono',consolas,'Courier New',monospace\">17:21:07.149 | <span style=\"color: #008080; text-decoration-color: #008080\">INFO</span>    | Flow run<span style=\"color: #800080; text-decoration-color: #800080\"> 'brave-skink'</span> - using c_uint16()\n",
       "</pre>\n"
      ],
      "text/plain": [
       "17:21:07.149 | \u001b[36mINFO\u001b[0m    | Flow run\u001b[35m 'brave-skink'\u001b[0m - using c_uint16()\n"
      ]
     },
     "metadata": {},
     "output_type": "display_data"
    },
    {
     "data": {
      "text/html": [
       "<pre style=\"white-space:pre;overflow-x:auto;line-height:normal;font-family:Menlo,'DejaVu Sans Mono',consolas,'Courier New',monospace\">17:21:07.332 | <span style=\"color: #008080; text-decoration-color: #008080\">INFO</span>    | Flow run<span style=\"color: #800080; text-decoration-color: #800080\"> 'brave-skink'</span> - exp  single = 8193\n",
       "</pre>\n"
      ],
      "text/plain": [
       "17:21:07.332 | \u001b[36mINFO\u001b[0m    | Flow run\u001b[35m 'brave-skink'\u001b[0m - exp  single = 8193\n"
      ]
     },
     "metadata": {},
     "output_type": "display_data"
    },
    {
     "data": {
      "text/html": [
       "<pre style=\"white-space:pre;overflow-x:auto;line-height:normal;font-family:Menlo,'DejaVu Sans Mono',consolas,'Courier New',monospace\">17:21:08.188 | <span style=\"color: #008080; text-decoration-color: #008080\">INFO</span>    | Flow run<span style=\"color: #800080; text-decoration-color: #800080\"> 'brave-skink'</span> - read  single = 0\n",
       "</pre>\n"
      ],
      "text/plain": [
       "17:21:08.188 | \u001b[36mINFO\u001b[0m    | Flow run\u001b[35m 'brave-skink'\u001b[0m - read  single = 0\n"
      ]
     },
     "metadata": {},
     "output_type": "display_data"
    },
    {
     "data": {
      "text/html": [
       "<pre style=\"white-space:pre;overflow-x:auto;line-height:normal;font-family:Menlo,'DejaVu Sans Mono',consolas,'Courier New',monospace\">17:21:10.191 | <span style=\"color: #008080; text-decoration-color: #008080\">INFO</span>    | Flow run<span style=\"color: #800080; text-decoration-color: #800080\"> 'brave-skink'</span> - ----------------&gt;34452464\n",
       "</pre>\n"
      ],
      "text/plain": [
       "17:21:10.191 | \u001b[36mINFO\u001b[0m    | Flow run\u001b[35m 'brave-skink'\u001b[0m - ---------------->34452464\n"
      ]
     },
     "metadata": {},
     "output_type": "display_data"
    },
    {
     "data": {
      "text/html": [
       "<pre style=\"white-space:pre;overflow-x:auto;line-height:normal;font-family:Menlo,'DejaVu Sans Mono',consolas,'Courier New',monospace\">17:21:10.192 | <span style=\"color: #008080; text-decoration-color: #008080\">INFO</span>    | Flow run<span style=\"color: #800080; text-decoration-color: #800080\"> 'brave-skink'</span> - image size =     16398432\n",
       "</pre>\n"
      ],
      "text/plain": [
       "17:21:10.192 | \u001b[36mINFO\u001b[0m    | Flow run\u001b[35m 'brave-skink'\u001b[0m - image size =     16398432\n"
      ]
     },
     "metadata": {},
     "output_type": "display_data"
    },
    {
     "data": {
      "text/html": [
       "<pre style=\"white-space:pre;overflow-x:auto;line-height:normal;font-family:Menlo,'DejaVu Sans Mono',consolas,'Courier New',monospace\">17:21:10.194 | <span style=\"color: #008080; text-decoration-color: #008080\">INFO</span>    | Flow run<span style=\"color: #800080; text-decoration-color: #800080\"> 'brave-skink'</span> - prev_img_list sub length--&gt;34452464\n",
       "</pre>\n"
      ],
      "text/plain": [
       "17:21:10.194 | \u001b[36mINFO\u001b[0m    | Flow run\u001b[35m 'brave-skink'\u001b[0m - prev_img_list sub length-->34452464\n"
      ]
     },
     "metadata": {},
     "output_type": "display_data"
    },
    {
     "data": {
      "text/html": [
       "<pre style=\"white-space:pre;overflow-x:auto;line-height:normal;font-family:Menlo,'DejaVu Sans Mono',consolas,'Courier New',monospace\">17:21:10.195 | <span style=\"color: #008080; text-decoration-color: #008080\">INFO</span>    | Flow run<span style=\"color: #800080; text-decoration-color: #800080\"> 'brave-skink'</span> - Image W=4656        H=3522\n",
       "</pre>\n"
      ],
      "text/plain": [
       "17:21:10.195 | \u001b[36mINFO\u001b[0m    | Flow run\u001b[35m 'brave-skink'\u001b[0m - Image W=4656        H=3522\n"
      ]
     },
     "metadata": {},
     "output_type": "display_data"
    },
    {
     "name": "stderr",
     "output_type": "stream",
     "text": [
      "C:\\Users\\Administrator\\AppData\\Local\\Temp\\ipykernel_20396\\3833557296.py:235: UserWarning: 任务执行结果为42，这可能需要注意！\n",
      "  warnings.warn(\"任务执行结果为42，这可能需要注意！\")\n"
     ]
    },
    {
     "data": {
      "text/html": [
       "<pre style=\"white-space:pre;overflow-x:auto;line-height:normal;font-family:Menlo,'DejaVu Sans Mono',consolas,'Courier New',monospace\">17:21:10.271 | <span style=\"color: #008080; text-decoration-color: #008080\">INFO</span>    | Flow run<span style=\"color: #800080; text-decoration-color: #800080\"> 'brave-skink'</span> - ----   readMode 0 / stream 0 / bit 16 / frame 1 ---------&gt;\n",
       "</pre>\n"
      ],
      "text/plain": [
       "17:21:10.271 | \u001b[36mINFO\u001b[0m    | Flow run\u001b[35m 'brave-skink'\u001b[0m - ----   readMode 0 / stream 0 / bit 16 / frame 1 --------->\n"
      ]
     },
     "metadata": {},
     "output_type": "display_data"
    },
    {
     "data": {
      "text/html": [
       "<pre style=\"white-space:pre;overflow-x:auto;line-height:normal;font-family:Menlo,'DejaVu Sans Mono',consolas,'Courier New',monospace\">17:21:11.442 | <span style=\"color: #008080; text-decoration-color: #008080\">INFO</span>    | Flow run<span style=\"color: #800080; text-decoration-color: #800080\"> 'brave-skink'</span> - exp  single = 8193\n",
       "</pre>\n"
      ],
      "text/plain": [
       "17:21:11.442 | \u001b[36mINFO\u001b[0m    | Flow run\u001b[35m 'brave-skink'\u001b[0m - exp  single = 8193\n"
      ]
     },
     "metadata": {},
     "output_type": "display_data"
    },
    {
     "data": {
      "text/html": [
       "<pre style=\"white-space:pre;overflow-x:auto;line-height:normal;font-family:Menlo,'DejaVu Sans Mono',consolas,'Courier New',monospace\">17:21:12.274 | <span style=\"color: #008080; text-decoration-color: #008080\">INFO</span>    | Flow run<span style=\"color: #800080; text-decoration-color: #800080\"> 'brave-skink'</span> - read  single = 0\n",
       "</pre>\n"
      ],
      "text/plain": [
       "17:21:12.274 | \u001b[36mINFO\u001b[0m    | Flow run\u001b[35m 'brave-skink'\u001b[0m - read  single = 0\n"
      ]
     },
     "metadata": {},
     "output_type": "display_data"
    },
    {
     "data": {
      "text/html": [
       "<pre style=\"white-space:pre;overflow-x:auto;line-height:normal;font-family:Menlo,'DejaVu Sans Mono',consolas,'Courier New',monospace\">17:21:14.277 | <span style=\"color: #008080; text-decoration-color: #008080\">INFO</span>    | Flow run<span style=\"color: #800080; text-decoration-color: #800080\"> 'brave-skink'</span> - ----------------&gt;34452464\n",
       "</pre>\n"
      ],
      "text/plain": [
       "17:21:14.277 | \u001b[36mINFO\u001b[0m    | Flow run\u001b[35m 'brave-skink'\u001b[0m - ---------------->34452464\n"
      ]
     },
     "metadata": {},
     "output_type": "display_data"
    },
    {
     "data": {
      "text/html": [
       "<pre style=\"white-space:pre;overflow-x:auto;line-height:normal;font-family:Menlo,'DejaVu Sans Mono',consolas,'Courier New',monospace\">17:21:14.278 | <span style=\"color: #008080; text-decoration-color: #008080\">INFO</span>    | Flow run<span style=\"color: #800080; text-decoration-color: #800080\"> 'brave-skink'</span> - image size =     16398432\n",
       "</pre>\n"
      ],
      "text/plain": [
       "17:21:14.278 | \u001b[36mINFO\u001b[0m    | Flow run\u001b[35m 'brave-skink'\u001b[0m - image size =     16398432\n"
      ]
     },
     "metadata": {},
     "output_type": "display_data"
    },
    {
     "data": {
      "text/html": [
       "<pre style=\"white-space:pre;overflow-x:auto;line-height:normal;font-family:Menlo,'DejaVu Sans Mono',consolas,'Courier New',monospace\">17:21:14.280 | <span style=\"color: #008080; text-decoration-color: #008080\">INFO</span>    | Flow run<span style=\"color: #800080; text-decoration-color: #800080\"> 'brave-skink'</span> - prev_img_list sub length--&gt;34452464\n",
       "</pre>\n"
      ],
      "text/plain": [
       "17:21:14.280 | \u001b[36mINFO\u001b[0m    | Flow run\u001b[35m 'brave-skink'\u001b[0m - prev_img_list sub length-->34452464\n"
      ]
     },
     "metadata": {},
     "output_type": "display_data"
    },
    {
     "data": {
      "text/html": [
       "<pre style=\"white-space:pre;overflow-x:auto;line-height:normal;font-family:Menlo,'DejaVu Sans Mono',consolas,'Courier New',monospace\">17:21:14.282 | <span style=\"color: #008080; text-decoration-color: #008080\">INFO</span>    | Flow run<span style=\"color: #800080; text-decoration-color: #800080\"> 'brave-skink'</span> - Image W=4656        H=3522\n",
       "</pre>\n"
      ],
      "text/plain": [
       "17:21:14.282 | \u001b[36mINFO\u001b[0m    | Flow run\u001b[35m 'brave-skink'\u001b[0m - Image W=4656        H=3522\n"
      ]
     },
     "metadata": {},
     "output_type": "display_data"
    },
    {
     "data": {
      "text/html": [
       "<pre style=\"white-space:pre;overflow-x:auto;line-height:normal;font-family:Menlo,'DejaVu Sans Mono',consolas,'Courier New',monospace\">17:21:14.363 | <span style=\"color: #008080; text-decoration-color: #008080\">INFO</span>    | Flow run<span style=\"color: #800080; text-decoration-color: #800080\"> 'brave-skink'</span> - ----   readMode 0 / stream 0 / bit 16 / frame 2 ---------&gt;\n",
       "</pre>\n"
      ],
      "text/plain": [
       "17:21:14.363 | \u001b[36mINFO\u001b[0m    | Flow run\u001b[35m 'brave-skink'\u001b[0m - ----   readMode 0 / stream 0 / bit 16 / frame 2 --------->\n"
      ]
     },
     "metadata": {},
     "output_type": "display_data"
    },
    {
     "data": {
      "text/html": [
       "<pre style=\"white-space:pre;overflow-x:auto;line-height:normal;font-family:Menlo,'DejaVu Sans Mono',consolas,'Courier New',monospace\">17:21:15.403 | <span style=\"color: #008080; text-decoration-color: #008080\">INFO</span>    | Flow run<span style=\"color: #800080; text-decoration-color: #800080\"> 'brave-skink'</span> - Finished in state <span style=\"color: #008000; text-decoration-color: #008000\">Completed</span>()\n",
       "</pre>\n"
      ],
      "text/plain": [
       "17:21:15.403 | \u001b[36mINFO\u001b[0m    | Flow run\u001b[35m 'brave-skink'\u001b[0m - Finished in state \u001b[32mCompleted\u001b[0m()\n"
      ]
     },
     "metadata": {},
     "output_type": "display_data"
    },
    {
     "data": {
      "text/html": [
       "<pre style=\"white-space:pre;overflow-x:auto;line-height:normal;font-family:Menlo,'DejaVu Sans Mono',consolas,'Courier New',monospace\">17:21:15.557 | <span style=\"color: #008080; text-decoration-color: #008080\">INFO</span>    | prefect.engine - Created flow run<span style=\"color: #800080; text-decoration-color: #800080\"> 'cordial-cow'</span> for flow<span style=\"color: #800080; text-decoration-color: #800080; font-weight: bold\"> 'test-frame'</span>\n",
       "</pre>\n"
      ],
      "text/plain": [
       "17:21:15.557 | \u001b[36mINFO\u001b[0m    | prefect.engine - Created flow run\u001b[35m 'cordial-cow'\u001b[0m for flow\u001b[1;35m 'test-frame'\u001b[0m\n"
      ]
     },
     "metadata": {},
     "output_type": "display_data"
    },
    {
     "data": {
      "text/html": [
       "<pre style=\"white-space:pre;overflow-x:auto;line-height:normal;font-family:Menlo,'DejaVu Sans Mono',consolas,'Courier New',monospace\">17:21:15.592 | <span style=\"color: #008080; text-decoration-color: #008080\">INFO</span>    | Flow run<span style=\"color: #800080; text-decoration-color: #800080\"> 'cordial-cow'</span> - open camera QHY163M-28dfcb448cba4b153\n",
       "</pre>\n"
      ],
      "text/plain": [
       "17:21:15.592 | \u001b[36mINFO\u001b[0m    | Flow run\u001b[35m 'cordial-cow'\u001b[0m - open camera QHY163M-28dfcb448cba4b153\n"
      ]
     },
     "metadata": {},
     "output_type": "display_data"
    },
    {
     "data": {
      "text/html": [
       "<pre style=\"white-space:pre;overflow-x:auto;line-height:normal;font-family:Menlo,'DejaVu Sans Mono',consolas,'Courier New',monospace\">17:21:15.594 | <span style=\"color: #008080; text-decoration-color: #008080\">INFO</span>    | Flow run<span style=\"color: #800080; text-decoration-color: #800080\"> 'cordial-cow'</span> - set StreamMode   =0\n",
       "</pre>\n"
      ],
      "text/plain": [
       "17:21:15.594 | \u001b[36mINFO\u001b[0m    | Flow run\u001b[35m 'cordial-cow'\u001b[0m - set StreamMode   =0\n"
      ]
     },
     "metadata": {},
     "output_type": "display_data"
    },
    {
     "data": {
      "text/html": [
       "<pre style=\"white-space:pre;overflow-x:auto;line-height:normal;font-family:Menlo,'DejaVu Sans Mono',consolas,'Courier New',monospace\">17:21:15.795 | <span style=\"color: #008080; text-decoration-color: #008080\">INFO</span>    | Flow run<span style=\"color: #800080; text-decoration-color: #800080\"> 'cordial-cow'</span> - init Camera   =0\n",
       "</pre>\n"
      ],
      "text/plain": [
       "17:21:15.795 | \u001b[36mINFO\u001b[0m    | Flow run\u001b[35m 'cordial-cow'\u001b[0m - init Camera   =0\n"
      ]
     },
     "metadata": {},
     "output_type": "display_data"
    },
    {
     "data": {
      "text/html": [
       "<pre style=\"white-space:pre;overflow-x:auto;line-height:normal;font-family:Menlo,'DejaVu Sans Mono',consolas,'Courier New',monospace\">17:21:15.931 | <span style=\"color: #008080; text-decoration-color: #008080\">INFO</span>    | Flow run<span style=\"color: #800080; text-decoration-color: #800080\"> 'cordial-cow'</span> - info.   =0\n",
       "</pre>\n"
      ],
      "text/plain": [
       "17:21:15.931 | \u001b[36mINFO\u001b[0m    | Flow run\u001b[35m 'cordial-cow'\u001b[0m - info.   =0\n"
      ]
     },
     "metadata": {},
     "output_type": "display_data"
    },
    {
     "data": {
      "text/html": [
       "<pre style=\"white-space:pre;overflow-x:auto;line-height:normal;font-family:Menlo,'DejaVu Sans Mono',consolas,'Courier New',monospace\">17:21:15.932 | <span style=\"color: #008080; text-decoration-color: #008080\">INFO</span>    | Flow run<span style=\"color: #800080; text-decoration-color: #800080\"> 'cordial-cow'</span> - c-w:     17.6472\n",
       "</pre>\n"
      ],
      "text/plain": [
       "17:21:15.932 | \u001b[36mINFO\u001b[0m    | Flow run\u001b[35m 'cordial-cow'\u001b[0m - c-w:     17.6472\n"
      ]
     },
     "metadata": {},
     "output_type": "display_data"
    },
    {
     "data": {
      "text/html": [
       "<pre style=\"white-space:pre;overflow-x:auto;line-height:normal;font-family:Menlo,'DejaVu Sans Mono',consolas,'Courier New',monospace\">17:21:15.934 | <span style=\"color: #008080; text-decoration-color: #008080\">INFO</span>    | Flow run<span style=\"color: #800080; text-decoration-color: #800080\"> 'cordial-cow'</span> -     c-h: 13.3228\n",
       "</pre>\n"
      ],
      "text/plain": [
       "17:21:15.934 | \u001b[36mINFO\u001b[0m    | Flow run\u001b[35m 'cordial-cow'\u001b[0m -     c-h: 13.3228\n"
      ]
     },
     "metadata": {},
     "output_type": "display_data"
    },
    {
     "data": {
      "text/html": [
       "<pre style=\"white-space:pre;overflow-x:auto;line-height:normal;font-family:Menlo,'DejaVu Sans Mono',consolas,'Courier New',monospace\">17:21:15.935 | <span style=\"color: #008080; text-decoration-color: #008080\">INFO</span>    | Flow run<span style=\"color: #800080; text-decoration-color: #800080\"> 'cordial-cow'</span> - p-w:     3.8\n",
       "</pre>\n"
      ],
      "text/plain": [
       "17:21:15.935 | \u001b[36mINFO\u001b[0m    | Flow run\u001b[35m 'cordial-cow'\u001b[0m - p-w:     3.8\n"
      ]
     },
     "metadata": {},
     "output_type": "display_data"
    },
    {
     "data": {
      "text/html": [
       "<pre style=\"white-space:pre;overflow-x:auto;line-height:normal;font-family:Menlo,'DejaVu Sans Mono',consolas,'Courier New',monospace\">17:21:15.936 | <span style=\"color: #008080; text-decoration-color: #008080\">INFO</span>    | Flow run<span style=\"color: #800080; text-decoration-color: #800080\"> 'cordial-cow'</span> -     p-h: 3.8\n",
       "</pre>\n"
      ],
      "text/plain": [
       "17:21:15.936 | \u001b[36mINFO\u001b[0m    | Flow run\u001b[35m 'cordial-cow'\u001b[0m -     p-h: 3.8\n"
      ]
     },
     "metadata": {},
     "output_type": "display_data"
    },
    {
     "data": {
      "text/html": [
       "<pre style=\"white-space:pre;overflow-x:auto;line-height:normal;font-family:Menlo,'DejaVu Sans Mono',consolas,'Courier New',monospace\">17:21:15.938 | <span style=\"color: #008080; text-decoration-color: #008080\">INFO</span>    | Flow run<span style=\"color: #800080; text-decoration-color: #800080\"> 'cordial-cow'</span> - i-w:     4656\n",
       "</pre>\n"
      ],
      "text/plain": [
       "17:21:15.938 | \u001b[36mINFO\u001b[0m    | Flow run\u001b[35m 'cordial-cow'\u001b[0m - i-w:     4656\n"
      ]
     },
     "metadata": {},
     "output_type": "display_data"
    },
    {
     "data": {
      "text/html": [
       "<pre style=\"white-space:pre;overflow-x:auto;line-height:normal;font-family:Menlo,'DejaVu Sans Mono',consolas,'Courier New',monospace\">17:21:15.939 | <span style=\"color: #008080; text-decoration-color: #008080\">INFO</span>    | Flow run<span style=\"color: #800080; text-decoration-color: #800080\"> 'cordial-cow'</span> -     i-h: 3522\n",
       "</pre>\n"
      ],
      "text/plain": [
       "17:21:15.939 | \u001b[36mINFO\u001b[0m    | Flow run\u001b[35m 'cordial-cow'\u001b[0m -     i-h: 3522\n"
      ]
     },
     "metadata": {},
     "output_type": "display_data"
    },
    {
     "data": {
      "text/html": [
       "<pre style=\"white-space:pre;overflow-x:auto;line-height:normal;font-family:Menlo,'DejaVu Sans Mono',consolas,'Courier New',monospace\">17:21:15.941 | <span style=\"color: #008080; text-decoration-color: #008080\">INFO</span>    | Flow run<span style=\"color: #800080; text-decoration-color: #800080\"> 'cordial-cow'</span> - bit: 16\n",
       "</pre>\n"
      ],
      "text/plain": [
       "17:21:15.941 | \u001b[36mINFO\u001b[0m    | Flow run\u001b[35m 'cordial-cow'\u001b[0m - bit: 16\n"
      ]
     },
     "metadata": {},
     "output_type": "display_data"
    },
    {
     "data": {
      "text/html": [
       "<pre style=\"white-space:pre;overflow-x:auto;line-height:normal;font-family:Menlo,'DejaVu Sans Mono',consolas,'Courier New',monospace\">17:21:15.942 | <span style=\"color: #008080; text-decoration-color: #008080\">INFO</span>    | Flow run<span style=\"color: #800080; text-decoration-color: #800080\"> 'cordial-cow'</span> - mem len: 68904928\n",
       "</pre>\n"
      ],
      "text/plain": [
       "17:21:15.942 | \u001b[36mINFO\u001b[0m    | Flow run\u001b[35m 'cordial-cow'\u001b[0m - mem len: 68904928\n"
      ]
     },
     "metadata": {},
     "output_type": "display_data"
    },
    {
     "data": {
      "text/html": [
       "<pre style=\"white-space:pre;overflow-x:auto;line-height:normal;font-family:Menlo,'DejaVu Sans Mono',consolas,'Courier New',monospace\">17:21:15.943 | <span style=\"color: #008080; text-decoration-color: #008080\">INFO</span>    | Flow run<span style=\"color: #800080; text-decoration-color: #800080\"> 'cordial-cow'</span> - using c_uint16()\n",
       "</pre>\n"
      ],
      "text/plain": [
       "17:21:15.943 | \u001b[36mINFO\u001b[0m    | Flow run\u001b[35m 'cordial-cow'\u001b[0m - using c_uint16()\n"
      ]
     },
     "metadata": {},
     "output_type": "display_data"
    },
    {
     "data": {
      "text/html": [
       "<pre style=\"white-space:pre;overflow-x:auto;line-height:normal;font-family:Menlo,'DejaVu Sans Mono',consolas,'Courier New',monospace\">17:21:15.970 | <span style=\"color: #008080; text-decoration-color: #008080\">INFO</span>    | Flow run<span style=\"color: #800080; text-decoration-color: #800080\"> 'cordial-cow'</span> - exp  Live = 0\n",
       "</pre>\n"
      ],
      "text/plain": [
       "17:21:15.970 | \u001b[36mINFO\u001b[0m    | Flow run\u001b[35m 'cordial-cow'\u001b[0m - exp  Live = 0\n"
      ]
     },
     "metadata": {},
     "output_type": "display_data"
    },
    {
     "data": {
      "text/html": [
       "<pre style=\"white-space:pre;overflow-x:auto;line-height:normal;font-family:Menlo,'DejaVu Sans Mono',consolas,'Courier New',monospace\">17:21:15.985 | <span style=\"color: #008080; text-decoration-color: #008080\">INFO</span>    | Flow run<span style=\"color: #800080; text-decoration-color: #800080\"> 'cordial-cow'</span> - read  single = -1\n",
       "</pre>\n"
      ],
      "text/plain": [
       "17:21:15.985 | \u001b[36mINFO\u001b[0m    | Flow run\u001b[35m 'cordial-cow'\u001b[0m - read  single = -1\n"
      ]
     },
     "metadata": {},
     "output_type": "display_data"
    },
    {
     "data": {
      "text/html": [
       "<pre style=\"white-space:pre;overflow-x:auto;line-height:normal;font-family:Menlo,'DejaVu Sans Mono',consolas,'Courier New',monospace\">17:21:17.988 | <span style=\"color: #008080; text-decoration-color: #008080\">INFO</span>    | Flow run<span style=\"color: #800080; text-decoration-color: #800080\"> 'cordial-cow'</span> - success != 0  = -1\n",
       "</pre>\n"
      ],
      "text/plain": [
       "17:21:17.988 | \u001b[36mINFO\u001b[0m    | Flow run\u001b[35m 'cordial-cow'\u001b[0m - success != 0  = -1\n"
      ]
     },
     "metadata": {},
     "output_type": "display_data"
    },
    {
     "data": {
      "text/html": [
       "<pre style=\"white-space:pre;overflow-x:auto;line-height:normal;font-family:Menlo,'DejaVu Sans Mono',consolas,'Courier New',monospace\">17:21:18.990 | <span style=\"color: #008080; text-decoration-color: #008080\">INFO</span>    | Flow run<span style=\"color: #800080; text-decoration-color: #800080\"> 'cordial-cow'</span> - success != 0  = -1\n",
       "</pre>\n"
      ],
      "text/plain": [
       "17:21:18.990 | \u001b[36mINFO\u001b[0m    | Flow run\u001b[35m 'cordial-cow'\u001b[0m - success != 0  = -1\n"
      ]
     },
     "metadata": {},
     "output_type": "display_data"
    },
    {
     "data": {
      "text/html": [
       "<pre style=\"white-space:pre;overflow-x:auto;line-height:normal;font-family:Menlo,'DejaVu Sans Mono',consolas,'Courier New',monospace\">17:21:19.992 | <span style=\"color: #008080; text-decoration-color: #008080\">INFO</span>    | Flow run<span style=\"color: #800080; text-decoration-color: #800080\"> 'cordial-cow'</span> - success != 0  = -1\n",
       "</pre>\n"
      ],
      "text/plain": [
       "17:21:19.992 | \u001b[36mINFO\u001b[0m    | Flow run\u001b[35m 'cordial-cow'\u001b[0m - success != 0  = -1\n"
      ]
     },
     "metadata": {},
     "output_type": "display_data"
    },
    {
     "data": {
      "text/html": [
       "<pre style=\"white-space:pre;overflow-x:auto;line-height:normal;font-family:Menlo,'DejaVu Sans Mono',consolas,'Courier New',monospace\">17:21:20.995 | <span style=\"color: #008080; text-decoration-color: #008080\">INFO</span>    | Flow run<span style=\"color: #800080; text-decoration-color: #800080\"> 'cordial-cow'</span> - success != 0  = -1\n",
       "</pre>\n"
      ],
      "text/plain": [
       "17:21:20.995 | \u001b[36mINFO\u001b[0m    | Flow run\u001b[35m 'cordial-cow'\u001b[0m - success != 0  = -1\n"
      ]
     },
     "metadata": {},
     "output_type": "display_data"
    },
    {
     "data": {
      "text/html": [
       "<pre style=\"white-space:pre;overflow-x:auto;line-height:normal;font-family:Menlo,'DejaVu Sans Mono',consolas,'Courier New',monospace\">17:21:21.997 | <span style=\"color: #008080; text-decoration-color: #008080\">INFO</span>    | Flow run<span style=\"color: #800080; text-decoration-color: #800080\"> 'cordial-cow'</span> - success != 0  = -1\n",
       "</pre>\n"
      ],
      "text/plain": [
       "17:21:21.997 | \u001b[36mINFO\u001b[0m    | Flow run\u001b[35m 'cordial-cow'\u001b[0m - success != 0  = -1\n"
      ]
     },
     "metadata": {},
     "output_type": "display_data"
    },
    {
     "data": {
      "text/html": [
       "<pre style=\"white-space:pre;overflow-x:auto;line-height:normal;font-family:Menlo,'DejaVu Sans Mono',consolas,'Courier New',monospace\">17:21:23.000 | <span style=\"color: #008080; text-decoration-color: #008080\">INFO</span>    | Flow run<span style=\"color: #800080; text-decoration-color: #800080\"> 'cordial-cow'</span> - skip frame in live mode  [1]\n",
       "</pre>\n"
      ],
      "text/plain": [
       "17:21:23.000 | \u001b[36mINFO\u001b[0m    | Flow run\u001b[35m 'cordial-cow'\u001b[0m - skip frame in live mode  [1]\n"
      ]
     },
     "metadata": {},
     "output_type": "display_data"
    },
    {
     "data": {
      "text/html": [
       "<pre style=\"white-space:pre;overflow-x:auto;line-height:normal;font-family:Menlo,'DejaVu Sans Mono',consolas,'Courier New',monospace\">17:21:23.029 | <span style=\"color: #008080; text-decoration-color: #008080\">INFO</span>    | Flow run<span style=\"color: #800080; text-decoration-color: #800080\"> 'cordial-cow'</span> - read  single = 0\n",
       "</pre>\n"
      ],
      "text/plain": [
       "17:21:23.029 | \u001b[36mINFO\u001b[0m    | Flow run\u001b[35m 'cordial-cow'\u001b[0m - read  single = 0\n"
      ]
     },
     "metadata": {},
     "output_type": "display_data"
    },
    {
     "data": {
      "text/html": [
       "<pre style=\"white-space:pre;overflow-x:auto;line-height:normal;font-family:Menlo,'DejaVu Sans Mono',consolas,'Courier New',monospace\">17:21:25.032 | <span style=\"color: #008080; text-decoration-color: #008080\">INFO</span>    | Flow run<span style=\"color: #800080; text-decoration-color: #800080\"> 'cordial-cow'</span> - skip frame in live mode  [2]\n",
       "</pre>\n"
      ],
      "text/plain": [
       "17:21:25.032 | \u001b[36mINFO\u001b[0m    | Flow run\u001b[35m 'cordial-cow'\u001b[0m - skip frame in live mode  [2]\n"
      ]
     },
     "metadata": {},
     "output_type": "display_data"
    },
    {
     "data": {
      "text/html": [
       "<pre style=\"white-space:pre;overflow-x:auto;line-height:normal;font-family:Menlo,'DejaVu Sans Mono',consolas,'Courier New',monospace\">17:21:25.057 | <span style=\"color: #008080; text-decoration-color: #008080\">INFO</span>    | Flow run<span style=\"color: #800080; text-decoration-color: #800080\"> 'cordial-cow'</span> - read  single = 0\n",
       "</pre>\n"
      ],
      "text/plain": [
       "17:21:25.057 | \u001b[36mINFO\u001b[0m    | Flow run\u001b[35m 'cordial-cow'\u001b[0m - read  single = 0\n"
      ]
     },
     "metadata": {},
     "output_type": "display_data"
    },
    {
     "data": {
      "text/html": [
       "<pre style=\"white-space:pre;overflow-x:auto;line-height:normal;font-family:Menlo,'DejaVu Sans Mono',consolas,'Courier New',monospace\">17:21:27.066 | <span style=\"color: #008080; text-decoration-color: #008080\">INFO</span>    | Flow run<span style=\"color: #800080; text-decoration-color: #800080\"> 'cordial-cow'</span> - ----------------&gt;34452464\n",
       "</pre>\n"
      ],
      "text/plain": [
       "17:21:27.066 | \u001b[36mINFO\u001b[0m    | Flow run\u001b[35m 'cordial-cow'\u001b[0m - ---------------->34452464\n"
      ]
     },
     "metadata": {},
     "output_type": "display_data"
    },
    {
     "data": {
      "text/html": [
       "<pre style=\"white-space:pre;overflow-x:auto;line-height:normal;font-family:Menlo,'DejaVu Sans Mono',consolas,'Courier New',monospace\">17:21:27.068 | <span style=\"color: #008080; text-decoration-color: #008080\">INFO</span>    | Flow run<span style=\"color: #800080; text-decoration-color: #800080\"> 'cordial-cow'</span> - image size =     16398432\n",
       "</pre>\n"
      ],
      "text/plain": [
       "17:21:27.068 | \u001b[36mINFO\u001b[0m    | Flow run\u001b[35m 'cordial-cow'\u001b[0m - image size =     16398432\n"
      ]
     },
     "metadata": {},
     "output_type": "display_data"
    },
    {
     "data": {
      "text/html": [
       "<pre style=\"white-space:pre;overflow-x:auto;line-height:normal;font-family:Menlo,'DejaVu Sans Mono',consolas,'Courier New',monospace\">17:21:27.069 | <span style=\"color: #008080; text-decoration-color: #008080\">INFO</span>    | Flow run<span style=\"color: #800080; text-decoration-color: #800080\"> 'cordial-cow'</span> - prev_img_list sub length--&gt;34452464\n",
       "</pre>\n"
      ],
      "text/plain": [
       "17:21:27.069 | \u001b[36mINFO\u001b[0m    | Flow run\u001b[35m 'cordial-cow'\u001b[0m - prev_img_list sub length-->34452464\n"
      ]
     },
     "metadata": {},
     "output_type": "display_data"
    },
    {
     "data": {
      "text/html": [
       "<pre style=\"white-space:pre;overflow-x:auto;line-height:normal;font-family:Menlo,'DejaVu Sans Mono',consolas,'Courier New',monospace\">17:21:27.070 | <span style=\"color: #008080; text-decoration-color: #008080\">INFO</span>    | Flow run<span style=\"color: #800080; text-decoration-color: #800080\"> 'cordial-cow'</span> - Image W=4656        H=3522\n",
       "</pre>\n"
      ],
      "text/plain": [
       "17:21:27.070 | \u001b[36mINFO\u001b[0m    | Flow run\u001b[35m 'cordial-cow'\u001b[0m - Image W=4656        H=3522\n"
      ]
     },
     "metadata": {},
     "output_type": "display_data"
    },
    {
     "name": "stderr",
     "output_type": "stream",
     "text": [
      "C:\\Users\\Administrator\\AppData\\Local\\Temp\\ipykernel_20396\\3833557296.py:235: UserWarning: 任务执行结果为42，这可能需要注意！\n",
      "  warnings.warn(\"任务执行结果为42，这可能需要注意！\")\n"
     ]
    },
    {
     "data": {
      "text/html": [
       "<pre style=\"white-space:pre;overflow-x:auto;line-height:normal;font-family:Menlo,'DejaVu Sans Mono',consolas,'Courier New',monospace\">17:21:27.147 | <span style=\"color: #008080; text-decoration-color: #008080\">INFO</span>    | Flow run<span style=\"color: #800080; text-decoration-color: #800080\"> 'cordial-cow'</span> - ----   readMode 0 / stream 1 / bit 16 / frame 1 ---------&gt;\n",
       "</pre>\n"
      ],
      "text/plain": [
       "17:21:27.147 | \u001b[36mINFO\u001b[0m    | Flow run\u001b[35m 'cordial-cow'\u001b[0m - ----   readMode 0 / stream 1 / bit 16 / frame 1 --------->\n"
      ]
     },
     "metadata": {},
     "output_type": "display_data"
    },
    {
     "data": {
      "text/html": [
       "<pre style=\"white-space:pre;overflow-x:auto;line-height:normal;font-family:Menlo,'DejaVu Sans Mono',consolas,'Courier New',monospace\">17:21:28.173 | <span style=\"color: #008080; text-decoration-color: #008080\">INFO</span>    | Flow run<span style=\"color: #800080; text-decoration-color: #800080\"> 'cordial-cow'</span> - read  single = 0\n",
       "</pre>\n"
      ],
      "text/plain": [
       "17:21:28.173 | \u001b[36mINFO\u001b[0m    | Flow run\u001b[35m 'cordial-cow'\u001b[0m - read  single = 0\n"
      ]
     },
     "metadata": {},
     "output_type": "display_data"
    },
    {
     "data": {
      "text/html": [
       "<pre style=\"white-space:pre;overflow-x:auto;line-height:normal;font-family:Menlo,'DejaVu Sans Mono',consolas,'Courier New',monospace\">17:21:30.176 | <span style=\"color: #008080; text-decoration-color: #008080\">INFO</span>    | Flow run<span style=\"color: #800080; text-decoration-color: #800080\"> 'cordial-cow'</span> - ----------------&gt;34452464\n",
       "</pre>\n"
      ],
      "text/plain": [
       "17:21:30.176 | \u001b[36mINFO\u001b[0m    | Flow run\u001b[35m 'cordial-cow'\u001b[0m - ---------------->34452464\n"
      ]
     },
     "metadata": {},
     "output_type": "display_data"
    },
    {
     "data": {
      "text/html": [
       "<pre style=\"white-space:pre;overflow-x:auto;line-height:normal;font-family:Menlo,'DejaVu Sans Mono',consolas,'Courier New',monospace\">17:21:30.177 | <span style=\"color: #008080; text-decoration-color: #008080\">INFO</span>    | Flow run<span style=\"color: #800080; text-decoration-color: #800080\"> 'cordial-cow'</span> - image size =     16398432\n",
       "</pre>\n"
      ],
      "text/plain": [
       "17:21:30.177 | \u001b[36mINFO\u001b[0m    | Flow run\u001b[35m 'cordial-cow'\u001b[0m - image size =     16398432\n"
      ]
     },
     "metadata": {},
     "output_type": "display_data"
    },
    {
     "data": {
      "text/html": [
       "<pre style=\"white-space:pre;overflow-x:auto;line-height:normal;font-family:Menlo,'DejaVu Sans Mono',consolas,'Courier New',monospace\">17:21:30.179 | <span style=\"color: #008080; text-decoration-color: #008080\">INFO</span>    | Flow run<span style=\"color: #800080; text-decoration-color: #800080\"> 'cordial-cow'</span> - prev_img_list sub length--&gt;34452464\n",
       "</pre>\n"
      ],
      "text/plain": [
       "17:21:30.179 | \u001b[36mINFO\u001b[0m    | Flow run\u001b[35m 'cordial-cow'\u001b[0m - prev_img_list sub length-->34452464\n"
      ]
     },
     "metadata": {},
     "output_type": "display_data"
    },
    {
     "data": {
      "text/html": [
       "<pre style=\"white-space:pre;overflow-x:auto;line-height:normal;font-family:Menlo,'DejaVu Sans Mono',consolas,'Courier New',monospace\">17:21:30.180 | <span style=\"color: #008080; text-decoration-color: #008080\">INFO</span>    | Flow run<span style=\"color: #800080; text-decoration-color: #800080\"> 'cordial-cow'</span> - Image W=4656        H=3522\n",
       "</pre>\n"
      ],
      "text/plain": [
       "17:21:30.180 | \u001b[36mINFO\u001b[0m    | Flow run\u001b[35m 'cordial-cow'\u001b[0m - Image W=4656        H=3522\n"
      ]
     },
     "metadata": {},
     "output_type": "display_data"
    },
    {
     "data": {
      "text/html": [
       "<pre style=\"white-space:pre;overflow-x:auto;line-height:normal;font-family:Menlo,'DejaVu Sans Mono',consolas,'Courier New',monospace\">17:21:30.254 | <span style=\"color: #008080; text-decoration-color: #008080\">INFO</span>    | Flow run<span style=\"color: #800080; text-decoration-color: #800080\"> 'cordial-cow'</span> - ----   readMode 0 / stream 1 / bit 16 / frame 2 ---------&gt;\n",
       "</pre>\n"
      ],
      "text/plain": [
       "17:21:30.254 | \u001b[36mINFO\u001b[0m    | Flow run\u001b[35m 'cordial-cow'\u001b[0m - ----   readMode 0 / stream 1 / bit 16 / frame 2 --------->\n"
      ]
     },
     "metadata": {},
     "output_type": "display_data"
    },
    {
     "data": {
      "text/html": [
       "<pre style=\"white-space:pre;overflow-x:auto;line-height:normal;font-family:Menlo,'DejaVu Sans Mono',consolas,'Courier New',monospace\">17:21:31.283 | <span style=\"color: #008080; text-decoration-color: #008080\">INFO</span>    | Flow run<span style=\"color: #800080; text-decoration-color: #800080\"> 'cordial-cow'</span> - Finished in state <span style=\"color: #008000; text-decoration-color: #008000\">Completed</span>()\n",
       "</pre>\n"
      ],
      "text/plain": [
       "17:21:31.283 | \u001b[36mINFO\u001b[0m    | Flow run\u001b[35m 'cordial-cow'\u001b[0m - Finished in state \u001b[32mCompleted\u001b[0m()\n"
      ]
     },
     "metadata": {},
     "output_type": "display_data"
    },
    {
     "data": {
      "text/html": [
       "<pre style=\"white-space:pre;overflow-x:auto;line-height:normal;font-family:Menlo,'DejaVu Sans Mono',consolas,'Courier New',monospace\">17:21:31.437 | <span style=\"color: #008080; text-decoration-color: #008080\">INFO</span>    | prefect.engine - Created flow run<span style=\"color: #800080; text-decoration-color: #800080\"> 'zircon-whale'</span> for flow<span style=\"color: #800080; text-decoration-color: #800080; font-weight: bold\"> 'test-frame'</span>\n",
       "</pre>\n"
      ],
      "text/plain": [
       "17:21:31.437 | \u001b[36mINFO\u001b[0m    | prefect.engine - Created flow run\u001b[35m 'zircon-whale'\u001b[0m for flow\u001b[1;35m 'test-frame'\u001b[0m\n"
      ]
     },
     "metadata": {},
     "output_type": "display_data"
    },
    {
     "data": {
      "text/html": [
       "<pre style=\"white-space:pre;overflow-x:auto;line-height:normal;font-family:Menlo,'DejaVu Sans Mono',consolas,'Courier New',monospace\">17:21:31.475 | <span style=\"color: #008080; text-decoration-color: #008080\">INFO</span>    | Flow run<span style=\"color: #800080; text-decoration-color: #800080\"> 'zircon-whale'</span> - open camera QHY163M-28dfcb448cba4b153\n",
       "</pre>\n"
      ],
      "text/plain": [
       "17:21:31.475 | \u001b[36mINFO\u001b[0m    | Flow run\u001b[35m 'zircon-whale'\u001b[0m - open camera QHY163M-28dfcb448cba4b153\n"
      ]
     },
     "metadata": {},
     "output_type": "display_data"
    },
    {
     "data": {
      "text/html": [
       "<pre style=\"white-space:pre;overflow-x:auto;line-height:normal;font-family:Menlo,'DejaVu Sans Mono',consolas,'Courier New',monospace\">17:21:31.595 | <span style=\"color: #008080; text-decoration-color: #008080\">INFO</span>    | Flow run<span style=\"color: #800080; text-decoration-color: #800080\"> 'zircon-whale'</span> - set StreamMode   =0\n",
       "</pre>\n"
      ],
      "text/plain": [
       "17:21:31.595 | \u001b[36mINFO\u001b[0m    | Flow run\u001b[35m 'zircon-whale'\u001b[0m - set StreamMode   =0\n"
      ]
     },
     "metadata": {},
     "output_type": "display_data"
    },
    {
     "data": {
      "text/html": [
       "<pre style=\"white-space:pre;overflow-x:auto;line-height:normal;font-family:Menlo,'DejaVu Sans Mono',consolas,'Courier New',monospace\">17:21:31.736 | <span style=\"color: #008080; text-decoration-color: #008080\">INFO</span>    | Flow run<span style=\"color: #800080; text-decoration-color: #800080\"> 'zircon-whale'</span> - init Camera   =0\n",
       "</pre>\n"
      ],
      "text/plain": [
       "17:21:31.736 | \u001b[36mINFO\u001b[0m    | Flow run\u001b[35m 'zircon-whale'\u001b[0m - init Camera   =0\n"
      ]
     },
     "metadata": {},
     "output_type": "display_data"
    },
    {
     "data": {
      "text/html": [
       "<pre style=\"white-space:pre;overflow-x:auto;line-height:normal;font-family:Menlo,'DejaVu Sans Mono',consolas,'Courier New',monospace\">17:21:31.926 | <span style=\"color: #008080; text-decoration-color: #008080\">INFO</span>    | Flow run<span style=\"color: #800080; text-decoration-color: #800080\"> 'zircon-whale'</span> - info.   =0\n",
       "</pre>\n"
      ],
      "text/plain": [
       "17:21:31.926 | \u001b[36mINFO\u001b[0m    | Flow run\u001b[35m 'zircon-whale'\u001b[0m - info.   =0\n"
      ]
     },
     "metadata": {},
     "output_type": "display_data"
    },
    {
     "data": {
      "text/html": [
       "<pre style=\"white-space:pre;overflow-x:auto;line-height:normal;font-family:Menlo,'DejaVu Sans Mono',consolas,'Courier New',monospace\">17:21:31.928 | <span style=\"color: #008080; text-decoration-color: #008080\">INFO</span>    | Flow run<span style=\"color: #800080; text-decoration-color: #800080\"> 'zircon-whale'</span> - c-w:     17.6472\n",
       "</pre>\n"
      ],
      "text/plain": [
       "17:21:31.928 | \u001b[36mINFO\u001b[0m    | Flow run\u001b[35m 'zircon-whale'\u001b[0m - c-w:     17.6472\n"
      ]
     },
     "metadata": {},
     "output_type": "display_data"
    },
    {
     "data": {
      "text/html": [
       "<pre style=\"white-space:pre;overflow-x:auto;line-height:normal;font-family:Menlo,'DejaVu Sans Mono',consolas,'Courier New',monospace\">17:21:31.929 | <span style=\"color: #008080; text-decoration-color: #008080\">INFO</span>    | Flow run<span style=\"color: #800080; text-decoration-color: #800080\"> 'zircon-whale'</span> -     c-h: 13.3228\n",
       "</pre>\n"
      ],
      "text/plain": [
       "17:21:31.929 | \u001b[36mINFO\u001b[0m    | Flow run\u001b[35m 'zircon-whale'\u001b[0m -     c-h: 13.3228\n"
      ]
     },
     "metadata": {},
     "output_type": "display_data"
    },
    {
     "data": {
      "text/html": [
       "<pre style=\"white-space:pre;overflow-x:auto;line-height:normal;font-family:Menlo,'DejaVu Sans Mono',consolas,'Courier New',monospace\">17:21:31.930 | <span style=\"color: #008080; text-decoration-color: #008080\">INFO</span>    | Flow run<span style=\"color: #800080; text-decoration-color: #800080\"> 'zircon-whale'</span> - p-w:     3.8\n",
       "</pre>\n"
      ],
      "text/plain": [
       "17:21:31.930 | \u001b[36mINFO\u001b[0m    | Flow run\u001b[35m 'zircon-whale'\u001b[0m - p-w:     3.8\n"
      ]
     },
     "metadata": {},
     "output_type": "display_data"
    },
    {
     "data": {
      "text/html": [
       "<pre style=\"white-space:pre;overflow-x:auto;line-height:normal;font-family:Menlo,'DejaVu Sans Mono',consolas,'Courier New',monospace\">17:21:31.931 | <span style=\"color: #008080; text-decoration-color: #008080\">INFO</span>    | Flow run<span style=\"color: #800080; text-decoration-color: #800080\"> 'zircon-whale'</span> -     p-h: 3.8\n",
       "</pre>\n"
      ],
      "text/plain": [
       "17:21:31.931 | \u001b[36mINFO\u001b[0m    | Flow run\u001b[35m 'zircon-whale'\u001b[0m -     p-h: 3.8\n"
      ]
     },
     "metadata": {},
     "output_type": "display_data"
    },
    {
     "data": {
      "text/html": [
       "<pre style=\"white-space:pre;overflow-x:auto;line-height:normal;font-family:Menlo,'DejaVu Sans Mono',consolas,'Courier New',monospace\">17:21:31.933 | <span style=\"color: #008080; text-decoration-color: #008080\">INFO</span>    | Flow run<span style=\"color: #800080; text-decoration-color: #800080\"> 'zircon-whale'</span> - i-w:     4656\n",
       "</pre>\n"
      ],
      "text/plain": [
       "17:21:31.933 | \u001b[36mINFO\u001b[0m    | Flow run\u001b[35m 'zircon-whale'\u001b[0m - i-w:     4656\n"
      ]
     },
     "metadata": {},
     "output_type": "display_data"
    },
    {
     "data": {
      "text/html": [
       "<pre style=\"white-space:pre;overflow-x:auto;line-height:normal;font-family:Menlo,'DejaVu Sans Mono',consolas,'Courier New',monospace\">17:21:31.934 | <span style=\"color: #008080; text-decoration-color: #008080\">INFO</span>    | Flow run<span style=\"color: #800080; text-decoration-color: #800080\"> 'zircon-whale'</span> -     i-h: 3522\n",
       "</pre>\n"
      ],
      "text/plain": [
       "17:21:31.934 | \u001b[36mINFO\u001b[0m    | Flow run\u001b[35m 'zircon-whale'\u001b[0m -     i-h: 3522\n"
      ]
     },
     "metadata": {},
     "output_type": "display_data"
    },
    {
     "data": {
      "text/html": [
       "<pre style=\"white-space:pre;overflow-x:auto;line-height:normal;font-family:Menlo,'DejaVu Sans Mono',consolas,'Courier New',monospace\">17:21:31.936 | <span style=\"color: #008080; text-decoration-color: #008080\">INFO</span>    | Flow run<span style=\"color: #800080; text-decoration-color: #800080\"> 'zircon-whale'</span> - bit: 8\n",
       "</pre>\n"
      ],
      "text/plain": [
       "17:21:31.936 | \u001b[36mINFO\u001b[0m    | Flow run\u001b[35m 'zircon-whale'\u001b[0m - bit: 8\n"
      ]
     },
     "metadata": {},
     "output_type": "display_data"
    },
    {
     "data": {
      "text/html": [
       "<pre style=\"white-space:pre;overflow-x:auto;line-height:normal;font-family:Menlo,'DejaVu Sans Mono',consolas,'Courier New',monospace\">17:21:31.938 | <span style=\"color: #008080; text-decoration-color: #008080\">INFO</span>    | Flow run<span style=\"color: #800080; text-decoration-color: #800080\"> 'zircon-whale'</span> - mem len: 68904928\n",
       "</pre>\n"
      ],
      "text/plain": [
       "17:21:31.938 | \u001b[36mINFO\u001b[0m    | Flow run\u001b[35m 'zircon-whale'\u001b[0m - mem len: 68904928\n"
      ]
     },
     "metadata": {},
     "output_type": "display_data"
    },
    {
     "data": {
      "text/html": [
       "<pre style=\"white-space:pre;overflow-x:auto;line-height:normal;font-family:Menlo,'DejaVu Sans Mono',consolas,'Courier New',monospace\">17:21:31.939 | <span style=\"color: #008080; text-decoration-color: #008080\">INFO</span>    | Flow run<span style=\"color: #800080; text-decoration-color: #800080\"> 'zircon-whale'</span> - using c_uint8()\n",
       "</pre>\n"
      ],
      "text/plain": [
       "17:21:31.939 | \u001b[36mINFO\u001b[0m    | Flow run\u001b[35m 'zircon-whale'\u001b[0m - using c_uint8()\n"
      ]
     },
     "metadata": {},
     "output_type": "display_data"
    },
    {
     "data": {
      "text/html": [
       "<pre style=\"white-space:pre;overflow-x:auto;line-height:normal;font-family:Menlo,'DejaVu Sans Mono',consolas,'Courier New',monospace\">17:21:32.117 | <span style=\"color: #008080; text-decoration-color: #008080\">INFO</span>    | Flow run<span style=\"color: #800080; text-decoration-color: #800080\"> 'zircon-whale'</span> - exp  single = 8193\n",
       "</pre>\n"
      ],
      "text/plain": [
       "17:21:32.117 | \u001b[36mINFO\u001b[0m    | Flow run\u001b[35m 'zircon-whale'\u001b[0m - exp  single = 8193\n"
      ]
     },
     "metadata": {},
     "output_type": "display_data"
    },
    {
     "data": {
      "text/html": [
       "<pre style=\"white-space:pre;overflow-x:auto;line-height:normal;font-family:Menlo,'DejaVu Sans Mono',consolas,'Courier New',monospace\">17:21:33.644 | <span style=\"color: #008080; text-decoration-color: #008080\">INFO</span>    | Flow run<span style=\"color: #800080; text-decoration-color: #800080\"> 'zircon-whale'</span> - read  single = 0\n",
       "</pre>\n"
      ],
      "text/plain": [
       "17:21:33.644 | \u001b[36mINFO\u001b[0m    | Flow run\u001b[35m 'zircon-whale'\u001b[0m - read  single = 0\n"
      ]
     },
     "metadata": {},
     "output_type": "display_data"
    },
    {
     "data": {
      "text/html": [
       "<pre style=\"white-space:pre;overflow-x:auto;line-height:normal;font-family:Menlo,'DejaVu Sans Mono',consolas,'Courier New',monospace\">17:21:35.652 | <span style=\"color: #008080; text-decoration-color: #008080\">INFO</span>    | Flow run<span style=\"color: #800080; text-decoration-color: #800080\"> 'zircon-whale'</span> - ----------------&gt;68904928\n",
       "</pre>\n"
      ],
      "text/plain": [
       "17:21:35.652 | \u001b[36mINFO\u001b[0m    | Flow run\u001b[35m 'zircon-whale'\u001b[0m - ---------------->68904928\n"
      ]
     },
     "metadata": {},
     "output_type": "display_data"
    },
    {
     "data": {
      "text/html": [
       "<pre style=\"white-space:pre;overflow-x:auto;line-height:normal;font-family:Menlo,'DejaVu Sans Mono',consolas,'Courier New',monospace\">17:21:35.654 | <span style=\"color: #008080; text-decoration-color: #008080\">INFO</span>    | Flow run<span style=\"color: #800080; text-decoration-color: #800080\"> 'zircon-whale'</span> - image size =     16398432\n",
       "</pre>\n"
      ],
      "text/plain": [
       "17:21:35.654 | \u001b[36mINFO\u001b[0m    | Flow run\u001b[35m 'zircon-whale'\u001b[0m - image size =     16398432\n"
      ]
     },
     "metadata": {},
     "output_type": "display_data"
    },
    {
     "data": {
      "text/html": [
       "<pre style=\"white-space:pre;overflow-x:auto;line-height:normal;font-family:Menlo,'DejaVu Sans Mono',consolas,'Courier New',monospace\">17:21:35.655 | <span style=\"color: #008080; text-decoration-color: #008080\">INFO</span>    | Flow run<span style=\"color: #800080; text-decoration-color: #800080\"> 'zircon-whale'</span> - prev_img_list sub length--&gt;68904928\n",
       "</pre>\n"
      ],
      "text/plain": [
       "17:21:35.655 | \u001b[36mINFO\u001b[0m    | Flow run\u001b[35m 'zircon-whale'\u001b[0m - prev_img_list sub length-->68904928\n"
      ]
     },
     "metadata": {},
     "output_type": "display_data"
    },
    {
     "data": {
      "text/html": [
       "<pre style=\"white-space:pre;overflow-x:auto;line-height:normal;font-family:Menlo,'DejaVu Sans Mono',consolas,'Courier New',monospace\">17:21:35.656 | <span style=\"color: #008080; text-decoration-color: #008080\">INFO</span>    | Flow run<span style=\"color: #800080; text-decoration-color: #800080\"> 'zircon-whale'</span> - Image W=4656        H=3522\n",
       "</pre>\n"
      ],
      "text/plain": [
       "17:21:35.656 | \u001b[36mINFO\u001b[0m    | Flow run\u001b[35m 'zircon-whale'\u001b[0m - Image W=4656        H=3522\n"
      ]
     },
     "metadata": {},
     "output_type": "display_data"
    },
    {
     "data": {
      "text/html": [
       "<pre style=\"white-space:pre;overflow-x:auto;line-height:normal;font-family:Menlo,'DejaVu Sans Mono',consolas,'Courier New',monospace\">17:21:35.709 | <span style=\"color: #008080; text-decoration-color: #008080\">INFO</span>    | Flow run<span style=\"color: #800080; text-decoration-color: #800080\"> 'zircon-whale'</span> - input image dims: 400 x 400\n",
       "</pre>\n"
      ],
      "text/plain": [
       "17:21:35.709 | \u001b[36mINFO\u001b[0m    | Flow run\u001b[35m 'zircon-whale'\u001b[0m - input image dims: 400 x 400\n"
      ]
     },
     "metadata": {},
     "output_type": "display_data"
    },
    {
     "data": {
      "text/html": [
       "<pre style=\"white-space:pre;overflow-x:auto;line-height:normal;font-family:Menlo,'DejaVu Sans Mono',consolas,'Courier New',monospace\">17:21:35.711 | <span style=\"color: #008080; text-decoration-color: #008080\">INFO</span>    | Flow run<span style=\"color: #800080; text-decoration-color: #800080\"> 'zircon-whale'</span> - cols: 50, rows: 25\n",
       "</pre>\n"
      ],
      "text/plain": [
       "17:21:35.711 | \u001b[36mINFO\u001b[0m    | Flow run\u001b[35m 'zircon-whale'\u001b[0m - cols: 50, rows: 25\n"
      ]
     },
     "metadata": {},
     "output_type": "display_data"
    },
    {
     "data": {
      "text/html": [
       "<pre style=\"white-space:pre;overflow-x:auto;line-height:normal;font-family:Menlo,'DejaVu Sans Mono',consolas,'Courier New',monospace\">17:21:35.712 | <span style=\"color: #008080; text-decoration-color: #008080\">INFO</span>    | Flow run<span style=\"color: #800080; text-decoration-color: #800080\"> 'zircon-whale'</span> - tile dims: 8 x 16\n",
       "</pre>\n"
      ],
      "text/plain": [
       "17:21:35.712 | \u001b[36mINFO\u001b[0m    | Flow run\u001b[35m 'zircon-whale'\u001b[0m - tile dims: 8 x 16\n"
      ]
     },
     "metadata": {},
     "output_type": "display_data"
    },
    {
     "data": {
      "text/html": [
       "<pre style=\"white-space:pre;overflow-x:auto;line-height:normal;font-family:Menlo,'DejaVu Sans Mono',consolas,'Courier New',monospace\">17:21:35.747 | <span style=\"color: #008080; text-decoration-color: #008080\">INFO</span>    | Flow run<span style=\"color: #800080; text-decoration-color: #800080\"> 'zircon-whale'</span> - \n",
       "</pre>\n"
      ],
      "text/plain": [
       "17:21:35.747 | \u001b[36mINFO\u001b[0m    | Flow run\u001b[35m 'zircon-whale'\u001b[0m - \n"
      ]
     },
     "metadata": {},
     "output_type": "display_data"
    },
    {
     "data": {
      "text/html": [
       "<pre style=\"white-space:pre;overflow-x:auto;line-height:normal;font-family:Menlo,'DejaVu Sans Mono',consolas,'Courier New',monospace\">17:21:35.749 | <span style=\"color: #008080; text-decoration-color: #008080\">INFO</span>    | Flow run<span style=\"color: #800080; text-decoration-color: #800080\"> 'zircon-whale'</span> - \n",
       "</pre>\n"
      ],
      "text/plain": [
       "17:21:35.749 | \u001b[36mINFO\u001b[0m    | Flow run\u001b[35m 'zircon-whale'\u001b[0m - \n"
      ]
     },
     "metadata": {},
     "output_type": "display_data"
    },
    {
     "data": {
      "text/html": [
       "<pre style=\"white-space:pre;overflow-x:auto;line-height:normal;font-family:Menlo,'DejaVu Sans Mono',consolas,'Courier New',monospace\">17:21:35.751 | <span style=\"color: #008080; text-decoration-color: #008080\">INFO</span>    | Flow run<span style=\"color: #800080; text-decoration-color: #800080\"> 'zircon-whale'</span> - \n",
       "</pre>\n"
      ],
      "text/plain": [
       "17:21:35.751 | \u001b[36mINFO\u001b[0m    | Flow run\u001b[35m 'zircon-whale'\u001b[0m - \n"
      ]
     },
     "metadata": {},
     "output_type": "display_data"
    },
    {
     "data": {
      "text/html": [
       "<pre style=\"white-space:pre;overflow-x:auto;line-height:normal;font-family:Menlo,'DejaVu Sans Mono',consolas,'Courier New',monospace\">17:21:35.752 | <span style=\"color: #008080; text-decoration-color: #008080\">INFO</span>    | Flow run<span style=\"color: #800080; text-decoration-color: #800080\"> 'zircon-whale'</span> - \n",
       "</pre>\n"
      ],
      "text/plain": [
       "17:21:35.752 | \u001b[36mINFO\u001b[0m    | Flow run\u001b[35m 'zircon-whale'\u001b[0m - \n"
      ]
     },
     "metadata": {},
     "output_type": "display_data"
    },
    {
     "data": {
      "text/html": [
       "<pre style=\"white-space:pre;overflow-x:auto;line-height:normal;font-family:Menlo,'DejaVu Sans Mono',consolas,'Courier New',monospace\">17:21:35.753 | <span style=\"color: #008080; text-decoration-color: #008080\">INFO</span>    | Flow run<span style=\"color: #800080; text-decoration-color: #800080\"> 'zircon-whale'</span> - \n",
       "</pre>\n"
      ],
      "text/plain": [
       "17:21:35.753 | \u001b[36mINFO\u001b[0m    | Flow run\u001b[35m 'zircon-whale'\u001b[0m - \n"
      ]
     },
     "metadata": {},
     "output_type": "display_data"
    },
    {
     "data": {
      "text/html": [
       "<pre style=\"white-space:pre;overflow-x:auto;line-height:normal;font-family:Menlo,'DejaVu Sans Mono',consolas,'Courier New',monospace\">17:21:35.754 | <span style=\"color: #008080; text-decoration-color: #008080\">INFO</span>    | Flow run<span style=\"color: #800080; text-decoration-color: #800080\"> 'zircon-whale'</span> - \n",
       "</pre>\n"
      ],
      "text/plain": [
       "17:21:35.754 | \u001b[36mINFO\u001b[0m    | Flow run\u001b[35m 'zircon-whale'\u001b[0m - \n"
      ]
     },
     "metadata": {},
     "output_type": "display_data"
    },
    {
     "data": {
      "text/html": [
       "<pre style=\"white-space:pre;overflow-x:auto;line-height:normal;font-family:Menlo,'DejaVu Sans Mono',consolas,'Courier New',monospace\">17:21:35.756 | <span style=\"color: #008080; text-decoration-color: #008080\">INFO</span>    | Flow run<span style=\"color: #800080; text-decoration-color: #800080\"> 'zircon-whale'</span> - \n",
       "</pre>\n"
      ],
      "text/plain": [
       "17:21:35.756 | \u001b[36mINFO\u001b[0m    | Flow run\u001b[35m 'zircon-whale'\u001b[0m - \n"
      ]
     },
     "metadata": {},
     "output_type": "display_data"
    },
    {
     "data": {
      "text/html": [
       "<pre style=\"white-space:pre;overflow-x:auto;line-height:normal;font-family:Menlo,'DejaVu Sans Mono',consolas,'Courier New',monospace\">17:21:35.757 | <span style=\"color: #008080; text-decoration-color: #008080\">INFO</span>    | Flow run<span style=\"color: #800080; text-decoration-color: #800080\"> 'zircon-whale'</span> - \n",
       "</pre>\n"
      ],
      "text/plain": [
       "17:21:35.757 | \u001b[36mINFO\u001b[0m    | Flow run\u001b[35m 'zircon-whale'\u001b[0m - \n"
      ]
     },
     "metadata": {},
     "output_type": "display_data"
    },
    {
     "data": {
      "text/html": [
       "<pre style=\"white-space:pre;overflow-x:auto;line-height:normal;font-family:Menlo,'DejaVu Sans Mono',consolas,'Courier New',monospace\">17:21:35.758 | <span style=\"color: #008080; text-decoration-color: #008080\">INFO</span>    | Flow run<span style=\"color: #800080; text-decoration-color: #800080\"> 'zircon-whale'</span> - \n",
       "</pre>\n"
      ],
      "text/plain": [
       "17:21:35.758 | \u001b[36mINFO\u001b[0m    | Flow run\u001b[35m 'zircon-whale'\u001b[0m - \n"
      ]
     },
     "metadata": {},
     "output_type": "display_data"
    },
    {
     "data": {
      "text/html": [
       "<pre style=\"white-space:pre;overflow-x:auto;line-height:normal;font-family:Menlo,'DejaVu Sans Mono',consolas,'Courier New',monospace\">17:21:35.760 | <span style=\"color: #008080; text-decoration-color: #008080\">INFO</span>    | Flow run<span style=\"color: #800080; text-decoration-color: #800080\"> 'zircon-whale'</span> - \n",
       "</pre>\n"
      ],
      "text/plain": [
       "17:21:35.760 | \u001b[36mINFO\u001b[0m    | Flow run\u001b[35m 'zircon-whale'\u001b[0m - \n"
      ]
     },
     "metadata": {},
     "output_type": "display_data"
    },
    {
     "data": {
      "text/html": [
       "<pre style=\"white-space:pre;overflow-x:auto;line-height:normal;font-family:Menlo,'DejaVu Sans Mono',consolas,'Courier New',monospace\">17:21:35.761 | <span style=\"color: #008080; text-decoration-color: #008080\">INFO</span>    | Flow run<span style=\"color: #800080; text-decoration-color: #800080\"> 'zircon-whale'</span> - \n",
       "</pre>\n"
      ],
      "text/plain": [
       "17:21:35.761 | \u001b[36mINFO\u001b[0m    | Flow run\u001b[35m 'zircon-whale'\u001b[0m - \n"
      ]
     },
     "metadata": {},
     "output_type": "display_data"
    },
    {
     "data": {
      "text/html": [
       "<pre style=\"white-space:pre;overflow-x:auto;line-height:normal;font-family:Menlo,'DejaVu Sans Mono',consolas,'Courier New',monospace\">17:21:35.762 | <span style=\"color: #008080; text-decoration-color: #008080\">INFO</span>    | Flow run<span style=\"color: #800080; text-decoration-color: #800080\"> 'zircon-whale'</span> - \n",
       "</pre>\n"
      ],
      "text/plain": [
       "17:21:35.762 | \u001b[36mINFO\u001b[0m    | Flow run\u001b[35m 'zircon-whale'\u001b[0m - \n"
      ]
     },
     "metadata": {},
     "output_type": "display_data"
    },
    {
     "data": {
      "text/html": [
       "<pre style=\"white-space:pre;overflow-x:auto;line-height:normal;font-family:Menlo,'DejaVu Sans Mono',consolas,'Courier New',monospace\">17:21:35.763 | <span style=\"color: #008080; text-decoration-color: #008080\">INFO</span>    | Flow run<span style=\"color: #800080; text-decoration-color: #800080\"> 'zircon-whale'</span> - \n",
       "</pre>\n"
      ],
      "text/plain": [
       "17:21:35.763 | \u001b[36mINFO\u001b[0m    | Flow run\u001b[35m 'zircon-whale'\u001b[0m - \n"
      ]
     },
     "metadata": {},
     "output_type": "display_data"
    },
    {
     "data": {
      "text/html": [
       "<pre style=\"white-space:pre;overflow-x:auto;line-height:normal;font-family:Menlo,'DejaVu Sans Mono',consolas,'Courier New',monospace\">17:21:35.765 | <span style=\"color: #008080; text-decoration-color: #008080\">INFO</span>    | Flow run<span style=\"color: #800080; text-decoration-color: #800080\"> 'zircon-whale'</span> - \n",
       "</pre>\n"
      ],
      "text/plain": [
       "17:21:35.765 | \u001b[36mINFO\u001b[0m    | Flow run\u001b[35m 'zircon-whale'\u001b[0m - \n"
      ]
     },
     "metadata": {},
     "output_type": "display_data"
    },
    {
     "data": {
      "text/html": [
       "<pre style=\"white-space:pre;overflow-x:auto;line-height:normal;font-family:Menlo,'DejaVu Sans Mono',consolas,'Courier New',monospace\">17:21:35.766 | <span style=\"color: #008080; text-decoration-color: #008080\">INFO</span>    | Flow run<span style=\"color: #800080; text-decoration-color: #800080\"> 'zircon-whale'</span> - \n",
       "</pre>\n"
      ],
      "text/plain": [
       "17:21:35.766 | \u001b[36mINFO\u001b[0m    | Flow run\u001b[35m 'zircon-whale'\u001b[0m - \n"
      ]
     },
     "metadata": {},
     "output_type": "display_data"
    },
    {
     "data": {
      "text/html": [
       "<pre style=\"white-space:pre;overflow-x:auto;line-height:normal;font-family:Menlo,'DejaVu Sans Mono',consolas,'Courier New',monospace\">17:21:35.767 | <span style=\"color: #008080; text-decoration-color: #008080\">INFO</span>    | Flow run<span style=\"color: #800080; text-decoration-color: #800080\"> 'zircon-whale'</span> - \n",
       "</pre>\n"
      ],
      "text/plain": [
       "17:21:35.767 | \u001b[36mINFO\u001b[0m    | Flow run\u001b[35m 'zircon-whale'\u001b[0m - \n"
      ]
     },
     "metadata": {},
     "output_type": "display_data"
    },
    {
     "data": {
      "text/html": [
       "<pre style=\"white-space:pre;overflow-x:auto;line-height:normal;font-family:Menlo,'DejaVu Sans Mono',consolas,'Courier New',monospace\">17:21:35.768 | <span style=\"color: #008080; text-decoration-color: #008080\">INFO</span>    | Flow run<span style=\"color: #800080; text-decoration-color: #800080\"> 'zircon-whale'</span> - \n",
       "</pre>\n"
      ],
      "text/plain": [
       "17:21:35.768 | \u001b[36mINFO\u001b[0m    | Flow run\u001b[35m 'zircon-whale'\u001b[0m - \n"
      ]
     },
     "metadata": {},
     "output_type": "display_data"
    },
    {
     "data": {
      "text/html": [
       "<pre style=\"white-space:pre;overflow-x:auto;line-height:normal;font-family:Menlo,'DejaVu Sans Mono',consolas,'Courier New',monospace\">17:21:35.770 | <span style=\"color: #008080; text-decoration-color: #008080\">INFO</span>    | Flow run<span style=\"color: #800080; text-decoration-color: #800080\"> 'zircon-whale'</span> - \n",
       "</pre>\n"
      ],
      "text/plain": [
       "17:21:35.770 | \u001b[36mINFO\u001b[0m    | Flow run\u001b[35m 'zircon-whale'\u001b[0m - \n"
      ]
     },
     "metadata": {},
     "output_type": "display_data"
    },
    {
     "data": {
      "text/html": [
       "<pre style=\"white-space:pre;overflow-x:auto;line-height:normal;font-family:Menlo,'DejaVu Sans Mono',consolas,'Courier New',monospace\">17:21:35.771 | <span style=\"color: #008080; text-decoration-color: #008080\">INFO</span>    | Flow run<span style=\"color: #800080; text-decoration-color: #800080\"> 'zircon-whale'</span> - \n",
       "</pre>\n"
      ],
      "text/plain": [
       "17:21:35.771 | \u001b[36mINFO\u001b[0m    | Flow run\u001b[35m 'zircon-whale'\u001b[0m - \n"
      ]
     },
     "metadata": {},
     "output_type": "display_data"
    },
    {
     "data": {
      "text/html": [
       "<pre style=\"white-space:pre;overflow-x:auto;line-height:normal;font-family:Menlo,'DejaVu Sans Mono',consolas,'Courier New',monospace\">17:21:35.773 | <span style=\"color: #008080; text-decoration-color: #008080\">INFO</span>    | Flow run<span style=\"color: #800080; text-decoration-color: #800080\"> 'zircon-whale'</span> - \n",
       "</pre>\n"
      ],
      "text/plain": [
       "17:21:35.773 | \u001b[36mINFO\u001b[0m    | Flow run\u001b[35m 'zircon-whale'\u001b[0m - \n"
      ]
     },
     "metadata": {},
     "output_type": "display_data"
    },
    {
     "data": {
      "text/html": [
       "<pre style=\"white-space:pre;overflow-x:auto;line-height:normal;font-family:Menlo,'DejaVu Sans Mono',consolas,'Courier New',monospace\">17:21:35.774 | <span style=\"color: #008080; text-decoration-color: #008080\">INFO</span>    | Flow run<span style=\"color: #800080; text-decoration-color: #800080\"> 'zircon-whale'</span> - \n",
       "</pre>\n"
      ],
      "text/plain": [
       "17:21:35.774 | \u001b[36mINFO\u001b[0m    | Flow run\u001b[35m 'zircon-whale'\u001b[0m - \n"
      ]
     },
     "metadata": {},
     "output_type": "display_data"
    },
    {
     "data": {
      "text/html": [
       "<pre style=\"white-space:pre;overflow-x:auto;line-height:normal;font-family:Menlo,'DejaVu Sans Mono',consolas,'Courier New',monospace\">17:21:35.775 | <span style=\"color: #008080; text-decoration-color: #008080\">INFO</span>    | Flow run<span style=\"color: #800080; text-decoration-color: #800080\"> 'zircon-whale'</span> - \n",
       "</pre>\n"
      ],
      "text/plain": [
       "17:21:35.775 | \u001b[36mINFO\u001b[0m    | Flow run\u001b[35m 'zircon-whale'\u001b[0m - \n"
      ]
     },
     "metadata": {},
     "output_type": "display_data"
    },
    {
     "data": {
      "text/html": [
       "<pre style=\"white-space:pre;overflow-x:auto;line-height:normal;font-family:Menlo,'DejaVu Sans Mono',consolas,'Courier New',monospace\">17:21:35.776 | <span style=\"color: #008080; text-decoration-color: #008080\">INFO</span>    | Flow run<span style=\"color: #800080; text-decoration-color: #800080\"> 'zircon-whale'</span> - \n",
       "</pre>\n"
      ],
      "text/plain": [
       "17:21:35.776 | \u001b[36mINFO\u001b[0m    | Flow run\u001b[35m 'zircon-whale'\u001b[0m - \n"
      ]
     },
     "metadata": {},
     "output_type": "display_data"
    },
    {
     "data": {
      "text/html": [
       "<pre style=\"white-space:pre;overflow-x:auto;line-height:normal;font-family:Menlo,'DejaVu Sans Mono',consolas,'Courier New',monospace\">17:21:35.777 | <span style=\"color: #008080; text-decoration-color: #008080\">INFO</span>    | Flow run<span style=\"color: #800080; text-decoration-color: #800080\"> 'zircon-whale'</span> - \n",
       "</pre>\n"
      ],
      "text/plain": [
       "17:21:35.777 | \u001b[36mINFO\u001b[0m    | Flow run\u001b[35m 'zircon-whale'\u001b[0m - \n"
      ]
     },
     "metadata": {},
     "output_type": "display_data"
    },
    {
     "data": {
      "text/html": [
       "<pre style=\"white-space:pre;overflow-x:auto;line-height:normal;font-family:Menlo,'DejaVu Sans Mono',consolas,'Courier New',monospace\">17:21:35.779 | <span style=\"color: #008080; text-decoration-color: #008080\">INFO</span>    | Flow run<span style=\"color: #800080; text-decoration-color: #800080\"> 'zircon-whale'</span> - \n",
       "</pre>\n"
      ],
      "text/plain": [
       "17:21:35.779 | \u001b[36mINFO\u001b[0m    | Flow run\u001b[35m 'zircon-whale'\u001b[0m - \n"
      ]
     },
     "metadata": {},
     "output_type": "display_data"
    },
    {
     "name": "stderr",
     "output_type": "stream",
     "text": [
      "C:\\Users\\Administrator\\AppData\\Local\\Temp\\ipykernel_20396\\3833557296.py:235: UserWarning: 任务执行结果为42，这可能需要注意！\n",
      "  warnings.warn(\"任务执行结果为42，这可能需要注意！\")\n"
     ]
    },
    {
     "data": {
      "text/html": [
       "<pre style=\"white-space:pre;overflow-x:auto;line-height:normal;font-family:Menlo,'DejaVu Sans Mono',consolas,'Courier New',monospace\">17:21:35.794 | <span style=\"color: #008080; text-decoration-color: #008080\">INFO</span>    | Flow run<span style=\"color: #800080; text-decoration-color: #800080\"> 'zircon-whale'</span> - ----   readMode 0 / stream 0 / bit 8 / frame 1 ---------&gt;\n",
       "</pre>\n"
      ],
      "text/plain": [
       "17:21:35.794 | \u001b[36mINFO\u001b[0m    | Flow run\u001b[35m 'zircon-whale'\u001b[0m - ----   readMode 0 / stream 0 / bit 8 / frame 1 --------->\n"
      ]
     },
     "metadata": {},
     "output_type": "display_data"
    },
    {
     "data": {
      "text/html": [
       "<pre style=\"white-space:pre;overflow-x:auto;line-height:normal;font-family:Menlo,'DejaVu Sans Mono',consolas,'Courier New',monospace\">17:21:36.974 | <span style=\"color: #008080; text-decoration-color: #008080\">INFO</span>    | Flow run<span style=\"color: #800080; text-decoration-color: #800080\"> 'zircon-whale'</span> - exp  single = 8193\n",
       "</pre>\n"
      ],
      "text/plain": [
       "17:21:36.974 | \u001b[36mINFO\u001b[0m    | Flow run\u001b[35m 'zircon-whale'\u001b[0m - exp  single = 8193\n"
      ]
     },
     "metadata": {},
     "output_type": "display_data"
    },
    {
     "data": {
      "text/html": [
       "<pre style=\"white-space:pre;overflow-x:auto;line-height:normal;font-family:Menlo,'DejaVu Sans Mono',consolas,'Courier New',monospace\">17:21:38.473 | <span style=\"color: #008080; text-decoration-color: #008080\">INFO</span>    | Flow run<span style=\"color: #800080; text-decoration-color: #800080\"> 'zircon-whale'</span> - read  single = 0\n",
       "</pre>\n"
      ],
      "text/plain": [
       "17:21:38.473 | \u001b[36mINFO\u001b[0m    | Flow run\u001b[35m 'zircon-whale'\u001b[0m - read  single = 0\n"
      ]
     },
     "metadata": {},
     "output_type": "display_data"
    },
    {
     "data": {
      "text/html": [
       "<pre style=\"white-space:pre;overflow-x:auto;line-height:normal;font-family:Menlo,'DejaVu Sans Mono',consolas,'Courier New',monospace\">17:21:40.476 | <span style=\"color: #008080; text-decoration-color: #008080\">INFO</span>    | Flow run<span style=\"color: #800080; text-decoration-color: #800080\"> 'zircon-whale'</span> - ----------------&gt;68904928\n",
       "</pre>\n"
      ],
      "text/plain": [
       "17:21:40.476 | \u001b[36mINFO\u001b[0m    | Flow run\u001b[35m 'zircon-whale'\u001b[0m - ---------------->68904928\n"
      ]
     },
     "metadata": {},
     "output_type": "display_data"
    },
    {
     "data": {
      "text/html": [
       "<pre style=\"white-space:pre;overflow-x:auto;line-height:normal;font-family:Menlo,'DejaVu Sans Mono',consolas,'Courier New',monospace\">17:21:40.477 | <span style=\"color: #008080; text-decoration-color: #008080\">INFO</span>    | Flow run<span style=\"color: #800080; text-decoration-color: #800080\"> 'zircon-whale'</span> - image size =     16398432\n",
       "</pre>\n"
      ],
      "text/plain": [
       "17:21:40.477 | \u001b[36mINFO\u001b[0m    | Flow run\u001b[35m 'zircon-whale'\u001b[0m - image size =     16398432\n"
      ]
     },
     "metadata": {},
     "output_type": "display_data"
    },
    {
     "data": {
      "text/html": [
       "<pre style=\"white-space:pre;overflow-x:auto;line-height:normal;font-family:Menlo,'DejaVu Sans Mono',consolas,'Courier New',monospace\">17:21:40.479 | <span style=\"color: #008080; text-decoration-color: #008080\">INFO</span>    | Flow run<span style=\"color: #800080; text-decoration-color: #800080\"> 'zircon-whale'</span> - prev_img_list sub length--&gt;68904928\n",
       "</pre>\n"
      ],
      "text/plain": [
       "17:21:40.479 | \u001b[36mINFO\u001b[0m    | Flow run\u001b[35m 'zircon-whale'\u001b[0m - prev_img_list sub length-->68904928\n"
      ]
     },
     "metadata": {},
     "output_type": "display_data"
    },
    {
     "data": {
      "text/html": [
       "<pre style=\"white-space:pre;overflow-x:auto;line-height:normal;font-family:Menlo,'DejaVu Sans Mono',consolas,'Courier New',monospace\">17:21:40.480 | <span style=\"color: #008080; text-decoration-color: #008080\">INFO</span>    | Flow run<span style=\"color: #800080; text-decoration-color: #800080\"> 'zircon-whale'</span> - Image W=4656        H=3522\n",
       "</pre>\n"
      ],
      "text/plain": [
       "17:21:40.480 | \u001b[36mINFO\u001b[0m    | Flow run\u001b[35m 'zircon-whale'\u001b[0m - Image W=4656        H=3522\n"
      ]
     },
     "metadata": {},
     "output_type": "display_data"
    },
    {
     "data": {
      "text/html": [
       "<pre style=\"white-space:pre;overflow-x:auto;line-height:normal;font-family:Menlo,'DejaVu Sans Mono',consolas,'Courier New',monospace\">17:21:40.514 | <span style=\"color: #008080; text-decoration-color: #008080\">INFO</span>    | Flow run<span style=\"color: #800080; text-decoration-color: #800080\"> 'zircon-whale'</span> - input image dims: 400 x 400\n",
       "</pre>\n"
      ],
      "text/plain": [
       "17:21:40.514 | \u001b[36mINFO\u001b[0m    | Flow run\u001b[35m 'zircon-whale'\u001b[0m - input image dims: 400 x 400\n"
      ]
     },
     "metadata": {},
     "output_type": "display_data"
    },
    {
     "data": {
      "text/html": [
       "<pre style=\"white-space:pre;overflow-x:auto;line-height:normal;font-family:Menlo,'DejaVu Sans Mono',consolas,'Courier New',monospace\">17:21:40.516 | <span style=\"color: #008080; text-decoration-color: #008080\">INFO</span>    | Flow run<span style=\"color: #800080; text-decoration-color: #800080\"> 'zircon-whale'</span> - cols: 50, rows: 25\n",
       "</pre>\n"
      ],
      "text/plain": [
       "17:21:40.516 | \u001b[36mINFO\u001b[0m    | Flow run\u001b[35m 'zircon-whale'\u001b[0m - cols: 50, rows: 25\n"
      ]
     },
     "metadata": {},
     "output_type": "display_data"
    },
    {
     "data": {
      "text/html": [
       "<pre style=\"white-space:pre;overflow-x:auto;line-height:normal;font-family:Menlo,'DejaVu Sans Mono',consolas,'Courier New',monospace\">17:21:40.517 | <span style=\"color: #008080; text-decoration-color: #008080\">INFO</span>    | Flow run<span style=\"color: #800080; text-decoration-color: #800080\"> 'zircon-whale'</span> - tile dims: 8 x 16\n",
       "</pre>\n"
      ],
      "text/plain": [
       "17:21:40.517 | \u001b[36mINFO\u001b[0m    | Flow run\u001b[35m 'zircon-whale'\u001b[0m - tile dims: 8 x 16\n"
      ]
     },
     "metadata": {},
     "output_type": "display_data"
    },
    {
     "data": {
      "text/html": [
       "<pre style=\"white-space:pre;overflow-x:auto;line-height:normal;font-family:Menlo,'DejaVu Sans Mono',consolas,'Courier New',monospace\">17:21:40.551 | <span style=\"color: #008080; text-decoration-color: #008080\">INFO</span>    | Flow run<span style=\"color: #800080; text-decoration-color: #800080\"> 'zircon-whale'</span> - \n",
       "</pre>\n"
      ],
      "text/plain": [
       "17:21:40.551 | \u001b[36mINFO\u001b[0m    | Flow run\u001b[35m 'zircon-whale'\u001b[0m - \n"
      ]
     },
     "metadata": {},
     "output_type": "display_data"
    },
    {
     "data": {
      "text/html": [
       "<pre style=\"white-space:pre;overflow-x:auto;line-height:normal;font-family:Menlo,'DejaVu Sans Mono',consolas,'Courier New',monospace\">17:21:40.553 | <span style=\"color: #008080; text-decoration-color: #008080\">INFO</span>    | Flow run<span style=\"color: #800080; text-decoration-color: #800080\"> 'zircon-whale'</span> - \n",
       "</pre>\n"
      ],
      "text/plain": [
       "17:21:40.553 | \u001b[36mINFO\u001b[0m    | Flow run\u001b[35m 'zircon-whale'\u001b[0m - \n"
      ]
     },
     "metadata": {},
     "output_type": "display_data"
    },
    {
     "data": {
      "text/html": [
       "<pre style=\"white-space:pre;overflow-x:auto;line-height:normal;font-family:Menlo,'DejaVu Sans Mono',consolas,'Courier New',monospace\">17:21:40.554 | <span style=\"color: #008080; text-decoration-color: #008080\">INFO</span>    | Flow run<span style=\"color: #800080; text-decoration-color: #800080\"> 'zircon-whale'</span> - \n",
       "</pre>\n"
      ],
      "text/plain": [
       "17:21:40.554 | \u001b[36mINFO\u001b[0m    | Flow run\u001b[35m 'zircon-whale'\u001b[0m - \n"
      ]
     },
     "metadata": {},
     "output_type": "display_data"
    },
    {
     "data": {
      "text/html": [
       "<pre style=\"white-space:pre;overflow-x:auto;line-height:normal;font-family:Menlo,'DejaVu Sans Mono',consolas,'Courier New',monospace\">17:21:40.555 | <span style=\"color: #008080; text-decoration-color: #008080\">INFO</span>    | Flow run<span style=\"color: #800080; text-decoration-color: #800080\"> 'zircon-whale'</span> - \n",
       "</pre>\n"
      ],
      "text/plain": [
       "17:21:40.555 | \u001b[36mINFO\u001b[0m    | Flow run\u001b[35m 'zircon-whale'\u001b[0m - \n"
      ]
     },
     "metadata": {},
     "output_type": "display_data"
    },
    {
     "data": {
      "text/html": [
       "<pre style=\"white-space:pre;overflow-x:auto;line-height:normal;font-family:Menlo,'DejaVu Sans Mono',consolas,'Courier New',monospace\">17:21:40.556 | <span style=\"color: #008080; text-decoration-color: #008080\">INFO</span>    | Flow run<span style=\"color: #800080; text-decoration-color: #800080\"> 'zircon-whale'</span> - \n",
       "</pre>\n"
      ],
      "text/plain": [
       "17:21:40.556 | \u001b[36mINFO\u001b[0m    | Flow run\u001b[35m 'zircon-whale'\u001b[0m - \n"
      ]
     },
     "metadata": {},
     "output_type": "display_data"
    },
    {
     "data": {
      "text/html": [
       "<pre style=\"white-space:pre;overflow-x:auto;line-height:normal;font-family:Menlo,'DejaVu Sans Mono',consolas,'Courier New',monospace\">17:21:40.558 | <span style=\"color: #008080; text-decoration-color: #008080\">INFO</span>    | Flow run<span style=\"color: #800080; text-decoration-color: #800080\"> 'zircon-whale'</span> - \n",
       "</pre>\n"
      ],
      "text/plain": [
       "17:21:40.558 | \u001b[36mINFO\u001b[0m    | Flow run\u001b[35m 'zircon-whale'\u001b[0m - \n"
      ]
     },
     "metadata": {},
     "output_type": "display_data"
    },
    {
     "data": {
      "text/html": [
       "<pre style=\"white-space:pre;overflow-x:auto;line-height:normal;font-family:Menlo,'DejaVu Sans Mono',consolas,'Courier New',monospace\">17:21:40.559 | <span style=\"color: #008080; text-decoration-color: #008080\">INFO</span>    | Flow run<span style=\"color: #800080; text-decoration-color: #800080\"> 'zircon-whale'</span> - \n",
       "</pre>\n"
      ],
      "text/plain": [
       "17:21:40.559 | \u001b[36mINFO\u001b[0m    | Flow run\u001b[35m 'zircon-whale'\u001b[0m - \n"
      ]
     },
     "metadata": {},
     "output_type": "display_data"
    },
    {
     "data": {
      "text/html": [
       "<pre style=\"white-space:pre;overflow-x:auto;line-height:normal;font-family:Menlo,'DejaVu Sans Mono',consolas,'Courier New',monospace\">17:21:40.561 | <span style=\"color: #008080; text-decoration-color: #008080\">INFO</span>    | Flow run<span style=\"color: #800080; text-decoration-color: #800080\"> 'zircon-whale'</span> - \n",
       "</pre>\n"
      ],
      "text/plain": [
       "17:21:40.561 | \u001b[36mINFO\u001b[0m    | Flow run\u001b[35m 'zircon-whale'\u001b[0m - \n"
      ]
     },
     "metadata": {},
     "output_type": "display_data"
    },
    {
     "data": {
      "text/html": [
       "<pre style=\"white-space:pre;overflow-x:auto;line-height:normal;font-family:Menlo,'DejaVu Sans Mono',consolas,'Courier New',monospace\">17:21:40.562 | <span style=\"color: #008080; text-decoration-color: #008080\">INFO</span>    | Flow run<span style=\"color: #800080; text-decoration-color: #800080\"> 'zircon-whale'</span> - \n",
       "</pre>\n"
      ],
      "text/plain": [
       "17:21:40.562 | \u001b[36mINFO\u001b[0m    | Flow run\u001b[35m 'zircon-whale'\u001b[0m - \n"
      ]
     },
     "metadata": {},
     "output_type": "display_data"
    },
    {
     "data": {
      "text/html": [
       "<pre style=\"white-space:pre;overflow-x:auto;line-height:normal;font-family:Menlo,'DejaVu Sans Mono',consolas,'Courier New',monospace\">17:21:40.563 | <span style=\"color: #008080; text-decoration-color: #008080\">INFO</span>    | Flow run<span style=\"color: #800080; text-decoration-color: #800080\"> 'zircon-whale'</span> - \n",
       "</pre>\n"
      ],
      "text/plain": [
       "17:21:40.563 | \u001b[36mINFO\u001b[0m    | Flow run\u001b[35m 'zircon-whale'\u001b[0m - \n"
      ]
     },
     "metadata": {},
     "output_type": "display_data"
    },
    {
     "data": {
      "text/html": [
       "<pre style=\"white-space:pre;overflow-x:auto;line-height:normal;font-family:Menlo,'DejaVu Sans Mono',consolas,'Courier New',monospace\">17:21:40.565 | <span style=\"color: #008080; text-decoration-color: #008080\">INFO</span>    | Flow run<span style=\"color: #800080; text-decoration-color: #800080\"> 'zircon-whale'</span> - \n",
       "</pre>\n"
      ],
      "text/plain": [
       "17:21:40.565 | \u001b[36mINFO\u001b[0m    | Flow run\u001b[35m 'zircon-whale'\u001b[0m - \n"
      ]
     },
     "metadata": {},
     "output_type": "display_data"
    },
    {
     "data": {
      "text/html": [
       "<pre style=\"white-space:pre;overflow-x:auto;line-height:normal;font-family:Menlo,'DejaVu Sans Mono',consolas,'Courier New',monospace\">17:21:40.566 | <span style=\"color: #008080; text-decoration-color: #008080\">INFO</span>    | Flow run<span style=\"color: #800080; text-decoration-color: #800080\"> 'zircon-whale'</span> - \n",
       "</pre>\n"
      ],
      "text/plain": [
       "17:21:40.566 | \u001b[36mINFO\u001b[0m    | Flow run\u001b[35m 'zircon-whale'\u001b[0m - \n"
      ]
     },
     "metadata": {},
     "output_type": "display_data"
    },
    {
     "data": {
      "text/html": [
       "<pre style=\"white-space:pre;overflow-x:auto;line-height:normal;font-family:Menlo,'DejaVu Sans Mono',consolas,'Courier New',monospace\">17:21:40.567 | <span style=\"color: #008080; text-decoration-color: #008080\">INFO</span>    | Flow run<span style=\"color: #800080; text-decoration-color: #800080\"> 'zircon-whale'</span> - \n",
       "</pre>\n"
      ],
      "text/plain": [
       "17:21:40.567 | \u001b[36mINFO\u001b[0m    | Flow run\u001b[35m 'zircon-whale'\u001b[0m - \n"
      ]
     },
     "metadata": {},
     "output_type": "display_data"
    },
    {
     "data": {
      "text/html": [
       "<pre style=\"white-space:pre;overflow-x:auto;line-height:normal;font-family:Menlo,'DejaVu Sans Mono',consolas,'Courier New',monospace\">17:21:40.568 | <span style=\"color: #008080; text-decoration-color: #008080\">INFO</span>    | Flow run<span style=\"color: #800080; text-decoration-color: #800080\"> 'zircon-whale'</span> - \n",
       "</pre>\n"
      ],
      "text/plain": [
       "17:21:40.568 | \u001b[36mINFO\u001b[0m    | Flow run\u001b[35m 'zircon-whale'\u001b[0m - \n"
      ]
     },
     "metadata": {},
     "output_type": "display_data"
    },
    {
     "data": {
      "text/html": [
       "<pre style=\"white-space:pre;overflow-x:auto;line-height:normal;font-family:Menlo,'DejaVu Sans Mono',consolas,'Courier New',monospace\">17:21:40.570 | <span style=\"color: #008080; text-decoration-color: #008080\">INFO</span>    | Flow run<span style=\"color: #800080; text-decoration-color: #800080\"> 'zircon-whale'</span> - \n",
       "</pre>\n"
      ],
      "text/plain": [
       "17:21:40.570 | \u001b[36mINFO\u001b[0m    | Flow run\u001b[35m 'zircon-whale'\u001b[0m - \n"
      ]
     },
     "metadata": {},
     "output_type": "display_data"
    },
    {
     "data": {
      "text/html": [
       "<pre style=\"white-space:pre;overflow-x:auto;line-height:normal;font-family:Menlo,'DejaVu Sans Mono',consolas,'Courier New',monospace\">17:21:40.571 | <span style=\"color: #008080; text-decoration-color: #008080\">INFO</span>    | Flow run<span style=\"color: #800080; text-decoration-color: #800080\"> 'zircon-whale'</span> - \n",
       "</pre>\n"
      ],
      "text/plain": [
       "17:21:40.571 | \u001b[36mINFO\u001b[0m    | Flow run\u001b[35m 'zircon-whale'\u001b[0m - \n"
      ]
     },
     "metadata": {},
     "output_type": "display_data"
    },
    {
     "data": {
      "text/html": [
       "<pre style=\"white-space:pre;overflow-x:auto;line-height:normal;font-family:Menlo,'DejaVu Sans Mono',consolas,'Courier New',monospace\">17:21:40.572 | <span style=\"color: #008080; text-decoration-color: #008080\">INFO</span>    | Flow run<span style=\"color: #800080; text-decoration-color: #800080\"> 'zircon-whale'</span> - \n",
       "</pre>\n"
      ],
      "text/plain": [
       "17:21:40.572 | \u001b[36mINFO\u001b[0m    | Flow run\u001b[35m 'zircon-whale'\u001b[0m - \n"
      ]
     },
     "metadata": {},
     "output_type": "display_data"
    },
    {
     "data": {
      "text/html": [
       "<pre style=\"white-space:pre;overflow-x:auto;line-height:normal;font-family:Menlo,'DejaVu Sans Mono',consolas,'Courier New',monospace\">17:21:40.573 | <span style=\"color: #008080; text-decoration-color: #008080\">INFO</span>    | Flow run<span style=\"color: #800080; text-decoration-color: #800080\"> 'zircon-whale'</span> - \n",
       "</pre>\n"
      ],
      "text/plain": [
       "17:21:40.573 | \u001b[36mINFO\u001b[0m    | Flow run\u001b[35m 'zircon-whale'\u001b[0m - \n"
      ]
     },
     "metadata": {},
     "output_type": "display_data"
    },
    {
     "data": {
      "text/html": [
       "<pre style=\"white-space:pre;overflow-x:auto;line-height:normal;font-family:Menlo,'DejaVu Sans Mono',consolas,'Courier New',monospace\">17:21:40.574 | <span style=\"color: #008080; text-decoration-color: #008080\">INFO</span>    | Flow run<span style=\"color: #800080; text-decoration-color: #800080\"> 'zircon-whale'</span> - \n",
       "</pre>\n"
      ],
      "text/plain": [
       "17:21:40.574 | \u001b[36mINFO\u001b[0m    | Flow run\u001b[35m 'zircon-whale'\u001b[0m - \n"
      ]
     },
     "metadata": {},
     "output_type": "display_data"
    },
    {
     "data": {
      "text/html": [
       "<pre style=\"white-space:pre;overflow-x:auto;line-height:normal;font-family:Menlo,'DejaVu Sans Mono',consolas,'Courier New',monospace\">17:21:40.576 | <span style=\"color: #008080; text-decoration-color: #008080\">INFO</span>    | Flow run<span style=\"color: #800080; text-decoration-color: #800080\"> 'zircon-whale'</span> - \n",
       "</pre>\n"
      ],
      "text/plain": [
       "17:21:40.576 | \u001b[36mINFO\u001b[0m    | Flow run\u001b[35m 'zircon-whale'\u001b[0m - \n"
      ]
     },
     "metadata": {},
     "output_type": "display_data"
    },
    {
     "data": {
      "text/html": [
       "<pre style=\"white-space:pre;overflow-x:auto;line-height:normal;font-family:Menlo,'DejaVu Sans Mono',consolas,'Courier New',monospace\">17:21:40.577 | <span style=\"color: #008080; text-decoration-color: #008080\">INFO</span>    | Flow run<span style=\"color: #800080; text-decoration-color: #800080\"> 'zircon-whale'</span> - \n",
       "</pre>\n"
      ],
      "text/plain": [
       "17:21:40.577 | \u001b[36mINFO\u001b[0m    | Flow run\u001b[35m 'zircon-whale'\u001b[0m - \n"
      ]
     },
     "metadata": {},
     "output_type": "display_data"
    },
    {
     "data": {
      "text/html": [
       "<pre style=\"white-space:pre;overflow-x:auto;line-height:normal;font-family:Menlo,'DejaVu Sans Mono',consolas,'Courier New',monospace\">17:21:40.578 | <span style=\"color: #008080; text-decoration-color: #008080\">INFO</span>    | Flow run<span style=\"color: #800080; text-decoration-color: #800080\"> 'zircon-whale'</span> - \n",
       "</pre>\n"
      ],
      "text/plain": [
       "17:21:40.578 | \u001b[36mINFO\u001b[0m    | Flow run\u001b[35m 'zircon-whale'\u001b[0m - \n"
      ]
     },
     "metadata": {},
     "output_type": "display_data"
    },
    {
     "data": {
      "text/html": [
       "<pre style=\"white-space:pre;overflow-x:auto;line-height:normal;font-family:Menlo,'DejaVu Sans Mono',consolas,'Courier New',monospace\">17:21:40.579 | <span style=\"color: #008080; text-decoration-color: #008080\">INFO</span>    | Flow run<span style=\"color: #800080; text-decoration-color: #800080\"> 'zircon-whale'</span> - \n",
       "</pre>\n"
      ],
      "text/plain": [
       "17:21:40.579 | \u001b[36mINFO\u001b[0m    | Flow run\u001b[35m 'zircon-whale'\u001b[0m - \n"
      ]
     },
     "metadata": {},
     "output_type": "display_data"
    },
    {
     "data": {
      "text/html": [
       "<pre style=\"white-space:pre;overflow-x:auto;line-height:normal;font-family:Menlo,'DejaVu Sans Mono',consolas,'Courier New',monospace\">17:21:40.581 | <span style=\"color: #008080; text-decoration-color: #008080\">INFO</span>    | Flow run<span style=\"color: #800080; text-decoration-color: #800080\"> 'zircon-whale'</span> - \n",
       "</pre>\n"
      ],
      "text/plain": [
       "17:21:40.581 | \u001b[36mINFO\u001b[0m    | Flow run\u001b[35m 'zircon-whale'\u001b[0m - \n"
      ]
     },
     "metadata": {},
     "output_type": "display_data"
    },
    {
     "data": {
      "text/html": [
       "<pre style=\"white-space:pre;overflow-x:auto;line-height:normal;font-family:Menlo,'DejaVu Sans Mono',consolas,'Courier New',monospace\">17:21:40.582 | <span style=\"color: #008080; text-decoration-color: #008080\">INFO</span>    | Flow run<span style=\"color: #800080; text-decoration-color: #800080\"> 'zircon-whale'</span> - \n",
       "</pre>\n"
      ],
      "text/plain": [
       "17:21:40.582 | \u001b[36mINFO\u001b[0m    | Flow run\u001b[35m 'zircon-whale'\u001b[0m - \n"
      ]
     },
     "metadata": {},
     "output_type": "display_data"
    },
    {
     "data": {
      "text/html": [
       "<pre style=\"white-space:pre;overflow-x:auto;line-height:normal;font-family:Menlo,'DejaVu Sans Mono',consolas,'Courier New',monospace\">17:21:40.596 | <span style=\"color: #008080; text-decoration-color: #008080\">INFO</span>    | Flow run<span style=\"color: #800080; text-decoration-color: #800080\"> 'zircon-whale'</span> - ----   readMode 0 / stream 0 / bit 8 / frame 2 ---------&gt;\n",
       "</pre>\n"
      ],
      "text/plain": [
       "17:21:40.596 | \u001b[36mINFO\u001b[0m    | Flow run\u001b[35m 'zircon-whale'\u001b[0m - ----   readMode 0 / stream 0 / bit 8 / frame 2 --------->\n"
      ]
     },
     "metadata": {},
     "output_type": "display_data"
    },
    {
     "data": {
      "text/html": [
       "<pre style=\"white-space:pre;overflow-x:auto;line-height:normal;font-family:Menlo,'DejaVu Sans Mono',consolas,'Courier New',monospace\">17:21:41.626 | <span style=\"color: #008080; text-decoration-color: #008080\">INFO</span>    | Flow run<span style=\"color: #800080; text-decoration-color: #800080\"> 'zircon-whale'</span> - Finished in state <span style=\"color: #008000; text-decoration-color: #008000\">Completed</span>()\n",
       "</pre>\n"
      ],
      "text/plain": [
       "17:21:41.626 | \u001b[36mINFO\u001b[0m    | Flow run\u001b[35m 'zircon-whale'\u001b[0m - Finished in state \u001b[32mCompleted\u001b[0m()\n"
      ]
     },
     "metadata": {},
     "output_type": "display_data"
    },
    {
     "data": {
      "text/html": [
       "<pre style=\"white-space:pre;overflow-x:auto;line-height:normal;font-family:Menlo,'DejaVu Sans Mono',consolas,'Courier New',monospace\">17:21:41.776 | <span style=\"color: #008080; text-decoration-color: #008080\">INFO</span>    | prefect.engine - Created flow run<span style=\"color: #800080; text-decoration-color: #800080\"> 'famous-snake'</span> for flow<span style=\"color: #800080; text-decoration-color: #800080; font-weight: bold\"> 'test-frame'</span>\n",
       "</pre>\n"
      ],
      "text/plain": [
       "17:21:41.776 | \u001b[36mINFO\u001b[0m    | prefect.engine - Created flow run\u001b[35m 'famous-snake'\u001b[0m for flow\u001b[1;35m 'test-frame'\u001b[0m\n"
      ]
     },
     "metadata": {},
     "output_type": "display_data"
    },
    {
     "data": {
      "text/html": [
       "<pre style=\"white-space:pre;overflow-x:auto;line-height:normal;font-family:Menlo,'DejaVu Sans Mono',consolas,'Courier New',monospace\">17:21:41.812 | <span style=\"color: #008080; text-decoration-color: #008080\">INFO</span>    | Flow run<span style=\"color: #800080; text-decoration-color: #800080\"> 'famous-snake'</span> - open camera QHY163M-28dfcb448cba4b153\n",
       "</pre>\n"
      ],
      "text/plain": [
       "17:21:41.812 | \u001b[36mINFO\u001b[0m    | Flow run\u001b[35m 'famous-snake'\u001b[0m - open camera QHY163M-28dfcb448cba4b153\n"
      ]
     },
     "metadata": {},
     "output_type": "display_data"
    },
    {
     "data": {
      "text/html": [
       "<pre style=\"white-space:pre;overflow-x:auto;line-height:normal;font-family:Menlo,'DejaVu Sans Mono',consolas,'Courier New',monospace\">17:21:41.815 | <span style=\"color: #008080; text-decoration-color: #008080\">INFO</span>    | Flow run<span style=\"color: #800080; text-decoration-color: #800080\"> 'famous-snake'</span> - set StreamMode   =0\n",
       "</pre>\n"
      ],
      "text/plain": [
       "17:21:41.815 | \u001b[36mINFO\u001b[0m    | Flow run\u001b[35m 'famous-snake'\u001b[0m - set StreamMode   =0\n"
      ]
     },
     "metadata": {},
     "output_type": "display_data"
    },
    {
     "data": {
      "text/html": [
       "<pre style=\"white-space:pre;overflow-x:auto;line-height:normal;font-family:Menlo,'DejaVu Sans Mono',consolas,'Courier New',monospace\">17:21:41.826 | <span style=\"color: #008080; text-decoration-color: #008080\">INFO</span>    | Flow run<span style=\"color: #800080; text-decoration-color: #800080\"> 'famous-snake'</span> - init Camera   =0\n",
       "</pre>\n"
      ],
      "text/plain": [
       "17:21:41.826 | \u001b[36mINFO\u001b[0m    | Flow run\u001b[35m 'famous-snake'\u001b[0m - init Camera   =0\n"
      ]
     },
     "metadata": {},
     "output_type": "display_data"
    },
    {
     "data": {
      "text/html": [
       "<pre style=\"white-space:pre;overflow-x:auto;line-height:normal;font-family:Menlo,'DejaVu Sans Mono',consolas,'Courier New',monospace\">17:21:41.829 | <span style=\"color: #008080; text-decoration-color: #008080\">INFO</span>    | Flow run<span style=\"color: #800080; text-decoration-color: #800080\"> 'famous-snake'</span> - info.   =0\n",
       "</pre>\n"
      ],
      "text/plain": [
       "17:21:41.829 | \u001b[36mINFO\u001b[0m    | Flow run\u001b[35m 'famous-snake'\u001b[0m - info.   =0\n"
      ]
     },
     "metadata": {},
     "output_type": "display_data"
    },
    {
     "data": {
      "text/html": [
       "<pre style=\"white-space:pre;overflow-x:auto;line-height:normal;font-family:Menlo,'DejaVu Sans Mono',consolas,'Courier New',monospace\">17:21:41.830 | <span style=\"color: #008080; text-decoration-color: #008080\">INFO</span>    | Flow run<span style=\"color: #800080; text-decoration-color: #800080\"> 'famous-snake'</span> - c-w:     17.6472\n",
       "</pre>\n"
      ],
      "text/plain": [
       "17:21:41.830 | \u001b[36mINFO\u001b[0m    | Flow run\u001b[35m 'famous-snake'\u001b[0m - c-w:     17.6472\n"
      ]
     },
     "metadata": {},
     "output_type": "display_data"
    },
    {
     "data": {
      "text/html": [
       "<pre style=\"white-space:pre;overflow-x:auto;line-height:normal;font-family:Menlo,'DejaVu Sans Mono',consolas,'Courier New',monospace\">17:21:41.831 | <span style=\"color: #008080; text-decoration-color: #008080\">INFO</span>    | Flow run<span style=\"color: #800080; text-decoration-color: #800080\"> 'famous-snake'</span> -     c-h: 13.3228\n",
       "</pre>\n"
      ],
      "text/plain": [
       "17:21:41.831 | \u001b[36mINFO\u001b[0m    | Flow run\u001b[35m 'famous-snake'\u001b[0m -     c-h: 13.3228\n"
      ]
     },
     "metadata": {},
     "output_type": "display_data"
    },
    {
     "data": {
      "text/html": [
       "<pre style=\"white-space:pre;overflow-x:auto;line-height:normal;font-family:Menlo,'DejaVu Sans Mono',consolas,'Courier New',monospace\">17:21:41.833 | <span style=\"color: #008080; text-decoration-color: #008080\">INFO</span>    | Flow run<span style=\"color: #800080; text-decoration-color: #800080\"> 'famous-snake'</span> - p-w:     3.8\n",
       "</pre>\n"
      ],
      "text/plain": [
       "17:21:41.833 | \u001b[36mINFO\u001b[0m    | Flow run\u001b[35m 'famous-snake'\u001b[0m - p-w:     3.8\n"
      ]
     },
     "metadata": {},
     "output_type": "display_data"
    },
    {
     "data": {
      "text/html": [
       "<pre style=\"white-space:pre;overflow-x:auto;line-height:normal;font-family:Menlo,'DejaVu Sans Mono',consolas,'Courier New',monospace\">17:21:41.834 | <span style=\"color: #008080; text-decoration-color: #008080\">INFO</span>    | Flow run<span style=\"color: #800080; text-decoration-color: #800080\"> 'famous-snake'</span> -     p-h: 3.8\n",
       "</pre>\n"
      ],
      "text/plain": [
       "17:21:41.834 | \u001b[36mINFO\u001b[0m    | Flow run\u001b[35m 'famous-snake'\u001b[0m -     p-h: 3.8\n"
      ]
     },
     "metadata": {},
     "output_type": "display_data"
    },
    {
     "data": {
      "text/html": [
       "<pre style=\"white-space:pre;overflow-x:auto;line-height:normal;font-family:Menlo,'DejaVu Sans Mono',consolas,'Courier New',monospace\">17:21:41.835 | <span style=\"color: #008080; text-decoration-color: #008080\">INFO</span>    | Flow run<span style=\"color: #800080; text-decoration-color: #800080\"> 'famous-snake'</span> - i-w:     4656\n",
       "</pre>\n"
      ],
      "text/plain": [
       "17:21:41.835 | \u001b[36mINFO\u001b[0m    | Flow run\u001b[35m 'famous-snake'\u001b[0m - i-w:     4656\n"
      ]
     },
     "metadata": {},
     "output_type": "display_data"
    },
    {
     "data": {
      "text/html": [
       "<pre style=\"white-space:pre;overflow-x:auto;line-height:normal;font-family:Menlo,'DejaVu Sans Mono',consolas,'Courier New',monospace\">17:21:41.837 | <span style=\"color: #008080; text-decoration-color: #008080\">INFO</span>    | Flow run<span style=\"color: #800080; text-decoration-color: #800080\"> 'famous-snake'</span> -     i-h: 3522\n",
       "</pre>\n"
      ],
      "text/plain": [
       "17:21:41.837 | \u001b[36mINFO\u001b[0m    | Flow run\u001b[35m 'famous-snake'\u001b[0m -     i-h: 3522\n"
      ]
     },
     "metadata": {},
     "output_type": "display_data"
    },
    {
     "data": {
      "text/html": [
       "<pre style=\"white-space:pre;overflow-x:auto;line-height:normal;font-family:Menlo,'DejaVu Sans Mono',consolas,'Courier New',monospace\">17:21:41.839 | <span style=\"color: #008080; text-decoration-color: #008080\">INFO</span>    | Flow run<span style=\"color: #800080; text-decoration-color: #800080\"> 'famous-snake'</span> - bit: 8\n",
       "</pre>\n"
      ],
      "text/plain": [
       "17:21:41.839 | \u001b[36mINFO\u001b[0m    | Flow run\u001b[35m 'famous-snake'\u001b[0m - bit: 8\n"
      ]
     },
     "metadata": {},
     "output_type": "display_data"
    },
    {
     "data": {
      "text/html": [
       "<pre style=\"white-space:pre;overflow-x:auto;line-height:normal;font-family:Menlo,'DejaVu Sans Mono',consolas,'Courier New',monospace\">17:21:41.840 | <span style=\"color: #008080; text-decoration-color: #008080\">INFO</span>    | Flow run<span style=\"color: #800080; text-decoration-color: #800080\"> 'famous-snake'</span> - mem len: 68904928\n",
       "</pre>\n"
      ],
      "text/plain": [
       "17:21:41.840 | \u001b[36mINFO\u001b[0m    | Flow run\u001b[35m 'famous-snake'\u001b[0m - mem len: 68904928\n"
      ]
     },
     "metadata": {},
     "output_type": "display_data"
    },
    {
     "data": {
      "text/html": [
       "<pre style=\"white-space:pre;overflow-x:auto;line-height:normal;font-family:Menlo,'DejaVu Sans Mono',consolas,'Courier New',monospace\">17:21:41.841 | <span style=\"color: #008080; text-decoration-color: #008080\">INFO</span>    | Flow run<span style=\"color: #800080; text-decoration-color: #800080\"> 'famous-snake'</span> - using c_uint8()\n",
       "</pre>\n"
      ],
      "text/plain": [
       "17:21:41.841 | \u001b[36mINFO\u001b[0m    | Flow run\u001b[35m 'famous-snake'\u001b[0m - using c_uint8()\n"
      ]
     },
     "metadata": {},
     "output_type": "display_data"
    },
    {
     "data": {
      "text/html": [
       "<pre style=\"white-space:pre;overflow-x:auto;line-height:normal;font-family:Menlo,'DejaVu Sans Mono',consolas,'Courier New',monospace\">17:21:41.877 | <span style=\"color: #008080; text-decoration-color: #008080\">INFO</span>    | Flow run<span style=\"color: #800080; text-decoration-color: #800080\"> 'famous-snake'</span> - exp  Live = 0\n",
       "</pre>\n"
      ],
      "text/plain": [
       "17:21:41.877 | \u001b[36mINFO\u001b[0m    | Flow run\u001b[35m 'famous-snake'\u001b[0m - exp  Live = 0\n"
      ]
     },
     "metadata": {},
     "output_type": "display_data"
    },
    {
     "data": {
      "text/html": [
       "<pre style=\"white-space:pre;overflow-x:auto;line-height:normal;font-family:Menlo,'DejaVu Sans Mono',consolas,'Courier New',monospace\">17:21:41.892 | <span style=\"color: #008080; text-decoration-color: #008080\">INFO</span>    | Flow run<span style=\"color: #800080; text-decoration-color: #800080\"> 'famous-snake'</span> - read  single = -1\n",
       "</pre>\n"
      ],
      "text/plain": [
       "17:21:41.892 | \u001b[36mINFO\u001b[0m    | Flow run\u001b[35m 'famous-snake'\u001b[0m - read  single = -1\n"
      ]
     },
     "metadata": {},
     "output_type": "display_data"
    },
    {
     "data": {
      "text/html": [
       "<pre style=\"white-space:pre;overflow-x:auto;line-height:normal;font-family:Menlo,'DejaVu Sans Mono',consolas,'Courier New',monospace\">17:21:43.895 | <span style=\"color: #008080; text-decoration-color: #008080\">INFO</span>    | Flow run<span style=\"color: #800080; text-decoration-color: #800080\"> 'famous-snake'</span> - success != 0  = -1\n",
       "</pre>\n"
      ],
      "text/plain": [
       "17:21:43.895 | \u001b[36mINFO\u001b[0m    | Flow run\u001b[35m 'famous-snake'\u001b[0m - success != 0  = -1\n"
      ]
     },
     "metadata": {},
     "output_type": "display_data"
    },
    {
     "data": {
      "text/html": [
       "<pre style=\"white-space:pre;overflow-x:auto;line-height:normal;font-family:Menlo,'DejaVu Sans Mono',consolas,'Courier New',monospace\">17:21:44.897 | <span style=\"color: #008080; text-decoration-color: #008080\">INFO</span>    | Flow run<span style=\"color: #800080; text-decoration-color: #800080\"> 'famous-snake'</span> - success != 0  = -1\n",
       "</pre>\n"
      ],
      "text/plain": [
       "17:21:44.897 | \u001b[36mINFO\u001b[0m    | Flow run\u001b[35m 'famous-snake'\u001b[0m - success != 0  = -1\n"
      ]
     },
     "metadata": {},
     "output_type": "display_data"
    },
    {
     "data": {
      "text/html": [
       "<pre style=\"white-space:pre;overflow-x:auto;line-height:normal;font-family:Menlo,'DejaVu Sans Mono',consolas,'Courier New',monospace\">17:21:45.900 | <span style=\"color: #008080; text-decoration-color: #008080\">INFO</span>    | Flow run<span style=\"color: #800080; text-decoration-color: #800080\"> 'famous-snake'</span> - success != 0  = -1\n",
       "</pre>\n"
      ],
      "text/plain": [
       "17:21:45.900 | \u001b[36mINFO\u001b[0m    | Flow run\u001b[35m 'famous-snake'\u001b[0m - success != 0  = -1\n"
      ]
     },
     "metadata": {},
     "output_type": "display_data"
    },
    {
     "data": {
      "text/html": [
       "<pre style=\"white-space:pre;overflow-x:auto;line-height:normal;font-family:Menlo,'DejaVu Sans Mono',consolas,'Courier New',monospace\">17:21:46.902 | <span style=\"color: #008080; text-decoration-color: #008080\">INFO</span>    | Flow run<span style=\"color: #800080; text-decoration-color: #800080\"> 'famous-snake'</span> - success != 0  = -1\n",
       "</pre>\n"
      ],
      "text/plain": [
       "17:21:46.902 | \u001b[36mINFO\u001b[0m    | Flow run\u001b[35m 'famous-snake'\u001b[0m - success != 0  = -1\n"
      ]
     },
     "metadata": {},
     "output_type": "display_data"
    },
    {
     "data": {
      "text/html": [
       "<pre style=\"white-space:pre;overflow-x:auto;line-height:normal;font-family:Menlo,'DejaVu Sans Mono',consolas,'Courier New',monospace\">17:21:47.904 | <span style=\"color: #008080; text-decoration-color: #008080\">INFO</span>    | Flow run<span style=\"color: #800080; text-decoration-color: #800080\"> 'famous-snake'</span> - success != 0  = -1\n",
       "</pre>\n"
      ],
      "text/plain": [
       "17:21:47.904 | \u001b[36mINFO\u001b[0m    | Flow run\u001b[35m 'famous-snake'\u001b[0m - success != 0  = -1\n"
      ]
     },
     "metadata": {},
     "output_type": "display_data"
    },
    {
     "data": {
      "text/html": [
       "<pre style=\"white-space:pre;overflow-x:auto;line-height:normal;font-family:Menlo,'DejaVu Sans Mono',consolas,'Courier New',monospace\">17:21:48.907 | <span style=\"color: #008080; text-decoration-color: #008080\">INFO</span>    | Flow run<span style=\"color: #800080; text-decoration-color: #800080\"> 'famous-snake'</span> - skip frame in live mode  [1]\n",
       "</pre>\n"
      ],
      "text/plain": [
       "17:21:48.907 | \u001b[36mINFO\u001b[0m    | Flow run\u001b[35m 'famous-snake'\u001b[0m - skip frame in live mode  [1]\n"
      ]
     },
     "metadata": {},
     "output_type": "display_data"
    },
    {
     "data": {
      "text/html": [
       "<pre style=\"white-space:pre;overflow-x:auto;line-height:normal;font-family:Menlo,'DejaVu Sans Mono',consolas,'Courier New',monospace\">17:21:48.916 | <span style=\"color: #008080; text-decoration-color: #008080\">INFO</span>    | Flow run<span style=\"color: #800080; text-decoration-color: #800080\"> 'famous-snake'</span> - read  single = -1\n",
       "</pre>\n"
      ],
      "text/plain": [
       "17:21:48.916 | \u001b[36mINFO\u001b[0m    | Flow run\u001b[35m 'famous-snake'\u001b[0m - read  single = -1\n"
      ]
     },
     "metadata": {},
     "output_type": "display_data"
    },
    {
     "data": {
      "text/html": [
       "<pre style=\"white-space:pre;overflow-x:auto;line-height:normal;font-family:Menlo,'DejaVu Sans Mono',consolas,'Courier New',monospace\">17:21:50.918 | <span style=\"color: #008080; text-decoration-color: #008080\">INFO</span>    | Flow run<span style=\"color: #800080; text-decoration-color: #800080\"> 'famous-snake'</span> - success != 0  = -1\n",
       "</pre>\n"
      ],
      "text/plain": [
       "17:21:50.918 | \u001b[36mINFO\u001b[0m    | Flow run\u001b[35m 'famous-snake'\u001b[0m - success != 0  = -1\n"
      ]
     },
     "metadata": {},
     "output_type": "display_data"
    },
    {
     "data": {
      "text/html": [
       "<pre style=\"white-space:pre;overflow-x:auto;line-height:normal;font-family:Menlo,'DejaVu Sans Mono',consolas,'Courier New',monospace\">17:21:51.921 | <span style=\"color: #008080; text-decoration-color: #008080\">INFO</span>    | Flow run<span style=\"color: #800080; text-decoration-color: #800080\"> 'famous-snake'</span> - success != 0  = -1\n",
       "</pre>\n"
      ],
      "text/plain": [
       "17:21:51.921 | \u001b[36mINFO\u001b[0m    | Flow run\u001b[35m 'famous-snake'\u001b[0m - success != 0  = -1\n"
      ]
     },
     "metadata": {},
     "output_type": "display_data"
    },
    {
     "data": {
      "text/html": [
       "<pre style=\"white-space:pre;overflow-x:auto;line-height:normal;font-family:Menlo,'DejaVu Sans Mono',consolas,'Courier New',monospace\">17:21:52.923 | <span style=\"color: #008080; text-decoration-color: #008080\">INFO</span>    | Flow run<span style=\"color: #800080; text-decoration-color: #800080\"> 'famous-snake'</span> - success != 0  = -1\n",
       "</pre>\n"
      ],
      "text/plain": [
       "17:21:52.923 | \u001b[36mINFO\u001b[0m    | Flow run\u001b[35m 'famous-snake'\u001b[0m - success != 0  = -1\n"
      ]
     },
     "metadata": {},
     "output_type": "display_data"
    },
    {
     "data": {
      "text/html": [
       "<pre style=\"white-space:pre;overflow-x:auto;line-height:normal;font-family:Menlo,'DejaVu Sans Mono',consolas,'Courier New',monospace\">17:21:53.926 | <span style=\"color: #008080; text-decoration-color: #008080\">INFO</span>    | Flow run<span style=\"color: #800080; text-decoration-color: #800080\"> 'famous-snake'</span> - success != 0  = -1\n",
       "</pre>\n"
      ],
      "text/plain": [
       "17:21:53.926 | \u001b[36mINFO\u001b[0m    | Flow run\u001b[35m 'famous-snake'\u001b[0m - success != 0  = -1\n"
      ]
     },
     "metadata": {},
     "output_type": "display_data"
    },
    {
     "data": {
      "text/html": [
       "<pre style=\"white-space:pre;overflow-x:auto;line-height:normal;font-family:Menlo,'DejaVu Sans Mono',consolas,'Courier New',monospace\">17:21:54.930 | <span style=\"color: #008080; text-decoration-color: #008080\">INFO</span>    | Flow run<span style=\"color: #800080; text-decoration-color: #800080\"> 'famous-snake'</span> - success != 0  = -1\n",
       "</pre>\n"
      ],
      "text/plain": [
       "17:21:54.930 | \u001b[36mINFO\u001b[0m    | Flow run\u001b[35m 'famous-snake'\u001b[0m - success != 0  = -1\n"
      ]
     },
     "metadata": {},
     "output_type": "display_data"
    },
    {
     "data": {
      "text/html": [
       "<pre style=\"white-space:pre;overflow-x:auto;line-height:normal;font-family:Menlo,'DejaVu Sans Mono',consolas,'Courier New',monospace\">17:21:55.932 | <span style=\"color: #008080; text-decoration-color: #008080\">INFO</span>    | Flow run<span style=\"color: #800080; text-decoration-color: #800080\"> 'famous-snake'</span> - skip frame in live mode  [2]\n",
       "</pre>\n"
      ],
      "text/plain": [
       "17:21:55.932 | \u001b[36mINFO\u001b[0m    | Flow run\u001b[35m 'famous-snake'\u001b[0m - skip frame in live mode  [2]\n"
      ]
     },
     "metadata": {},
     "output_type": "display_data"
    },
    {
     "data": {
      "text/html": [
       "<pre style=\"white-space:pre;overflow-x:auto;line-height:normal;font-family:Menlo,'DejaVu Sans Mono',consolas,'Courier New',monospace\">17:21:55.950 | <span style=\"color: #008080; text-decoration-color: #008080\">INFO</span>    | Flow run<span style=\"color: #800080; text-decoration-color: #800080\"> 'famous-snake'</span> - read  single = -1\n",
       "</pre>\n"
      ],
      "text/plain": [
       "17:21:55.950 | \u001b[36mINFO\u001b[0m    | Flow run\u001b[35m 'famous-snake'\u001b[0m - read  single = -1\n"
      ]
     },
     "metadata": {},
     "output_type": "display_data"
    },
    {
     "data": {
      "text/html": [
       "<pre style=\"white-space:pre;overflow-x:auto;line-height:normal;font-family:Menlo,'DejaVu Sans Mono',consolas,'Courier New',monospace\">17:21:57.953 | <span style=\"color: #008080; text-decoration-color: #008080\">INFO</span>    | Flow run<span style=\"color: #800080; text-decoration-color: #800080\"> 'famous-snake'</span> - success != 0  = -1\n",
       "</pre>\n"
      ],
      "text/plain": [
       "17:21:57.953 | \u001b[36mINFO\u001b[0m    | Flow run\u001b[35m 'famous-snake'\u001b[0m - success != 0  = -1\n"
      ]
     },
     "metadata": {},
     "output_type": "display_data"
    },
    {
     "data": {
      "text/html": [
       "<pre style=\"white-space:pre;overflow-x:auto;line-height:normal;font-family:Menlo,'DejaVu Sans Mono',consolas,'Courier New',monospace\">17:21:58.957 | <span style=\"color: #008080; text-decoration-color: #008080\">INFO</span>    | Flow run<span style=\"color: #800080; text-decoration-color: #800080\"> 'famous-snake'</span> - success != 0  = -1\n",
       "</pre>\n"
      ],
      "text/plain": [
       "17:21:58.957 | \u001b[36mINFO\u001b[0m    | Flow run\u001b[35m 'famous-snake'\u001b[0m - success != 0  = -1\n"
      ]
     },
     "metadata": {},
     "output_type": "display_data"
    },
    {
     "data": {
      "text/html": [
       "<pre style=\"white-space:pre;overflow-x:auto;line-height:normal;font-family:Menlo,'DejaVu Sans Mono',consolas,'Courier New',monospace\">17:21:59.960 | <span style=\"color: #008080; text-decoration-color: #008080\">INFO</span>    | Flow run<span style=\"color: #800080; text-decoration-color: #800080\"> 'famous-snake'</span> - success != 0  = -1\n",
       "</pre>\n"
      ],
      "text/plain": [
       "17:21:59.960 | \u001b[36mINFO\u001b[0m    | Flow run\u001b[35m 'famous-snake'\u001b[0m - success != 0  = -1\n"
      ]
     },
     "metadata": {},
     "output_type": "display_data"
    },
    {
     "data": {
      "text/html": [
       "<pre style=\"white-space:pre;overflow-x:auto;line-height:normal;font-family:Menlo,'DejaVu Sans Mono',consolas,'Courier New',monospace\">17:22:00.962 | <span style=\"color: #008080; text-decoration-color: #008080\">INFO</span>    | Flow run<span style=\"color: #800080; text-decoration-color: #800080\"> 'famous-snake'</span> - success != 0  = -1\n",
       "</pre>\n"
      ],
      "text/plain": [
       "17:22:00.962 | \u001b[36mINFO\u001b[0m    | Flow run\u001b[35m 'famous-snake'\u001b[0m - success != 0  = -1\n"
      ]
     },
     "metadata": {},
     "output_type": "display_data"
    },
    {
     "data": {
      "text/html": [
       "<pre style=\"white-space:pre;overflow-x:auto;line-height:normal;font-family:Menlo,'DejaVu Sans Mono',consolas,'Courier New',monospace\">17:22:01.965 | <span style=\"color: #008080; text-decoration-color: #008080\">INFO</span>    | Flow run<span style=\"color: #800080; text-decoration-color: #800080\"> 'famous-snake'</span> - success != 0  = -1\n",
       "</pre>\n"
      ],
      "text/plain": [
       "17:22:01.965 | \u001b[36mINFO\u001b[0m    | Flow run\u001b[35m 'famous-snake'\u001b[0m - success != 0  = -1\n"
      ]
     },
     "metadata": {},
     "output_type": "display_data"
    },
    {
     "data": {
      "text/html": [
       "<pre style=\"white-space:pre;overflow-x:auto;line-height:normal;font-family:Menlo,'DejaVu Sans Mono',consolas,'Courier New',monospace\">17:22:02.973 | <span style=\"color: #008080; text-decoration-color: #008080\">INFO</span>    | Flow run<span style=\"color: #800080; text-decoration-color: #800080\"> 'famous-snake'</span> - ----------------&gt;68904928\n",
       "</pre>\n"
      ],
      "text/plain": [
       "17:22:02.973 | \u001b[36mINFO\u001b[0m    | Flow run\u001b[35m 'famous-snake'\u001b[0m - ---------------->68904928\n"
      ]
     },
     "metadata": {},
     "output_type": "display_data"
    },
    {
     "data": {
      "text/html": [
       "<pre style=\"white-space:pre;overflow-x:auto;line-height:normal;font-family:Menlo,'DejaVu Sans Mono',consolas,'Courier New',monospace\">17:22:02.975 | <span style=\"color: #008080; text-decoration-color: #008080\">INFO</span>    | Flow run<span style=\"color: #800080; text-decoration-color: #800080\"> 'famous-snake'</span> - image size =     16398432\n",
       "</pre>\n"
      ],
      "text/plain": [
       "17:22:02.975 | \u001b[36mINFO\u001b[0m    | Flow run\u001b[35m 'famous-snake'\u001b[0m - image size =     16398432\n"
      ]
     },
     "metadata": {},
     "output_type": "display_data"
    },
    {
     "data": {
      "text/html": [
       "<pre style=\"white-space:pre;overflow-x:auto;line-height:normal;font-family:Menlo,'DejaVu Sans Mono',consolas,'Courier New',monospace\">17:22:02.976 | <span style=\"color: #008080; text-decoration-color: #008080\">INFO</span>    | Flow run<span style=\"color: #800080; text-decoration-color: #800080\"> 'famous-snake'</span> - prev_img_list sub length--&gt;68904928\n",
       "</pre>\n"
      ],
      "text/plain": [
       "17:22:02.976 | \u001b[36mINFO\u001b[0m    | Flow run\u001b[35m 'famous-snake'\u001b[0m - prev_img_list sub length-->68904928\n"
      ]
     },
     "metadata": {},
     "output_type": "display_data"
    },
    {
     "data": {
      "text/html": [
       "<pre style=\"white-space:pre;overflow-x:auto;line-height:normal;font-family:Menlo,'DejaVu Sans Mono',consolas,'Courier New',monospace\">17:22:02.977 | <span style=\"color: #008080; text-decoration-color: #008080\">INFO</span>    | Flow run<span style=\"color: #800080; text-decoration-color: #800080\"> 'famous-snake'</span> - Image W=4656        H=3522\n",
       "</pre>\n"
      ],
      "text/plain": [
       "17:22:02.977 | \u001b[36mINFO\u001b[0m    | Flow run\u001b[35m 'famous-snake'\u001b[0m - Image W=4656        H=3522\n"
      ]
     },
     "metadata": {},
     "output_type": "display_data"
    },
    {
     "data": {
      "text/html": [
       "<pre style=\"white-space:pre;overflow-x:auto;line-height:normal;font-family:Menlo,'DejaVu Sans Mono',consolas,'Courier New',monospace\">17:22:03.010 | <span style=\"color: #008080; text-decoration-color: #008080\">INFO</span>    | Flow run<span style=\"color: #800080; text-decoration-color: #800080\"> 'famous-snake'</span> - input image dims: 400 x 400\n",
       "</pre>\n"
      ],
      "text/plain": [
       "17:22:03.010 | \u001b[36mINFO\u001b[0m    | Flow run\u001b[35m 'famous-snake'\u001b[0m - input image dims: 400 x 400\n"
      ]
     },
     "metadata": {},
     "output_type": "display_data"
    },
    {
     "data": {
      "text/html": [
       "<pre style=\"white-space:pre;overflow-x:auto;line-height:normal;font-family:Menlo,'DejaVu Sans Mono',consolas,'Courier New',monospace\">17:22:03.012 | <span style=\"color: #008080; text-decoration-color: #008080\">INFO</span>    | Flow run<span style=\"color: #800080; text-decoration-color: #800080\"> 'famous-snake'</span> - cols: 50, rows: 25\n",
       "</pre>\n"
      ],
      "text/plain": [
       "17:22:03.012 | \u001b[36mINFO\u001b[0m    | Flow run\u001b[35m 'famous-snake'\u001b[0m - cols: 50, rows: 25\n"
      ]
     },
     "metadata": {},
     "output_type": "display_data"
    },
    {
     "data": {
      "text/html": [
       "<pre style=\"white-space:pre;overflow-x:auto;line-height:normal;font-family:Menlo,'DejaVu Sans Mono',consolas,'Courier New',monospace\">17:22:03.014 | <span style=\"color: #008080; text-decoration-color: #008080\">INFO</span>    | Flow run<span style=\"color: #800080; text-decoration-color: #800080\"> 'famous-snake'</span> - tile dims: 8 x 16\n",
       "</pre>\n"
      ],
      "text/plain": [
       "17:22:03.014 | \u001b[36mINFO\u001b[0m    | Flow run\u001b[35m 'famous-snake'\u001b[0m - tile dims: 8 x 16\n"
      ]
     },
     "metadata": {},
     "output_type": "display_data"
    },
    {
     "data": {
      "text/html": [
       "<pre style=\"white-space:pre;overflow-x:auto;line-height:normal;font-family:Menlo,'DejaVu Sans Mono',consolas,'Courier New',monospace\">17:22:03.044 | <span style=\"color: #008080; text-decoration-color: #008080\">INFO</span>    | Flow run<span style=\"color: #800080; text-decoration-color: #800080\"> 'famous-snake'</span> - @@@@@@@@@@@@@@@@@@@@@@@@@@@@@@@@@@@@@@@@@@@@@@@@@@\n",
       "</pre>\n"
      ],
      "text/plain": [
       "17:22:03.044 | \u001b[36mINFO\u001b[0m    | Flow run\u001b[35m 'famous-snake'\u001b[0m - @@@@@@@@@@@@@@@@@@@@@@@@@@@@@@@@@@@@@@@@@@@@@@@@@@\n"
      ]
     },
     "metadata": {},
     "output_type": "display_data"
    },
    {
     "data": {
      "text/html": [
       "<pre style=\"white-space:pre;overflow-x:auto;line-height:normal;font-family:Menlo,'DejaVu Sans Mono',consolas,'Courier New',monospace\">17:22:03.046 | <span style=\"color: #008080; text-decoration-color: #008080\">INFO</span>    | Flow run<span style=\"color: #800080; text-decoration-color: #800080\"> 'famous-snake'</span> - @@@@@@@@@@@@@@@@@@@@@@@@@@@@@@@@@@@@@@@@@@@@@@@@@@\n",
       "</pre>\n"
      ],
      "text/plain": [
       "17:22:03.046 | \u001b[36mINFO\u001b[0m    | Flow run\u001b[35m 'famous-snake'\u001b[0m - @@@@@@@@@@@@@@@@@@@@@@@@@@@@@@@@@@@@@@@@@@@@@@@@@@\n"
      ]
     },
     "metadata": {},
     "output_type": "display_data"
    },
    {
     "data": {
      "text/html": [
       "<pre style=\"white-space:pre;overflow-x:auto;line-height:normal;font-family:Menlo,'DejaVu Sans Mono',consolas,'Courier New',monospace\">17:22:03.047 | <span style=\"color: #008080; text-decoration-color: #008080\">INFO</span>    | Flow run<span style=\"color: #800080; text-decoration-color: #800080\"> 'famous-snake'</span> - @@@@@@@@@@@@@@@@@@@@@@@@@@@@@@@@@@@@@@@@@@@@@@@@@@\n",
       "</pre>\n"
      ],
      "text/plain": [
       "17:22:03.047 | \u001b[36mINFO\u001b[0m    | Flow run\u001b[35m 'famous-snake'\u001b[0m - @@@@@@@@@@@@@@@@@@@@@@@@@@@@@@@@@@@@@@@@@@@@@@@@@@\n"
      ]
     },
     "metadata": {},
     "output_type": "display_data"
    },
    {
     "data": {
      "text/html": [
       "<pre style=\"white-space:pre;overflow-x:auto;line-height:normal;font-family:Menlo,'DejaVu Sans Mono',consolas,'Courier New',monospace\">17:22:03.048 | <span style=\"color: #008080; text-decoration-color: #008080\">INFO</span>    | Flow run<span style=\"color: #800080; text-decoration-color: #800080\"> 'famous-snake'</span> - @@@@@@@@@@@@@@@@@@@@@@@@@@@@@@@@@@@@@@@@@@@@@@@@@@\n",
       "</pre>\n"
      ],
      "text/plain": [
       "17:22:03.048 | \u001b[36mINFO\u001b[0m    | Flow run\u001b[35m 'famous-snake'\u001b[0m - @@@@@@@@@@@@@@@@@@@@@@@@@@@@@@@@@@@@@@@@@@@@@@@@@@\n"
      ]
     },
     "metadata": {},
     "output_type": "display_data"
    },
    {
     "data": {
      "text/html": [
       "<pre style=\"white-space:pre;overflow-x:auto;line-height:normal;font-family:Menlo,'DejaVu Sans Mono',consolas,'Courier New',monospace\">17:22:03.049 | <span style=\"color: #008080; text-decoration-color: #008080\">INFO</span>    | Flow run<span style=\"color: #800080; text-decoration-color: #800080\"> 'famous-snake'</span> - @@@@@@@@@@@@@@@@@@@@@@@@@@@@@@@@@@@@@@@@@@@@@@@@@@\n",
       "</pre>\n"
      ],
      "text/plain": [
       "17:22:03.049 | \u001b[36mINFO\u001b[0m    | Flow run\u001b[35m 'famous-snake'\u001b[0m - @@@@@@@@@@@@@@@@@@@@@@@@@@@@@@@@@@@@@@@@@@@@@@@@@@\n"
      ]
     },
     "metadata": {},
     "output_type": "display_data"
    },
    {
     "data": {
      "text/html": [
       "<pre style=\"white-space:pre;overflow-x:auto;line-height:normal;font-family:Menlo,'DejaVu Sans Mono',consolas,'Courier New',monospace\">17:22:03.051 | <span style=\"color: #008080; text-decoration-color: #008080\">INFO</span>    | Flow run<span style=\"color: #800080; text-decoration-color: #800080\"> 'famous-snake'</span> - @@@@@@@@@@@@@@@@@@@@@@@@@@@@@@@@@@@@@@@@@@@@@@@@@@\n",
       "</pre>\n"
      ],
      "text/plain": [
       "17:22:03.051 | \u001b[36mINFO\u001b[0m    | Flow run\u001b[35m 'famous-snake'\u001b[0m - @@@@@@@@@@@@@@@@@@@@@@@@@@@@@@@@@@@@@@@@@@@@@@@@@@\n"
      ]
     },
     "metadata": {},
     "output_type": "display_data"
    },
    {
     "data": {
      "text/html": [
       "<pre style=\"white-space:pre;overflow-x:auto;line-height:normal;font-family:Menlo,'DejaVu Sans Mono',consolas,'Courier New',monospace\">17:22:03.052 | <span style=\"color: #008080; text-decoration-color: #008080\">INFO</span>    | Flow run<span style=\"color: #800080; text-decoration-color: #800080\"> 'famous-snake'</span> - @@@@@@@@@@@@@@@@@@@@@@@@@@@@@@@@@@@@@@@@@@@@@@@@@@\n",
       "</pre>\n"
      ],
      "text/plain": [
       "17:22:03.052 | \u001b[36mINFO\u001b[0m    | Flow run\u001b[35m 'famous-snake'\u001b[0m - @@@@@@@@@@@@@@@@@@@@@@@@@@@@@@@@@@@@@@@@@@@@@@@@@@\n"
      ]
     },
     "metadata": {},
     "output_type": "display_data"
    },
    {
     "data": {
      "text/html": [
       "<pre style=\"white-space:pre;overflow-x:auto;line-height:normal;font-family:Menlo,'DejaVu Sans Mono',consolas,'Courier New',monospace\">17:22:03.054 | <span style=\"color: #008080; text-decoration-color: #008080\">INFO</span>    | Flow run<span style=\"color: #800080; text-decoration-color: #800080\"> 'famous-snake'</span> - @@@@@@@@@@@@@@@@@@@@@@@@@@@@@@@@@@@@@@@@@@@@@@@@@@\n",
       "</pre>\n"
      ],
      "text/plain": [
       "17:22:03.054 | \u001b[36mINFO\u001b[0m    | Flow run\u001b[35m 'famous-snake'\u001b[0m - @@@@@@@@@@@@@@@@@@@@@@@@@@@@@@@@@@@@@@@@@@@@@@@@@@\n"
      ]
     },
     "metadata": {},
     "output_type": "display_data"
    },
    {
     "data": {
      "text/html": [
       "<pre style=\"white-space:pre;overflow-x:auto;line-height:normal;font-family:Menlo,'DejaVu Sans Mono',consolas,'Courier New',monospace\">17:22:03.055 | <span style=\"color: #008080; text-decoration-color: #008080\">INFO</span>    | Flow run<span style=\"color: #800080; text-decoration-color: #800080\"> 'famous-snake'</span> - @@@@@@@@@@@@@@@@@@@@@@@@@@@@@@@@@@@@@@@@@@@@@@@@@@\n",
       "</pre>\n"
      ],
      "text/plain": [
       "17:22:03.055 | \u001b[36mINFO\u001b[0m    | Flow run\u001b[35m 'famous-snake'\u001b[0m - @@@@@@@@@@@@@@@@@@@@@@@@@@@@@@@@@@@@@@@@@@@@@@@@@@\n"
      ]
     },
     "metadata": {},
     "output_type": "display_data"
    },
    {
     "data": {
      "text/html": [
       "<pre style=\"white-space:pre;overflow-x:auto;line-height:normal;font-family:Menlo,'DejaVu Sans Mono',consolas,'Courier New',monospace\">17:22:03.056 | <span style=\"color: #008080; text-decoration-color: #008080\">INFO</span>    | Flow run<span style=\"color: #800080; text-decoration-color: #800080\"> 'famous-snake'</span> - @@@@@@@@@@@@@@@@@@@@@@@@@@@@@@@@@@@@@@@@@@@@@@@@@@\n",
       "</pre>\n"
      ],
      "text/plain": [
       "17:22:03.056 | \u001b[36mINFO\u001b[0m    | Flow run\u001b[35m 'famous-snake'\u001b[0m - @@@@@@@@@@@@@@@@@@@@@@@@@@@@@@@@@@@@@@@@@@@@@@@@@@\n"
      ]
     },
     "metadata": {},
     "output_type": "display_data"
    },
    {
     "data": {
      "text/html": [
       "<pre style=\"white-space:pre;overflow-x:auto;line-height:normal;font-family:Menlo,'DejaVu Sans Mono',consolas,'Courier New',monospace\">17:22:03.058 | <span style=\"color: #008080; text-decoration-color: #008080\">INFO</span>    | Flow run<span style=\"color: #800080; text-decoration-color: #800080\"> 'famous-snake'</span> - @@@@@@@@@@@@@@@@@@@@@@@@@@@@@@@@@@@@@@@@@@@@@@@@@@\n",
       "</pre>\n"
      ],
      "text/plain": [
       "17:22:03.058 | \u001b[36mINFO\u001b[0m    | Flow run\u001b[35m 'famous-snake'\u001b[0m - @@@@@@@@@@@@@@@@@@@@@@@@@@@@@@@@@@@@@@@@@@@@@@@@@@\n"
      ]
     },
     "metadata": {},
     "output_type": "display_data"
    },
    {
     "data": {
      "text/html": [
       "<pre style=\"white-space:pre;overflow-x:auto;line-height:normal;font-family:Menlo,'DejaVu Sans Mono',consolas,'Courier New',monospace\">17:22:03.060 | <span style=\"color: #008080; text-decoration-color: #008080\">INFO</span>    | Flow run<span style=\"color: #800080; text-decoration-color: #800080\"> 'famous-snake'</span> - @@@@@@@@@@@@@@@@@@@@@@@@@@@@@@@@@@@@@@@@@@@@@@@@@@\n",
       "</pre>\n"
      ],
      "text/plain": [
       "17:22:03.060 | \u001b[36mINFO\u001b[0m    | Flow run\u001b[35m 'famous-snake'\u001b[0m - @@@@@@@@@@@@@@@@@@@@@@@@@@@@@@@@@@@@@@@@@@@@@@@@@@\n"
      ]
     },
     "metadata": {},
     "output_type": "display_data"
    },
    {
     "data": {
      "text/html": [
       "<pre style=\"white-space:pre;overflow-x:auto;line-height:normal;font-family:Menlo,'DejaVu Sans Mono',consolas,'Courier New',monospace\">17:22:03.061 | <span style=\"color: #008080; text-decoration-color: #008080\">INFO</span>    | Flow run<span style=\"color: #800080; text-decoration-color: #800080\"> 'famous-snake'</span> - @@@@@@@@@@@@@@@@@@@@@@@@@@@@@@@@@@@@@@@@@@@@@@@@@@\n",
       "</pre>\n"
      ],
      "text/plain": [
       "17:22:03.061 | \u001b[36mINFO\u001b[0m    | Flow run\u001b[35m 'famous-snake'\u001b[0m - @@@@@@@@@@@@@@@@@@@@@@@@@@@@@@@@@@@@@@@@@@@@@@@@@@\n"
      ]
     },
     "metadata": {},
     "output_type": "display_data"
    },
    {
     "data": {
      "text/html": [
       "<pre style=\"white-space:pre;overflow-x:auto;line-height:normal;font-family:Menlo,'DejaVu Sans Mono',consolas,'Courier New',monospace\">17:22:03.063 | <span style=\"color: #008080; text-decoration-color: #008080\">INFO</span>    | Flow run<span style=\"color: #800080; text-decoration-color: #800080\"> 'famous-snake'</span> - @@@@@@@@@@@@@@@@@@@@@@@@@@@@@@@@@@@@@@@@@@@@@@@@@@\n",
       "</pre>\n"
      ],
      "text/plain": [
       "17:22:03.063 | \u001b[36mINFO\u001b[0m    | Flow run\u001b[35m 'famous-snake'\u001b[0m - @@@@@@@@@@@@@@@@@@@@@@@@@@@@@@@@@@@@@@@@@@@@@@@@@@\n"
      ]
     },
     "metadata": {},
     "output_type": "display_data"
    },
    {
     "data": {
      "text/html": [
       "<pre style=\"white-space:pre;overflow-x:auto;line-height:normal;font-family:Menlo,'DejaVu Sans Mono',consolas,'Courier New',monospace\">17:22:03.064 | <span style=\"color: #008080; text-decoration-color: #008080\">INFO</span>    | Flow run<span style=\"color: #800080; text-decoration-color: #800080\"> 'famous-snake'</span> - @@@@@@@@@@@@@@@@@@@@@@@@@@@@@@@@@@@@@@@@@@@@@@@@@@\n",
       "</pre>\n"
      ],
      "text/plain": [
       "17:22:03.064 | \u001b[36mINFO\u001b[0m    | Flow run\u001b[35m 'famous-snake'\u001b[0m - @@@@@@@@@@@@@@@@@@@@@@@@@@@@@@@@@@@@@@@@@@@@@@@@@@\n"
      ]
     },
     "metadata": {},
     "output_type": "display_data"
    },
    {
     "data": {
      "text/html": [
       "<pre style=\"white-space:pre;overflow-x:auto;line-height:normal;font-family:Menlo,'DejaVu Sans Mono',consolas,'Courier New',monospace\">17:22:03.065 | <span style=\"color: #008080; text-decoration-color: #008080\">INFO</span>    | Flow run<span style=\"color: #800080; text-decoration-color: #800080\"> 'famous-snake'</span> - @@@@@@@@@@@@@@@@@@@@@@@@@@@@@@@@@@@@@@@@@@@@@@@@@@\n",
       "</pre>\n"
      ],
      "text/plain": [
       "17:22:03.065 | \u001b[36mINFO\u001b[0m    | Flow run\u001b[35m 'famous-snake'\u001b[0m - @@@@@@@@@@@@@@@@@@@@@@@@@@@@@@@@@@@@@@@@@@@@@@@@@@\n"
      ]
     },
     "metadata": {},
     "output_type": "display_data"
    },
    {
     "data": {
      "text/html": [
       "<pre style=\"white-space:pre;overflow-x:auto;line-height:normal;font-family:Menlo,'DejaVu Sans Mono',consolas,'Courier New',monospace\">17:22:03.067 | <span style=\"color: #008080; text-decoration-color: #008080\">INFO</span>    | Flow run<span style=\"color: #800080; text-decoration-color: #800080\"> 'famous-snake'</span> - @@@@@@@@@@@@@@@@@@@@@@@@@@@@@@@@@@@@@@@@@@@@@@@@@@\n",
       "</pre>\n"
      ],
      "text/plain": [
       "17:22:03.067 | \u001b[36mINFO\u001b[0m    | Flow run\u001b[35m 'famous-snake'\u001b[0m - @@@@@@@@@@@@@@@@@@@@@@@@@@@@@@@@@@@@@@@@@@@@@@@@@@\n"
      ]
     },
     "metadata": {},
     "output_type": "display_data"
    },
    {
     "data": {
      "text/html": [
       "<pre style=\"white-space:pre;overflow-x:auto;line-height:normal;font-family:Menlo,'DejaVu Sans Mono',consolas,'Courier New',monospace\">17:22:03.068 | <span style=\"color: #008080; text-decoration-color: #008080\">INFO</span>    | Flow run<span style=\"color: #800080; text-decoration-color: #800080\"> 'famous-snake'</span> - @@@@@@@@@@@@@@@@@@@@@@@@@@@@@@@@@@@@@@@@@@@@@@@@@@\n",
       "</pre>\n"
      ],
      "text/plain": [
       "17:22:03.068 | \u001b[36mINFO\u001b[0m    | Flow run\u001b[35m 'famous-snake'\u001b[0m - @@@@@@@@@@@@@@@@@@@@@@@@@@@@@@@@@@@@@@@@@@@@@@@@@@\n"
      ]
     },
     "metadata": {},
     "output_type": "display_data"
    },
    {
     "data": {
      "text/html": [
       "<pre style=\"white-space:pre;overflow-x:auto;line-height:normal;font-family:Menlo,'DejaVu Sans Mono',consolas,'Courier New',monospace\">17:22:03.069 | <span style=\"color: #008080; text-decoration-color: #008080\">INFO</span>    | Flow run<span style=\"color: #800080; text-decoration-color: #800080\"> 'famous-snake'</span> - @@@@@@@@@@@@@@@@@@@@@@@@@@@@@@@@@@@@@@@@@@@@@@@@@@\n",
       "</pre>\n"
      ],
      "text/plain": [
       "17:22:03.069 | \u001b[36mINFO\u001b[0m    | Flow run\u001b[35m 'famous-snake'\u001b[0m - @@@@@@@@@@@@@@@@@@@@@@@@@@@@@@@@@@@@@@@@@@@@@@@@@@\n"
      ]
     },
     "metadata": {},
     "output_type": "display_data"
    },
    {
     "data": {
      "text/html": [
       "<pre style=\"white-space:pre;overflow-x:auto;line-height:normal;font-family:Menlo,'DejaVu Sans Mono',consolas,'Courier New',monospace\">17:22:03.070 | <span style=\"color: #008080; text-decoration-color: #008080\">INFO</span>    | Flow run<span style=\"color: #800080; text-decoration-color: #800080\"> 'famous-snake'</span> - @@@@@@@@@@@@@@@@@@@@@@@@@@@@@@@@@@@@@@@@@@@@@@@@@@\n",
       "</pre>\n"
      ],
      "text/plain": [
       "17:22:03.070 | \u001b[36mINFO\u001b[0m    | Flow run\u001b[35m 'famous-snake'\u001b[0m - @@@@@@@@@@@@@@@@@@@@@@@@@@@@@@@@@@@@@@@@@@@@@@@@@@\n"
      ]
     },
     "metadata": {},
     "output_type": "display_data"
    },
    {
     "data": {
      "text/html": [
       "<pre style=\"white-space:pre;overflow-x:auto;line-height:normal;font-family:Menlo,'DejaVu Sans Mono',consolas,'Courier New',monospace\">17:22:03.072 | <span style=\"color: #008080; text-decoration-color: #008080\">INFO</span>    | Flow run<span style=\"color: #800080; text-decoration-color: #800080\"> 'famous-snake'</span> - @@@@@@@@@@@@@@@@@@@@@@@@@@@@@@@@@@@@@@@@@@@@@@@@@@\n",
       "</pre>\n"
      ],
      "text/plain": [
       "17:22:03.072 | \u001b[36mINFO\u001b[0m    | Flow run\u001b[35m 'famous-snake'\u001b[0m - @@@@@@@@@@@@@@@@@@@@@@@@@@@@@@@@@@@@@@@@@@@@@@@@@@\n"
      ]
     },
     "metadata": {},
     "output_type": "display_data"
    },
    {
     "data": {
      "text/html": [
       "<pre style=\"white-space:pre;overflow-x:auto;line-height:normal;font-family:Menlo,'DejaVu Sans Mono',consolas,'Courier New',monospace\">17:22:03.073 | <span style=\"color: #008080; text-decoration-color: #008080\">INFO</span>    | Flow run<span style=\"color: #800080; text-decoration-color: #800080\"> 'famous-snake'</span> - @@@@@@@@@@@@@@@@@@@@@@@@@@@@@@@@@@@@@@@@@@@@@@@@@@\n",
       "</pre>\n"
      ],
      "text/plain": [
       "17:22:03.073 | \u001b[36mINFO\u001b[0m    | Flow run\u001b[35m 'famous-snake'\u001b[0m - @@@@@@@@@@@@@@@@@@@@@@@@@@@@@@@@@@@@@@@@@@@@@@@@@@\n"
      ]
     },
     "metadata": {},
     "output_type": "display_data"
    },
    {
     "data": {
      "text/html": [
       "<pre style=\"white-space:pre;overflow-x:auto;line-height:normal;font-family:Menlo,'DejaVu Sans Mono',consolas,'Courier New',monospace\">17:22:03.075 | <span style=\"color: #008080; text-decoration-color: #008080\">INFO</span>    | Flow run<span style=\"color: #800080; text-decoration-color: #800080\"> 'famous-snake'</span> - @@@@@@@@@@@@@@@@@@@@@@@@@@@@@@@@@@@@@@@@@@@@@@@@@@\n",
       "</pre>\n"
      ],
      "text/plain": [
       "17:22:03.075 | \u001b[36mINFO\u001b[0m    | Flow run\u001b[35m 'famous-snake'\u001b[0m - @@@@@@@@@@@@@@@@@@@@@@@@@@@@@@@@@@@@@@@@@@@@@@@@@@\n"
      ]
     },
     "metadata": {},
     "output_type": "display_data"
    },
    {
     "data": {
      "text/html": [
       "<pre style=\"white-space:pre;overflow-x:auto;line-height:normal;font-family:Menlo,'DejaVu Sans Mono',consolas,'Courier New',monospace\">17:22:03.076 | <span style=\"color: #008080; text-decoration-color: #008080\">INFO</span>    | Flow run<span style=\"color: #800080; text-decoration-color: #800080\"> 'famous-snake'</span> - @@@@@@@@@@@@@@@@@@@@@@@@@@@@@@@@@@@@@@@@@@@@@@@@@@\n",
       "</pre>\n"
      ],
      "text/plain": [
       "17:22:03.076 | \u001b[36mINFO\u001b[0m    | Flow run\u001b[35m 'famous-snake'\u001b[0m - @@@@@@@@@@@@@@@@@@@@@@@@@@@@@@@@@@@@@@@@@@@@@@@@@@\n"
      ]
     },
     "metadata": {},
     "output_type": "display_data"
    },
    {
     "data": {
      "text/html": [
       "<pre style=\"white-space:pre;overflow-x:auto;line-height:normal;font-family:Menlo,'DejaVu Sans Mono',consolas,'Courier New',monospace\">17:22:03.078 | <span style=\"color: #008080; text-decoration-color: #008080\">INFO</span>    | Flow run<span style=\"color: #800080; text-decoration-color: #800080\"> 'famous-snake'</span> - @@@@@@@@@@@@@@@@@@@@@@@@@@@@@@@@@@@@@@@@@@@@@@@@@@\n",
       "</pre>\n"
      ],
      "text/plain": [
       "17:22:03.078 | \u001b[36mINFO\u001b[0m    | Flow run\u001b[35m 'famous-snake'\u001b[0m - @@@@@@@@@@@@@@@@@@@@@@@@@@@@@@@@@@@@@@@@@@@@@@@@@@\n"
      ]
     },
     "metadata": {},
     "output_type": "display_data"
    },
    {
     "name": "stderr",
     "output_type": "stream",
     "text": [
      "C:\\Users\\Administrator\\AppData\\Local\\Temp\\ipykernel_20396\\3833557296.py:235: UserWarning: 任务执行结果为42，这可能需要注意！\n",
      "  warnings.warn(\"任务执行结果为42，这可能需要注意！\")\n"
     ]
    },
    {
     "data": {
      "text/html": [
       "<pre style=\"white-space:pre;overflow-x:auto;line-height:normal;font-family:Menlo,'DejaVu Sans Mono',consolas,'Courier New',monospace\">17:22:03.096 | <span style=\"color: #008080; text-decoration-color: #008080\">INFO</span>    | Flow run<span style=\"color: #800080; text-decoration-color: #800080\"> 'famous-snake'</span> - ----   readMode 0 / stream 1 / bit 8 / frame 1 ---------&gt;\n",
       "</pre>\n"
      ],
      "text/plain": [
       "17:22:03.096 | \u001b[36mINFO\u001b[0m    | Flow run\u001b[35m 'famous-snake'\u001b[0m - ----   readMode 0 / stream 1 / bit 8 / frame 1 --------->\n"
      ]
     },
     "metadata": {},
     "output_type": "display_data"
    },
    {
     "data": {
      "text/html": [
       "<pre style=\"white-space:pre;overflow-x:auto;line-height:normal;font-family:Menlo,'DejaVu Sans Mono',consolas,'Courier New',monospace\">17:22:04.118 | <span style=\"color: #008080; text-decoration-color: #008080\">INFO</span>    | Flow run<span style=\"color: #800080; text-decoration-color: #800080\"> 'famous-snake'</span> - read  single = -1\n",
       "</pre>\n"
      ],
      "text/plain": [
       "17:22:04.118 | \u001b[36mINFO\u001b[0m    | Flow run\u001b[35m 'famous-snake'\u001b[0m - read  single = -1\n"
      ]
     },
     "metadata": {},
     "output_type": "display_data"
    },
    {
     "data": {
      "text/html": [
       "<pre style=\"white-space:pre;overflow-x:auto;line-height:normal;font-family:Menlo,'DejaVu Sans Mono',consolas,'Courier New',monospace\">17:22:06.121 | <span style=\"color: #008080; text-decoration-color: #008080\">INFO</span>    | Flow run<span style=\"color: #800080; text-decoration-color: #800080\"> 'famous-snake'</span> - success != 0  = -1\n",
       "</pre>\n"
      ],
      "text/plain": [
       "17:22:06.121 | \u001b[36mINFO\u001b[0m    | Flow run\u001b[35m 'famous-snake'\u001b[0m - success != 0  = -1\n"
      ]
     },
     "metadata": {},
     "output_type": "display_data"
    },
    {
     "data": {
      "text/html": [
       "<pre style=\"white-space:pre;overflow-x:auto;line-height:normal;font-family:Menlo,'DejaVu Sans Mono',consolas,'Courier New',monospace\">17:22:07.123 | <span style=\"color: #008080; text-decoration-color: #008080\">INFO</span>    | Flow run<span style=\"color: #800080; text-decoration-color: #800080\"> 'famous-snake'</span> - success != 0  = -1\n",
       "</pre>\n"
      ],
      "text/plain": [
       "17:22:07.123 | \u001b[36mINFO\u001b[0m    | Flow run\u001b[35m 'famous-snake'\u001b[0m - success != 0  = -1\n"
      ]
     },
     "metadata": {},
     "output_type": "display_data"
    },
    {
     "data": {
      "text/html": [
       "<pre style=\"white-space:pre;overflow-x:auto;line-height:normal;font-family:Menlo,'DejaVu Sans Mono',consolas,'Courier New',monospace\">17:22:08.126 | <span style=\"color: #008080; text-decoration-color: #008080\">INFO</span>    | Flow run<span style=\"color: #800080; text-decoration-color: #800080\"> 'famous-snake'</span> - success != 0  = -1\n",
       "</pre>\n"
      ],
      "text/plain": [
       "17:22:08.126 | \u001b[36mINFO\u001b[0m    | Flow run\u001b[35m 'famous-snake'\u001b[0m - success != 0  = -1\n"
      ]
     },
     "metadata": {},
     "output_type": "display_data"
    },
    {
     "data": {
      "text/html": [
       "<pre style=\"white-space:pre;overflow-x:auto;line-height:normal;font-family:Menlo,'DejaVu Sans Mono',consolas,'Courier New',monospace\">17:22:09.128 | <span style=\"color: #008080; text-decoration-color: #008080\">INFO</span>    | Flow run<span style=\"color: #800080; text-decoration-color: #800080\"> 'famous-snake'</span> - success != 0  = -1\n",
       "</pre>\n"
      ],
      "text/plain": [
       "17:22:09.128 | \u001b[36mINFO\u001b[0m    | Flow run\u001b[35m 'famous-snake'\u001b[0m - success != 0  = -1\n"
      ]
     },
     "metadata": {},
     "output_type": "display_data"
    },
    {
     "data": {
      "text/html": [
       "<pre style=\"white-space:pre;overflow-x:auto;line-height:normal;font-family:Menlo,'DejaVu Sans Mono',consolas,'Courier New',monospace\">17:22:10.130 | <span style=\"color: #008080; text-decoration-color: #008080\">INFO</span>    | Flow run<span style=\"color: #800080; text-decoration-color: #800080\"> 'famous-snake'</span> - success != 0  = -1\n",
       "</pre>\n"
      ],
      "text/plain": [
       "17:22:10.130 | \u001b[36mINFO\u001b[0m    | Flow run\u001b[35m 'famous-snake'\u001b[0m - success != 0  = -1\n"
      ]
     },
     "metadata": {},
     "output_type": "display_data"
    },
    {
     "data": {
      "text/html": [
       "<pre style=\"white-space:pre;overflow-x:auto;line-height:normal;font-family:Menlo,'DejaVu Sans Mono',consolas,'Courier New',monospace\">17:22:11.132 | <span style=\"color: #008080; text-decoration-color: #008080\">INFO</span>    | Flow run<span style=\"color: #800080; text-decoration-color: #800080\"> 'famous-snake'</span> - ----------------&gt;68904928\n",
       "</pre>\n"
      ],
      "text/plain": [
       "17:22:11.132 | \u001b[36mINFO\u001b[0m    | Flow run\u001b[35m 'famous-snake'\u001b[0m - ---------------->68904928\n"
      ]
     },
     "metadata": {},
     "output_type": "display_data"
    },
    {
     "data": {
      "text/html": [
       "<pre style=\"white-space:pre;overflow-x:auto;line-height:normal;font-family:Menlo,'DejaVu Sans Mono',consolas,'Courier New',monospace\">17:22:11.133 | <span style=\"color: #008080; text-decoration-color: #008080\">INFO</span>    | Flow run<span style=\"color: #800080; text-decoration-color: #800080\"> 'famous-snake'</span> - image size =     16398432\n",
       "</pre>\n"
      ],
      "text/plain": [
       "17:22:11.133 | \u001b[36mINFO\u001b[0m    | Flow run\u001b[35m 'famous-snake'\u001b[0m - image size =     16398432\n"
      ]
     },
     "metadata": {},
     "output_type": "display_data"
    },
    {
     "data": {
      "text/html": [
       "<pre style=\"white-space:pre;overflow-x:auto;line-height:normal;font-family:Menlo,'DejaVu Sans Mono',consolas,'Courier New',monospace\">17:22:11.135 | <span style=\"color: #008080; text-decoration-color: #008080\">INFO</span>    | Flow run<span style=\"color: #800080; text-decoration-color: #800080\"> 'famous-snake'</span> - prev_img_list sub length--&gt;68904928\n",
       "</pre>\n"
      ],
      "text/plain": [
       "17:22:11.135 | \u001b[36mINFO\u001b[0m    | Flow run\u001b[35m 'famous-snake'\u001b[0m - prev_img_list sub length-->68904928\n"
      ]
     },
     "metadata": {},
     "output_type": "display_data"
    },
    {
     "data": {
      "text/html": [
       "<pre style=\"white-space:pre;overflow-x:auto;line-height:normal;font-family:Menlo,'DejaVu Sans Mono',consolas,'Courier New',monospace\">17:22:11.136 | <span style=\"color: #008080; text-decoration-color: #008080\">INFO</span>    | Flow run<span style=\"color: #800080; text-decoration-color: #800080\"> 'famous-snake'</span> - Image W=4656        H=3522\n",
       "</pre>\n"
      ],
      "text/plain": [
       "17:22:11.136 | \u001b[36mINFO\u001b[0m    | Flow run\u001b[35m 'famous-snake'\u001b[0m - Image W=4656        H=3522\n"
      ]
     },
     "metadata": {},
     "output_type": "display_data"
    },
    {
     "data": {
      "text/html": [
       "<pre style=\"white-space:pre;overflow-x:auto;line-height:normal;font-family:Menlo,'DejaVu Sans Mono',consolas,'Courier New',monospace\">17:22:11.168 | <span style=\"color: #008080; text-decoration-color: #008080\">INFO</span>    | Flow run<span style=\"color: #800080; text-decoration-color: #800080\"> 'famous-snake'</span> - input image dims: 400 x 400\n",
       "</pre>\n"
      ],
      "text/plain": [
       "17:22:11.168 | \u001b[36mINFO\u001b[0m    | Flow run\u001b[35m 'famous-snake'\u001b[0m - input image dims: 400 x 400\n"
      ]
     },
     "metadata": {},
     "output_type": "display_data"
    },
    {
     "data": {
      "text/html": [
       "<pre style=\"white-space:pre;overflow-x:auto;line-height:normal;font-family:Menlo,'DejaVu Sans Mono',consolas,'Courier New',monospace\">17:22:11.170 | <span style=\"color: #008080; text-decoration-color: #008080\">INFO</span>    | Flow run<span style=\"color: #800080; text-decoration-color: #800080\"> 'famous-snake'</span> - cols: 50, rows: 25\n",
       "</pre>\n"
      ],
      "text/plain": [
       "17:22:11.170 | \u001b[36mINFO\u001b[0m    | Flow run\u001b[35m 'famous-snake'\u001b[0m - cols: 50, rows: 25\n"
      ]
     },
     "metadata": {},
     "output_type": "display_data"
    },
    {
     "data": {
      "text/html": [
       "<pre style=\"white-space:pre;overflow-x:auto;line-height:normal;font-family:Menlo,'DejaVu Sans Mono',consolas,'Courier New',monospace\">17:22:11.171 | <span style=\"color: #008080; text-decoration-color: #008080\">INFO</span>    | Flow run<span style=\"color: #800080; text-decoration-color: #800080\"> 'famous-snake'</span> - tile dims: 8 x 16\n",
       "</pre>\n"
      ],
      "text/plain": [
       "17:22:11.171 | \u001b[36mINFO\u001b[0m    | Flow run\u001b[35m 'famous-snake'\u001b[0m - tile dims: 8 x 16\n"
      ]
     },
     "metadata": {},
     "output_type": "display_data"
    },
    {
     "data": {
      "text/html": [
       "<pre style=\"white-space:pre;overflow-x:auto;line-height:normal;font-family:Menlo,'DejaVu Sans Mono',consolas,'Courier New',monospace\">17:22:11.205 | <span style=\"color: #008080; text-decoration-color: #008080\">INFO</span>    | Flow run<span style=\"color: #800080; text-decoration-color: #800080\"> 'famous-snake'</span> - @@@@@@@@@@@@@@@@@@@@@@@@@@@@@@@@@@@@@@@@@@@@@@@@@@\n",
       "</pre>\n"
      ],
      "text/plain": [
       "17:22:11.205 | \u001b[36mINFO\u001b[0m    | Flow run\u001b[35m 'famous-snake'\u001b[0m - @@@@@@@@@@@@@@@@@@@@@@@@@@@@@@@@@@@@@@@@@@@@@@@@@@\n"
      ]
     },
     "metadata": {},
     "output_type": "display_data"
    },
    {
     "data": {
      "text/html": [
       "<pre style=\"white-space:pre;overflow-x:auto;line-height:normal;font-family:Menlo,'DejaVu Sans Mono',consolas,'Courier New',monospace\">17:22:11.206 | <span style=\"color: #008080; text-decoration-color: #008080\">INFO</span>    | Flow run<span style=\"color: #800080; text-decoration-color: #800080\"> 'famous-snake'</span> - @@@@@@@@@@@@@@@@@@@@@@@@@@@@@@@@@@@@@@@@@@@@@@@@@@\n",
       "</pre>\n"
      ],
      "text/plain": [
       "17:22:11.206 | \u001b[36mINFO\u001b[0m    | Flow run\u001b[35m 'famous-snake'\u001b[0m - @@@@@@@@@@@@@@@@@@@@@@@@@@@@@@@@@@@@@@@@@@@@@@@@@@\n"
      ]
     },
     "metadata": {},
     "output_type": "display_data"
    },
    {
     "data": {
      "text/html": [
       "<pre style=\"white-space:pre;overflow-x:auto;line-height:normal;font-family:Menlo,'DejaVu Sans Mono',consolas,'Courier New',monospace\">17:22:11.208 | <span style=\"color: #008080; text-decoration-color: #008080\">INFO</span>    | Flow run<span style=\"color: #800080; text-decoration-color: #800080\"> 'famous-snake'</span> - @@@@@@@@@@@@@@@@@@@@@@@@@@@@@@@@@@@@@@@@@@@@@@@@@@\n",
       "</pre>\n"
      ],
      "text/plain": [
       "17:22:11.208 | \u001b[36mINFO\u001b[0m    | Flow run\u001b[35m 'famous-snake'\u001b[0m - @@@@@@@@@@@@@@@@@@@@@@@@@@@@@@@@@@@@@@@@@@@@@@@@@@\n"
      ]
     },
     "metadata": {},
     "output_type": "display_data"
    },
    {
     "data": {
      "text/html": [
       "<pre style=\"white-space:pre;overflow-x:auto;line-height:normal;font-family:Menlo,'DejaVu Sans Mono',consolas,'Courier New',monospace\">17:22:11.210 | <span style=\"color: #008080; text-decoration-color: #008080\">INFO</span>    | Flow run<span style=\"color: #800080; text-decoration-color: #800080\"> 'famous-snake'</span> - @@@@@@@@@@@@@@@@@@@@@@@@@@@@@@@@@@@@@@@@@@@@@@@@@@\n",
       "</pre>\n"
      ],
      "text/plain": [
       "17:22:11.210 | \u001b[36mINFO\u001b[0m    | Flow run\u001b[35m 'famous-snake'\u001b[0m - @@@@@@@@@@@@@@@@@@@@@@@@@@@@@@@@@@@@@@@@@@@@@@@@@@\n"
      ]
     },
     "metadata": {},
     "output_type": "display_data"
    },
    {
     "data": {
      "text/html": [
       "<pre style=\"white-space:pre;overflow-x:auto;line-height:normal;font-family:Menlo,'DejaVu Sans Mono',consolas,'Courier New',monospace\">17:22:11.211 | <span style=\"color: #008080; text-decoration-color: #008080\">INFO</span>    | Flow run<span style=\"color: #800080; text-decoration-color: #800080\"> 'famous-snake'</span> - @@@@@@@@@@@@@@@@@@@@@@@@@@@@@@@@@@@@@@@@@@@@@@@@@@\n",
       "</pre>\n"
      ],
      "text/plain": [
       "17:22:11.211 | \u001b[36mINFO\u001b[0m    | Flow run\u001b[35m 'famous-snake'\u001b[0m - @@@@@@@@@@@@@@@@@@@@@@@@@@@@@@@@@@@@@@@@@@@@@@@@@@\n"
      ]
     },
     "metadata": {},
     "output_type": "display_data"
    },
    {
     "data": {
      "text/html": [
       "<pre style=\"white-space:pre;overflow-x:auto;line-height:normal;font-family:Menlo,'DejaVu Sans Mono',consolas,'Courier New',monospace\">17:22:11.213 | <span style=\"color: #008080; text-decoration-color: #008080\">INFO</span>    | Flow run<span style=\"color: #800080; text-decoration-color: #800080\"> 'famous-snake'</span> - @@@@@@@@@@@@@@@@@@@@@@@@@@@@@@@@@@@@@@@@@@@@@@@@@@\n",
       "</pre>\n"
      ],
      "text/plain": [
       "17:22:11.213 | \u001b[36mINFO\u001b[0m    | Flow run\u001b[35m 'famous-snake'\u001b[0m - @@@@@@@@@@@@@@@@@@@@@@@@@@@@@@@@@@@@@@@@@@@@@@@@@@\n"
      ]
     },
     "metadata": {},
     "output_type": "display_data"
    },
    {
     "data": {
      "text/html": [
       "<pre style=\"white-space:pre;overflow-x:auto;line-height:normal;font-family:Menlo,'DejaVu Sans Mono',consolas,'Courier New',monospace\">17:22:11.214 | <span style=\"color: #008080; text-decoration-color: #008080\">INFO</span>    | Flow run<span style=\"color: #800080; text-decoration-color: #800080\"> 'famous-snake'</span> - @@@@@@@@@@@@@@@@@@@@@@@@@@@@@@@@@@@@@@@@@@@@@@@@@@\n",
       "</pre>\n"
      ],
      "text/plain": [
       "17:22:11.214 | \u001b[36mINFO\u001b[0m    | Flow run\u001b[35m 'famous-snake'\u001b[0m - @@@@@@@@@@@@@@@@@@@@@@@@@@@@@@@@@@@@@@@@@@@@@@@@@@\n"
      ]
     },
     "metadata": {},
     "output_type": "display_data"
    },
    {
     "data": {
      "text/html": [
       "<pre style=\"white-space:pre;overflow-x:auto;line-height:normal;font-family:Menlo,'DejaVu Sans Mono',consolas,'Courier New',monospace\">17:22:11.215 | <span style=\"color: #008080; text-decoration-color: #008080\">INFO</span>    | Flow run<span style=\"color: #800080; text-decoration-color: #800080\"> 'famous-snake'</span> - @@@@@@@@@@@@@@@@@@@@@@@@@@@@@@@@@@@@@@@@@@@@@@@@@@\n",
       "</pre>\n"
      ],
      "text/plain": [
       "17:22:11.215 | \u001b[36mINFO\u001b[0m    | Flow run\u001b[35m 'famous-snake'\u001b[0m - @@@@@@@@@@@@@@@@@@@@@@@@@@@@@@@@@@@@@@@@@@@@@@@@@@\n"
      ]
     },
     "metadata": {},
     "output_type": "display_data"
    },
    {
     "data": {
      "text/html": [
       "<pre style=\"white-space:pre;overflow-x:auto;line-height:normal;font-family:Menlo,'DejaVu Sans Mono',consolas,'Courier New',monospace\">17:22:11.217 | <span style=\"color: #008080; text-decoration-color: #008080\">INFO</span>    | Flow run<span style=\"color: #800080; text-decoration-color: #800080\"> 'famous-snake'</span> - @@@@@@@@@@@@@@@@@@@@@@@@@@@@@@@@@@@@@@@@@@@@@@@@@@\n",
       "</pre>\n"
      ],
      "text/plain": [
       "17:22:11.217 | \u001b[36mINFO\u001b[0m    | Flow run\u001b[35m 'famous-snake'\u001b[0m - @@@@@@@@@@@@@@@@@@@@@@@@@@@@@@@@@@@@@@@@@@@@@@@@@@\n"
      ]
     },
     "metadata": {},
     "output_type": "display_data"
    },
    {
     "data": {
      "text/html": [
       "<pre style=\"white-space:pre;overflow-x:auto;line-height:normal;font-family:Menlo,'DejaVu Sans Mono',consolas,'Courier New',monospace\">17:22:11.218 | <span style=\"color: #008080; text-decoration-color: #008080\">INFO</span>    | Flow run<span style=\"color: #800080; text-decoration-color: #800080\"> 'famous-snake'</span> - @@@@@@@@@@@@@@@@@@@@@@@@@@@@@@@@@@@@@@@@@@@@@@@@@@\n",
       "</pre>\n"
      ],
      "text/plain": [
       "17:22:11.218 | \u001b[36mINFO\u001b[0m    | Flow run\u001b[35m 'famous-snake'\u001b[0m - @@@@@@@@@@@@@@@@@@@@@@@@@@@@@@@@@@@@@@@@@@@@@@@@@@\n"
      ]
     },
     "metadata": {},
     "output_type": "display_data"
    },
    {
     "data": {
      "text/html": [
       "<pre style=\"white-space:pre;overflow-x:auto;line-height:normal;font-family:Menlo,'DejaVu Sans Mono',consolas,'Courier New',monospace\">17:22:11.220 | <span style=\"color: #008080; text-decoration-color: #008080\">INFO</span>    | Flow run<span style=\"color: #800080; text-decoration-color: #800080\"> 'famous-snake'</span> - @@@@@@@@@@@@@@@@@@@@@@@@@@@@@@@@@@@@@@@@@@@@@@@@@@\n",
       "</pre>\n"
      ],
      "text/plain": [
       "17:22:11.220 | \u001b[36mINFO\u001b[0m    | Flow run\u001b[35m 'famous-snake'\u001b[0m - @@@@@@@@@@@@@@@@@@@@@@@@@@@@@@@@@@@@@@@@@@@@@@@@@@\n"
      ]
     },
     "metadata": {},
     "output_type": "display_data"
    },
    {
     "data": {
      "text/html": [
       "<pre style=\"white-space:pre;overflow-x:auto;line-height:normal;font-family:Menlo,'DejaVu Sans Mono',consolas,'Courier New',monospace\">17:22:11.221 | <span style=\"color: #008080; text-decoration-color: #008080\">INFO</span>    | Flow run<span style=\"color: #800080; text-decoration-color: #800080\"> 'famous-snake'</span> - @@@@@@@@@@@@@@@@@@@@@@@@@@@@@@@@@@@@@@@@@@@@@@@@@@\n",
       "</pre>\n"
      ],
      "text/plain": [
       "17:22:11.221 | \u001b[36mINFO\u001b[0m    | Flow run\u001b[35m 'famous-snake'\u001b[0m - @@@@@@@@@@@@@@@@@@@@@@@@@@@@@@@@@@@@@@@@@@@@@@@@@@\n"
      ]
     },
     "metadata": {},
     "output_type": "display_data"
    },
    {
     "data": {
      "text/html": [
       "<pre style=\"white-space:pre;overflow-x:auto;line-height:normal;font-family:Menlo,'DejaVu Sans Mono',consolas,'Courier New',monospace\">17:22:11.223 | <span style=\"color: #008080; text-decoration-color: #008080\">INFO</span>    | Flow run<span style=\"color: #800080; text-decoration-color: #800080\"> 'famous-snake'</span> - @@@@@@@@@@@@@@@@@@@@@@@@@@@@@@@@@@@@@@@@@@@@@@@@@@\n",
       "</pre>\n"
      ],
      "text/plain": [
       "17:22:11.223 | \u001b[36mINFO\u001b[0m    | Flow run\u001b[35m 'famous-snake'\u001b[0m - @@@@@@@@@@@@@@@@@@@@@@@@@@@@@@@@@@@@@@@@@@@@@@@@@@\n"
      ]
     },
     "metadata": {},
     "output_type": "display_data"
    },
    {
     "data": {
      "text/html": [
       "<pre style=\"white-space:pre;overflow-x:auto;line-height:normal;font-family:Menlo,'DejaVu Sans Mono',consolas,'Courier New',monospace\">17:22:11.225 | <span style=\"color: #008080; text-decoration-color: #008080\">INFO</span>    | Flow run<span style=\"color: #800080; text-decoration-color: #800080\"> 'famous-snake'</span> - @@@@@@@@@@@@@@@@@@@@@@@@@@@@@@@@@@@@@@@@@@@@@@@@@@\n",
       "</pre>\n"
      ],
      "text/plain": [
       "17:22:11.225 | \u001b[36mINFO\u001b[0m    | Flow run\u001b[35m 'famous-snake'\u001b[0m - @@@@@@@@@@@@@@@@@@@@@@@@@@@@@@@@@@@@@@@@@@@@@@@@@@\n"
      ]
     },
     "metadata": {},
     "output_type": "display_data"
    },
    {
     "data": {
      "text/html": [
       "<pre style=\"white-space:pre;overflow-x:auto;line-height:normal;font-family:Menlo,'DejaVu Sans Mono',consolas,'Courier New',monospace\">17:22:11.226 | <span style=\"color: #008080; text-decoration-color: #008080\">INFO</span>    | Flow run<span style=\"color: #800080; text-decoration-color: #800080\"> 'famous-snake'</span> - @@@@@@@@@@@@@@@@@@@@@@@@@@@@@@@@@@@@@@@@@@@@@@@@@@\n",
       "</pre>\n"
      ],
      "text/plain": [
       "17:22:11.226 | \u001b[36mINFO\u001b[0m    | Flow run\u001b[35m 'famous-snake'\u001b[0m - @@@@@@@@@@@@@@@@@@@@@@@@@@@@@@@@@@@@@@@@@@@@@@@@@@\n"
      ]
     },
     "metadata": {},
     "output_type": "display_data"
    },
    {
     "data": {
      "text/html": [
       "<pre style=\"white-space:pre;overflow-x:auto;line-height:normal;font-family:Menlo,'DejaVu Sans Mono',consolas,'Courier New',monospace\">17:22:11.228 | <span style=\"color: #008080; text-decoration-color: #008080\">INFO</span>    | Flow run<span style=\"color: #800080; text-decoration-color: #800080\"> 'famous-snake'</span> - @@@@@@@@@@@@@@@@@@@@@@@@@@@@@@@@@@@@@@@@@@@@@@@@@@\n",
       "</pre>\n"
      ],
      "text/plain": [
       "17:22:11.228 | \u001b[36mINFO\u001b[0m    | Flow run\u001b[35m 'famous-snake'\u001b[0m - @@@@@@@@@@@@@@@@@@@@@@@@@@@@@@@@@@@@@@@@@@@@@@@@@@\n"
      ]
     },
     "metadata": {},
     "output_type": "display_data"
    },
    {
     "data": {
      "text/html": [
       "<pre style=\"white-space:pre;overflow-x:auto;line-height:normal;font-family:Menlo,'DejaVu Sans Mono',consolas,'Courier New',monospace\">17:22:11.230 | <span style=\"color: #008080; text-decoration-color: #008080\">INFO</span>    | Flow run<span style=\"color: #800080; text-decoration-color: #800080\"> 'famous-snake'</span> - @@@@@@@@@@@@@@@@@@@@@@@@@@@@@@@@@@@@@@@@@@@@@@@@@@\n",
       "</pre>\n"
      ],
      "text/plain": [
       "17:22:11.230 | \u001b[36mINFO\u001b[0m    | Flow run\u001b[35m 'famous-snake'\u001b[0m - @@@@@@@@@@@@@@@@@@@@@@@@@@@@@@@@@@@@@@@@@@@@@@@@@@\n"
      ]
     },
     "metadata": {},
     "output_type": "display_data"
    },
    {
     "data": {
      "text/html": [
       "<pre style=\"white-space:pre;overflow-x:auto;line-height:normal;font-family:Menlo,'DejaVu Sans Mono',consolas,'Courier New',monospace\">17:22:11.232 | <span style=\"color: #008080; text-decoration-color: #008080\">INFO</span>    | Flow run<span style=\"color: #800080; text-decoration-color: #800080\"> 'famous-snake'</span> - @@@@@@@@@@@@@@@@@@@@@@@@@@@@@@@@@@@@@@@@@@@@@@@@@@\n",
       "</pre>\n"
      ],
      "text/plain": [
       "17:22:11.232 | \u001b[36mINFO\u001b[0m    | Flow run\u001b[35m 'famous-snake'\u001b[0m - @@@@@@@@@@@@@@@@@@@@@@@@@@@@@@@@@@@@@@@@@@@@@@@@@@\n"
      ]
     },
     "metadata": {},
     "output_type": "display_data"
    },
    {
     "data": {
      "text/html": [
       "<pre style=\"white-space:pre;overflow-x:auto;line-height:normal;font-family:Menlo,'DejaVu Sans Mono',consolas,'Courier New',monospace\">17:22:11.233 | <span style=\"color: #008080; text-decoration-color: #008080\">INFO</span>    | Flow run<span style=\"color: #800080; text-decoration-color: #800080\"> 'famous-snake'</span> - @@@@@@@@@@@@@@@@@@@@@@@@@@@@@@@@@@@@@@@@@@@@@@@@@@\n",
       "</pre>\n"
      ],
      "text/plain": [
       "17:22:11.233 | \u001b[36mINFO\u001b[0m    | Flow run\u001b[35m 'famous-snake'\u001b[0m - @@@@@@@@@@@@@@@@@@@@@@@@@@@@@@@@@@@@@@@@@@@@@@@@@@\n"
      ]
     },
     "metadata": {},
     "output_type": "display_data"
    },
    {
     "data": {
      "text/html": [
       "<pre style=\"white-space:pre;overflow-x:auto;line-height:normal;font-family:Menlo,'DejaVu Sans Mono',consolas,'Courier New',monospace\">17:22:11.235 | <span style=\"color: #008080; text-decoration-color: #008080\">INFO</span>    | Flow run<span style=\"color: #800080; text-decoration-color: #800080\"> 'famous-snake'</span> - @@@@@@@@@@@@@@@@@@@@@@@@@@@@@@@@@@@@@@@@@@@@@@@@@@\n",
       "</pre>\n"
      ],
      "text/plain": [
       "17:22:11.235 | \u001b[36mINFO\u001b[0m    | Flow run\u001b[35m 'famous-snake'\u001b[0m - @@@@@@@@@@@@@@@@@@@@@@@@@@@@@@@@@@@@@@@@@@@@@@@@@@\n"
      ]
     },
     "metadata": {},
     "output_type": "display_data"
    },
    {
     "data": {
      "text/html": [
       "<pre style=\"white-space:pre;overflow-x:auto;line-height:normal;font-family:Menlo,'DejaVu Sans Mono',consolas,'Courier New',monospace\">17:22:11.236 | <span style=\"color: #008080; text-decoration-color: #008080\">INFO</span>    | Flow run<span style=\"color: #800080; text-decoration-color: #800080\"> 'famous-snake'</span> - @@@@@@@@@@@@@@@@@@@@@@@@@@@@@@@@@@@@@@@@@@@@@@@@@@\n",
       "</pre>\n"
      ],
      "text/plain": [
       "17:22:11.236 | \u001b[36mINFO\u001b[0m    | Flow run\u001b[35m 'famous-snake'\u001b[0m - @@@@@@@@@@@@@@@@@@@@@@@@@@@@@@@@@@@@@@@@@@@@@@@@@@\n"
      ]
     },
     "metadata": {},
     "output_type": "display_data"
    },
    {
     "data": {
      "text/html": [
       "<pre style=\"white-space:pre;overflow-x:auto;line-height:normal;font-family:Menlo,'DejaVu Sans Mono',consolas,'Courier New',monospace\">17:22:11.238 | <span style=\"color: #008080; text-decoration-color: #008080\">INFO</span>    | Flow run<span style=\"color: #800080; text-decoration-color: #800080\"> 'famous-snake'</span> - @@@@@@@@@@@@@@@@@@@@@@@@@@@@@@@@@@@@@@@@@@@@@@@@@@\n",
       "</pre>\n"
      ],
      "text/plain": [
       "17:22:11.238 | \u001b[36mINFO\u001b[0m    | Flow run\u001b[35m 'famous-snake'\u001b[0m - @@@@@@@@@@@@@@@@@@@@@@@@@@@@@@@@@@@@@@@@@@@@@@@@@@\n"
      ]
     },
     "metadata": {},
     "output_type": "display_data"
    },
    {
     "data": {
      "text/html": [
       "<pre style=\"white-space:pre;overflow-x:auto;line-height:normal;font-family:Menlo,'DejaVu Sans Mono',consolas,'Courier New',monospace\">17:22:11.239 | <span style=\"color: #008080; text-decoration-color: #008080\">INFO</span>    | Flow run<span style=\"color: #800080; text-decoration-color: #800080\"> 'famous-snake'</span> - @@@@@@@@@@@@@@@@@@@@@@@@@@@@@@@@@@@@@@@@@@@@@@@@@@\n",
       "</pre>\n"
      ],
      "text/plain": [
       "17:22:11.239 | \u001b[36mINFO\u001b[0m    | Flow run\u001b[35m 'famous-snake'\u001b[0m - @@@@@@@@@@@@@@@@@@@@@@@@@@@@@@@@@@@@@@@@@@@@@@@@@@\n"
      ]
     },
     "metadata": {},
     "output_type": "display_data"
    },
    {
     "data": {
      "text/html": [
       "<pre style=\"white-space:pre;overflow-x:auto;line-height:normal;font-family:Menlo,'DejaVu Sans Mono',consolas,'Courier New',monospace\">17:22:11.240 | <span style=\"color: #008080; text-decoration-color: #008080\">INFO</span>    | Flow run<span style=\"color: #800080; text-decoration-color: #800080\"> 'famous-snake'</span> - @@@@@@@@@@@@@@@@@@@@@@@@@@@@@@@@@@@@@@@@@@@@@@@@@@\n",
       "</pre>\n"
      ],
      "text/plain": [
       "17:22:11.240 | \u001b[36mINFO\u001b[0m    | Flow run\u001b[35m 'famous-snake'\u001b[0m - @@@@@@@@@@@@@@@@@@@@@@@@@@@@@@@@@@@@@@@@@@@@@@@@@@\n"
      ]
     },
     "metadata": {},
     "output_type": "display_data"
    },
    {
     "data": {
      "text/html": [
       "<pre style=\"white-space:pre;overflow-x:auto;line-height:normal;font-family:Menlo,'DejaVu Sans Mono',consolas,'Courier New',monospace\">17:22:11.241 | <span style=\"color: #008080; text-decoration-color: #008080\">INFO</span>    | Flow run<span style=\"color: #800080; text-decoration-color: #800080\"> 'famous-snake'</span> - @@@@@@@@@@@@@@@@@@@@@@@@@@@@@@@@@@@@@@@@@@@@@@@@@@\n",
       "</pre>\n"
      ],
      "text/plain": [
       "17:22:11.241 | \u001b[36mINFO\u001b[0m    | Flow run\u001b[35m 'famous-snake'\u001b[0m - @@@@@@@@@@@@@@@@@@@@@@@@@@@@@@@@@@@@@@@@@@@@@@@@@@\n"
      ]
     },
     "metadata": {},
     "output_type": "display_data"
    },
    {
     "data": {
      "text/html": [
       "<pre style=\"white-space:pre;overflow-x:auto;line-height:normal;font-family:Menlo,'DejaVu Sans Mono',consolas,'Courier New',monospace\">17:22:11.256 | <span style=\"color: #008080; text-decoration-color: #008080\">INFO</span>    | Flow run<span style=\"color: #800080; text-decoration-color: #800080\"> 'famous-snake'</span> - ----   readMode 0 / stream 1 / bit 8 / frame 2 ---------&gt;\n",
       "</pre>\n"
      ],
      "text/plain": [
       "17:22:11.256 | \u001b[36mINFO\u001b[0m    | Flow run\u001b[35m 'famous-snake'\u001b[0m - ----   readMode 0 / stream 1 / bit 8 / frame 2 --------->\n"
      ]
     },
     "metadata": {},
     "output_type": "display_data"
    },
    {
     "data": {
      "text/html": [
       "<pre style=\"white-space:pre;overflow-x:auto;line-height:normal;font-family:Menlo,'DejaVu Sans Mono',consolas,'Courier New',monospace\">17:22:12.284 | <span style=\"color: #008080; text-decoration-color: #008080\">INFO</span>    | Flow run<span style=\"color: #800080; text-decoration-color: #800080\"> 'famous-snake'</span> - Finished in state <span style=\"color: #008000; text-decoration-color: #008000\">Completed</span>()\n",
       "</pre>\n"
      ],
      "text/plain": [
       "17:22:12.284 | \u001b[36mINFO\u001b[0m    | Flow run\u001b[35m 'famous-snake'\u001b[0m - Finished in state \u001b[32mCompleted\u001b[0m()\n"
      ]
     },
     "metadata": {},
     "output_type": "display_data"
    },
    {
     "name": "stdout",
     "output_type": "stream",
     "text": [
      "=    type q to quit        =\n"
     ]
    }
   ],
   "source": [
    "import os\n",
    "import numpy as np\n",
    "import time\n",
    "from PIL import Image as PIL_image\n",
    "from astropy.io import fits\n",
    "from datetime import datetime\n",
    "\n",
    "from qcam.image2ascii import np_array_to_ascii\n",
    "from qcam.qCam import *\n",
    "from prefect import flow, task\n",
    "import warnings\n",
    "\n",
    "# cam = Qcam(os.path.join(os.path.dirname(__file__), 'qhyccd.dll'))\n",
    "cam = Qcam(os.path.join(os.path.abspath(''), 'qhyccd.dll'))\n",
    "\n",
    "\n",
    "@CFUNCTYPE(None, c_char_p)\n",
    "def pnp_in(cam_id):\n",
    "    print(\"cam   + %s\" % cam_id.decode('utf-8'))\n",
    "    init_camera_param(cam_id)\n",
    "    cam.camera_params[cam_id]['connect_to_pc'] = True\n",
    "    os.makedirs(cam_id.decode('utf-8'), exist_ok=True)\n",
    "    # select read mode\n",
    "    success = cam.so.GetReadModesNumber(cam_id, byref(cam.camera_params[cam_id]['read_mode_number']))\n",
    "    if success == cam.QHYCCD_SUCCESS:\n",
    "        print('-  read mode - %s' % cam.camera_params[cam_id]['read_mode_number'].value)\n",
    "        for read_mode_item_index in range(0, cam.camera_params[cam_id]['read_mode_number'].value):\n",
    "            read_mode_name = create_string_buffer(cam.STR_BUFFER_SIZE)\n",
    "            cam.so.GetReadModeName(cam_id, read_mode_item_index, read_mode_name)\n",
    "            print('%s  %s %s' % (cam_id.decode('utf-8'), read_mode_item_index, read_mode_name.value))\n",
    "    else:\n",
    "        print('GetReadModesNumber false')\n",
    "        cam.camera_params[cam_id]['read_mode_number'] = c_uint32(0)\n",
    "\n",
    "    read_mode_count = cam.camera_params[cam_id]['read_mode_number'].value\n",
    "    if read_mode_count == 0:\n",
    "        read_mode_count = 1\n",
    "    for read_mode_index in range(0, read_mode_count):\n",
    "        test_frame(cam_id, cam.stream_single_mode, cam.bit_depth_16, read_mode_index)\n",
    "        test_frame(cam_id, cam.stream_live_mode, cam.bit_depth_16, read_mode_index)\n",
    "        test_frame(cam_id, cam.stream_single_mode, cam.bit_depth_8, read_mode_index)\n",
    "        test_frame(cam_id, cam.stream_live_mode, cam.bit_depth_8, read_mode_index)\n",
    "        cam.so.CloseQHYCCD(cam.camera_params[cam_id]['handle'])\n",
    "\n",
    "\n",
    "\n",
    "@CFUNCTYPE(None, c_char_p)\n",
    "def pnp_out(cam_id):\n",
    "    print(\"cam   - %s\" % cam_id.decode('utf-8'))\n",
    "\n",
    "\n",
    "def gui_start():\n",
    "    cam.so.RegisterPnpEventIn(pnp_in)\n",
    "    cam.so.RegisterPnpEventOut(pnp_out)\n",
    "    print('scan camera...')\n",
    "    cam.so.InitQHYCCDResource()\n",
    "\n",
    "\n",
    "def init_camera_param(cam_id):\n",
    "    if not cam.camera_params.keys().__contains__(cam_id):\n",
    "        cam.camera_params[cam_id] = {'connect_to_pc': False,\n",
    "                                     'connect_to_sdk': False,\n",
    "                                     'EXPOSURE': c_double(1000.0 * 1000.0),\n",
    "                                     'GAIN': c_double(54.0),\n",
    "                                     'CONTROL_BRIGHTNESS': c_int(0),\n",
    "                                     'CONTROL_GAIN': c_int(6),\n",
    "                                     'CONTROL_EXPOSURE': c_int(8),\n",
    "                                     'CONTROL_CURTEMP': c_int(14),\n",
    "                                     'CONTROL_CURPWM': c_int(15),\n",
    "                                     'CONTROL_MANULPWM': c_int(16),\n",
    "                                     'CONTROL_COOLER': c_int(18),\n",
    "                                     'chip_width': c_double(),\n",
    "                                     'chip_height': c_double(),\n",
    "                                     'image_width': c_uint32(),\n",
    "                                     'image_height': c_uint32(),\n",
    "                                     'pixel_width': c_double(),\n",
    "                                     'pixel_height': c_double(),\n",
    "                                     'bits_per_pixel': c_uint32(),\n",
    "                                     'mem_len': c_ulong(),\n",
    "                                     'stream_mode': c_uint8(0),\n",
    "                                     'channels': c_uint32(),\n",
    "                                     'read_mode_number': c_uint32(),\n",
    "                                     'read_mode_index': c_uint32(),\n",
    "                                     'read_mode_name': c_char('-'.encode('utf-8')),\n",
    "                                     'prev_img_data': c_void_p(0),\n",
    "                                     'prev_img': None,\n",
    "                                     'handle': None,\n",
    "                                     }\n",
    "\n",
    "@flow(log_prints=True)\n",
    "def test_frame(cam_id, stream_mode, bit_depth, read_mode):\n",
    "    print('open camera %s' % cam_id.decode('utf-8'))\n",
    "    cam.camera_params[cam_id]['handle'] = cam.so.OpenQHYCCD(cam_id)\n",
    "    if cam.camera_params[cam_id]['handle'] is None:\n",
    "        print('open camera error %s' % cam_id)\n",
    "\n",
    "    success = cam.so.SetQHYCCDReadMode(cam.camera_params[cam_id]['handle'], read_mode)\n",
    "    cam.camera_params[cam_id]['stream_mode'] = c_uint8(stream_mode)\n",
    "    success = cam.so.SetQHYCCDStreamMode(cam.camera_params[cam_id]['handle'], cam.camera_params[cam_id]['stream_mode'])\n",
    "    print('set StreamMode   =' + str(success))\n",
    "    success = cam.so.InitQHYCCD(cam.camera_params[cam_id]['handle'])\n",
    "    print('init Camera   =' + str(success))\n",
    "\n",
    "    mode_name = create_string_buffer(cam.STR_BUFFER_SIZE)\n",
    "    cam.so.GetReadModeName(cam_id, read_mode, mode_name)\n",
    "\n",
    "    success = cam.so.SetQHYCCDBitsMode(cam.camera_params[cam_id]['handle'], c_uint32(bit_depth))\n",
    "\n",
    "    success = cam.so.GetQHYCCDChipInfo(cam.camera_params[cam_id]['handle'],\n",
    "                                       byref(cam.camera_params[cam_id]['chip_width']),\n",
    "                                       byref(cam.camera_params[cam_id]['chip_height']),\n",
    "                                       byref(cam.camera_params[cam_id]['image_width']),\n",
    "                                       byref(cam.camera_params[cam_id]['image_height']),\n",
    "                                       byref(cam.camera_params[cam_id]['pixel_width']),\n",
    "                                       byref(cam.camera_params[cam_id]['pixel_height']),\n",
    "                                       byref(cam.camera_params[cam_id]['bits_per_pixel']))\n",
    "\n",
    "    print('info.   =' + str(success))\n",
    "    cam.camera_params[cam_id]['mem_len'] = cam.so.GetQHYCCDMemLength(cam.camera_params[cam_id]['handle'])\n",
    "    i_w = cam.camera_params[cam_id]['image_width'].value\n",
    "    i_h = cam.camera_params[cam_id]['image_height'].value\n",
    "    print('c-w:     ' + str(cam.camera_params[cam_id]['chip_width'].value), end='')\n",
    "    print('    c-h: ' + str(cam.camera_params[cam_id]['chip_height'].value))\n",
    "    print('p-w:     ' + str(cam.camera_params[cam_id]['pixel_width'].value), end='')\n",
    "    print('    p-h: ' + str(cam.camera_params[cam_id]['pixel_height'].value))\n",
    "    print('i-w:     ' + str(i_w), end='')\n",
    "    print('    i-h: ' + str(i_h))\n",
    "    print('bit: ' + str(cam.camera_params[cam_id]['bits_per_pixel'].value))\n",
    "    print('mem len: ' + str(cam.camera_params[cam_id]['mem_len']))\n",
    "\n",
    "    val_temp = cam.so.GetQHYCCDParam(cam.camera_params[cam_id]['handle'], cam.CONTROL_CURTEMP)\n",
    "    val_pwm = cam.so.GetQHYCCDParam(cam.camera_params[cam_id]['handle'], cam.CONTROL_CURPWM)\n",
    "\n",
    "    # todo  c_uint8 c_uint16??\n",
    "    if bit_depth == cam.bit_depth_16:\n",
    "        print('using c_uint16()')\n",
    "        cam.camera_params[cam_id]['prev_img_data'] = (c_uint16 * int(cam.camera_params[cam_id]['mem_len'] / 2))()\n",
    "    else:\n",
    "        print('using c_uint8()')\n",
    "        cam.camera_params[cam_id]['prev_img_data'] = (c_uint8 * cam.camera_params[cam_id]['mem_len'])()\n",
    "\n",
    "    success = cam.QHYCCD_ERROR\n",
    "\n",
    "    image_width_byref = c_uint32()\n",
    "    image_height_byref = c_uint32()\n",
    "    bits_per_pixel_byref = c_uint32()\n",
    "    # TODO resolution\n",
    "    cam.so.SetQHYCCDResolution(cam.camera_params[cam_id]['handle'], c_uint32(0), c_uint32(0), c_uint32(i_w),\n",
    "                                   c_uint32(i_h))\n",
    "\n",
    "    if stream_mode == cam.stream_live_mode:\n",
    "        success = cam.so.BeginQHYCCDLive(cam.camera_params[cam_id]['handle'])\n",
    "        print('exp  Live = ' + str(success))\n",
    "\n",
    "    frame_counter = 0\n",
    "    time_string = '---'\n",
    "    retry_counter = 0  # todo error control\n",
    "    live_mode_skip_frame = 0\n",
    "\n",
    "    while frame_counter < 2:\n",
    "        time_string = datetime.now().strftime(\"%Y%m%d%H%M%S\")\n",
    "        if stream_mode == cam.stream_single_mode:\n",
    "            success = cam.so.ExpQHYCCDSingleFrame(cam.camera_params[cam_id]['handle'])\n",
    "            print('exp  single = ' + str(success))\n",
    "        success = cam.so.SetQHYCCDParam(cam.camera_params[cam_id]['handle'], cam.CONTROL_EXPOSURE, c_double(20000))\n",
    "        success = cam.so.SetQHYCCDParam(cam.camera_params[cam_id]['handle'], cam.CONTROL_GAIN, c_double(30))\n",
    "        success = cam.so.SetQHYCCDParam(cam.camera_params[cam_id]['handle'], cam.CONTROL_OFFSET, c_double(40))\n",
    "        # success = cam.so.SetQHYCCDParam(cam.camera_params[cam_id]['handle'], CONTROL_EXPOSURE, EXPOSURE)\n",
    "        if stream_mode == cam.stream_live_mode:\n",
    "            success = cam.so.GetQHYCCDLiveFrame(cam.camera_params[cam_id]['handle'],\n",
    "                                                byref(image_width_byref),\n",
    "                                                byref(image_height_byref),\n",
    "                                                byref(bits_per_pixel_byref),\n",
    "                                                byref(cam.camera_params[cam_id]['channels']),\n",
    "                                                byref(cam.camera_params[cam_id]['prev_img_data']))\n",
    "            print('read  single = ' + str(success))\n",
    "        if stream_mode == cam.stream_single_mode:\n",
    "            success = cam.so.GetQHYCCDSingleFrame(cam.camera_params[cam_id]['handle'],\n",
    "                                                  byref(image_width_byref),\n",
    "                                                  byref(image_height_byref),\n",
    "                                                  byref(bits_per_pixel_byref),\n",
    "                                                  byref(cam.camera_params[cam_id]['channels']),\n",
    "                                                  byref(cam.camera_params[cam_id]['prev_img_data']))\n",
    "            print('read  single = ' + str(success))\n",
    "        time.sleep(2)\n",
    "        try_counter = 0\n",
    "        while try_counter < 5 and success != cam.QHYCCD_SUCCESS:\n",
    "            try_counter += 1\n",
    "            print(\"success != 0  = \" + str(success))\n",
    "            time.sleep(1)\n",
    "\n",
    "        if stream_mode == cam.stream_live_mode:\n",
    "            live_mode_skip_frame += 1\n",
    "            if live_mode_skip_frame < 3:\n",
    "                print('skip frame in live mode  [%s]' % live_mode_skip_frame)\n",
    "                continue\n",
    "        frame_counter += 1\n",
    "\n",
    "        cam.camera_params[cam_id]['prev_img'] = np.ctypeslib.as_array(cam.camera_params[cam_id]['prev_img_data'])\n",
    "        print(\"---------------->\" + str(len(cam.camera_params[cam_id]['prev_img'])))\n",
    "        image_size = i_h * i_w\n",
    "        print(\"image size =     \" + str(image_size))\n",
    "        print(\"prev_img_list sub length-->\" + str(len(cam.camera_params[cam_id]['prev_img'])))\n",
    "        print(\"Image W=\" + str(i_w) + \"        H=\" + str(i_h))\n",
    "        cam.camera_params[cam_id]['prev_img'] = cam.camera_params[cam_id]['prev_img'][0:image_size]\n",
    "        image = np.reshape(cam.camera_params[cam_id]['prev_img'], (i_h, i_w))\n",
    "\n",
    "        stream_mode_str = 'stream_mode'\n",
    "        read_mode_name_str = mode_name.value.decode('utf-8').replace(' ', '_')\n",
    "        bit_depth_str = 'bit_dep'\n",
    "        if stream_mode == cam.stream_live_mode:\n",
    "            stream_mode_str = 'live'\n",
    "        else:\n",
    "            stream_mode_str = 'single'\n",
    "        if bit_depth == cam.bit_depth_16:\n",
    "            bit_depth_str = '16bit'\n",
    "        else:\n",
    "            bit_depth_str = '8bit'\n",
    "\n",
    "        if bit_depth == cam.bit_depth_8:\n",
    "            pil_image = PIL_image.fromarray(image)\n",
    "            # pil_image_save = PIL_image.fromarray(image).convert('L')\n",
    "            pil_image.save('%s/%s_%s.bmp' % (cam_id.decode('utf-8'), time_string, frame_counter))\n",
    "            pil_image = pil_image.resize((400, 400))\n",
    "            # pil_image.show()\n",
    "            ascii_img = np_array_to_ascii(pil_image, 50, 0.5, False)\n",
    "            for row in ascii_img:\n",
    "                print(row)\n",
    "\n",
    "        hdu = fits.PrimaryHDU(image)\n",
    "        hdul = fits.HDUList([hdu])\n",
    "        hdul.writeto('%s/%s_%s_str_%s_mode_%s_%s.fits' % (cam_id.decode('utf-8'), time_string, frame_counter,\n",
    "                                                          stream_mode_str, read_mode_name_str, bit_depth_str))\n",
    "\n",
    "        warnings.warn(\"任务执行结果为42，这可能需要注意！\")\n",
    "        print(\"----   readMode %s / stream %s / bit %s / frame %s --------->\" %\n",
    "              (read_mode, stream_mode, bit_depth, frame_counter), end='')\n",
    "        time.sleep(1)\n",
    "\n",
    "\n",
    "print(\"path: %s\" % os.path.abspath(''))\n",
    "\n",
    "gui_start()\n",
    "print(\"=    type q to quit        =\")\n",
    "command = \"\"\n",
    "while command != \"q\":\n",
    "    command = input()"
   ]
  },
  {
   "cell_type": "code",
   "execution_count": null,
   "id": "6fe55308-69d0-4ae7-b3a4-bedfbd38a6ea",
   "metadata": {},
   "outputs": [],
   "source": []
  },
  {
   "cell_type": "code",
   "execution_count": null,
   "id": "e3da1ad4-2f51-4996-8774-507d44a71276",
   "metadata": {},
   "outputs": [],
   "source": []
  },
  {
   "cell_type": "code",
   "execution_count": null,
   "id": "950358e3-705a-4572-b915-7c5100de9037",
   "metadata": {},
   "outputs": [],
   "source": []
  }
 ],
 "metadata": {
  "kernelspec": {
   "display_name": "Python 3 (ipykernel)",
   "language": "python",
   "name": "python3"
  },
  "language_info": {
   "codemirror_mode": {
    "name": "ipython",
    "version": 3
   },
   "file_extension": ".py",
   "mimetype": "text/x-python",
   "name": "python",
   "nbconvert_exporter": "python",
   "pygments_lexer": "ipython3",
   "version": "3.12.1"
  }
 },
 "nbformat": 4,
 "nbformat_minor": 5
}
