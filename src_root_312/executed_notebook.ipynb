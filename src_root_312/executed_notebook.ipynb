{
 "cells": [
  {
   "cell_type": "code",
   "execution_count": 1,
   "id": "4ff965c5",
   "metadata": {
    "ExecuteTime": {
     "end_time": "2022-08-19T00:33:38.521242Z",
     "start_time": "2022-08-19T00:33:38.518357Z"
    },
    "execution": {
     "iopub.execute_input": "2024-01-30T08:31:31.268353Z",
     "iopub.status.busy": "2024-01-30T08:31:31.268353Z",
     "iopub.status.idle": "2024-01-30T08:31:31.271998Z",
     "shell.execute_reply": "2024-01-30T08:31:31.271998Z"
    },
    "papermill": {
     "duration": 0.005656,
     "end_time": "2024-01-30T08:31:31.273009",
     "exception": false,
     "start_time": "2024-01-30T08:31:31.267353",
     "status": "completed"
    },
    "tags": [
     "parameters"
    ]
   },
   "outputs": [],
   "source": [
    "one = 1\n",
    "two = 2\n",
    "num = one + two"
   ]
  },
  {
   "cell_type": "code",
   "execution_count": 2,
   "id": "9f414c11",
   "metadata": {
    "execution": {
     "iopub.execute_input": "2024-01-30T08:31:31.275008Z",
     "iopub.status.busy": "2024-01-30T08:31:31.274011Z",
     "iopub.status.idle": "2024-01-30T08:31:31.276956Z",
     "shell.execute_reply": "2024-01-30T08:31:31.276956Z"
    },
    "papermill": {
     "duration": 0.003949,
     "end_time": "2024-01-30T08:31:31.277960",
     "exception": false,
     "start_time": "2024-01-30T08:31:31.274011",
     "status": "completed"
    },
    "tags": [
     "injected-parameters"
    ]
   },
   "outputs": [],
   "source": [
    "# Parameters\n",
    "num = 5\n"
   ]
  },
  {
   "cell_type": "code",
   "execution_count": 3,
   "id": "8e6461ee",
   "metadata": {
    "ExecuteTime": {
     "end_time": "2022-08-19T00:34:28.926313Z",
     "start_time": "2022-08-19T00:34:28.922584Z"
    },
    "execution": {
     "iopub.execute_input": "2024-01-30T08:31:31.278963Z",
     "iopub.status.busy": "2024-01-30T08:31:31.277960Z",
     "iopub.status.idle": "2024-01-30T08:31:31.282773Z",
     "shell.execute_reply": "2024-01-30T08:31:31.282773Z"
    },
    "papermill": {
     "duration": 0.005818,
     "end_time": "2024-01-30T08:31:31.283778",
     "exception": false,
     "start_time": "2024-01-30T08:31:31.277960",
     "status": "completed"
    },
    "tags": []
   },
   "outputs": [
    {
     "name": "stdout",
     "output_type": "stream",
     "text": [
      "one is 1, 2 is two, num is 5!\n"
     ]
    }
   ],
   "source": [
    "print(f\"one is {one}, {two} is two, num is {num}!\")"
   ]
  }
 ],
 "metadata": {
  "celltoolbar": "Tags",
  "kernelspec": {
   "display_name": "Python 3 (ipykernel)",
   "language": "python",
   "name": "python3"
  },
  "language_info": {
   "codemirror_mode": {
    "name": "ipython",
    "version": 3
   },
   "file_extension": ".py",
   "mimetype": "text/x-python",
   "name": "python",
   "nbconvert_exporter": "python",
   "pygments_lexer": "ipython3",
   "version": "3.12.1"
  },
  "papermill": {
   "default_parameters": {},
   "duration": 1.460364,
   "end_time": "2024-01-30T08:31:31.411778",
   "environment_variables": {},
   "exception": null,
   "input_path": "test_notebook.ipynb",
   "output_path": null,
   "parameters": {
    "num": 5
   },
   "start_time": "2024-01-30T08:31:29.951414",
   "version": "2.5.0"
  }
 },
 "nbformat": 4,
 "nbformat_minor": 5
}
