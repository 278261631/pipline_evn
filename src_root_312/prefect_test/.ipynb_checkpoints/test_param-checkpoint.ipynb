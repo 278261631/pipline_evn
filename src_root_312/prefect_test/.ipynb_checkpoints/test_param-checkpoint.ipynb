{
 "cells": [
  {
   "cell_type": "code",
   "execution_count": null,
   "id": "f9c828ce-6592-468d-a9a7-901abf252c1c",
   "metadata": {},
   "outputs": [],
   "source": [
    "import httpx\n",
    "from datetime import timedelta\n",
    "from prefect import flow, task\n",
    "from prefect.tasks import task_input_hash\n",
    "\n",
    "\n",
    "@task(cache_key_fn=task_input_hash, cache_expiration=timedelta(hours=1),name=\"测试任务Ok\")\n",
    "def task_t1(url: str, params: dict = None):\n",
    "    print(f\"----task:      {url}  [{params}]\")\n",
    "    \n",
    "        \n",
    "        \n",
    "@task(cache_key_fn=task_input_hash, cache_expiration=timedelta(hours=1),name=\"测试任务Err\")\n",
    "def task_t2(url: str, params: dict = None):\n",
    "    print(f\"----task:      {url}  [{params}]\")\n",
    "    \n",
    "    \n",
    "\n",
    "\n",
    "def get_open_issues(repo_name: str, open_issues_count: int, per_page: int = 3):\n",
    "    issues = []\n",
    "    pages = range(1, 5)\n",
    "    for page in pages:\n",
    "        print(f\"--page??    {page}\")\n",
    "        if page>1:\n",
    "            task_t1(f\"http://baidu.com\")\n",
    "        else:\n",
    "            task_t2(f\"http://google.com\")\n",
    "\n",
    "\n",
    "@flow(retries=3, retry_delay_seconds=5, log_prints=True,name=\"测试流\")\n",
    "def get_repo_info(repo_name: str = \"PrefectHQ/prefect\"):\n",
    "    task_t1(f\"https://api.github.com/repos/{repo_name}\")\n",
    "    get_open_issues(repo_name, 10)\n",
    "\n",
    "\n",
    "if __name__ == \"__main__\":\n",
    "    # get_repo_info()\n",
    "    # Create an instance of the flow\n",
    "    flow_instance = get_repo_info()\n",
    "\n",
    "    # Run the flow with a custom run name\n",
    "    flow_instance.run(run_name=\"CustomRunName\")\n"
   ]
  },
  {
   "cell_type": "code",
   "execution_count": null,
   "id": "461d2e6b-6a4d-4252-b3ec-1b9426d5302e",
   "metadata": {},
   "outputs": [],
   "source": []
  },
  {
   "cell_type": "code",
   "execution_count": null,
   "id": "73a63719-96dd-4010-89b5-caddd03d5517",
   "metadata": {},
   "outputs": [],
   "source": []
  },
  {
   "cell_type": "code",
   "execution_count": null,
   "id": "04369728-ee2e-421f-bf21-c66fdc576ed2",
   "metadata": {},
   "outputs": [],
   "source": []
  },
  {
   "cell_type": "code",
   "execution_count": null,
   "id": "92d5deff-b6be-4c18-9da0-e8c04e7df928",
   "metadata": {},
   "outputs": [],
   "source": []
  }
 ],
 "metadata": {
  "kernelspec": {
   "display_name": "Python 3 (ipykernel)",
   "language": "python",
   "name": "python3"
  },
  "language_info": {
   "codemirror_mode": {
    "name": "ipython",
    "version": 3
   },
   "file_extension": ".py",
   "mimetype": "text/x-python",
   "name": "python",
   "nbconvert_exporter": "python",
   "pygments_lexer": "ipython3",
   "version": "3.12.1"
  }
 },
 "nbformat": 4,
 "nbformat_minor": 5
}
