{
 "cells": [
  {
   "cell_type": "code",
   "execution_count": 4,
   "id": "f9c828ce-6592-468d-a9a7-901abf252c1c",
   "metadata": {},
   "outputs": [
    {
     "data": {
      "text/html": [
       "<pre style=\"white-space:pre;overflow-x:auto;line-height:normal;font-family:Menlo,'DejaVu Sans Mono',consolas,'Courier New',monospace\">11:29:54.073 | <span style=\"color: #008080; text-decoration-color: #008080\">INFO</span>    | prefect.engine - Created flow run<span style=\"color: #800080; text-decoration-color: #800080\"> 'enormous-bonobo'</span> for flow<span style=\"color: #800080; text-decoration-color: #800080; font-weight: bold\"> 'f流'</span>\n",
       "</pre>\n"
      ],
      "text/plain": [
       "11:29:54.073 | \u001b[36mINFO\u001b[0m    | prefect.engine - Created flow run\u001b[35m 'enormous-bonobo'\u001b[0m for flow\u001b[1;35m 'f流'\u001b[0m\n"
      ]
     },
     "metadata": {},
     "output_type": "display_data"
    },
    {
     "data": {
      "text/html": [
       "<pre style=\"white-space:pre;overflow-x:auto;line-height:normal;font-family:Menlo,'DejaVu Sans Mono',consolas,'Courier New',monospace\">11:29:54.133 | <span style=\"color: #008080; text-decoration-color: #008080\">INFO</span>    | Flow run<span style=\"color: #800080; text-decoration-color: #800080\"> 'enormous-bonobo'</span> - Created task run 't任务-0' for task 't任务'\n",
       "</pre>\n"
      ],
      "text/plain": [
       "11:29:54.133 | \u001b[36mINFO\u001b[0m    | Flow run\u001b[35m 'enormous-bonobo'\u001b[0m - Created task run 't任务-0' for task 't任务'\n"
      ]
     },
     "metadata": {},
     "output_type": "display_data"
    },
    {
     "data": {
      "text/html": [
       "<pre style=\"white-space:pre;overflow-x:auto;line-height:normal;font-family:Menlo,'DejaVu Sans Mono',consolas,'Courier New',monospace\">11:29:54.135 | <span style=\"color: #008080; text-decoration-color: #008080\">INFO</span>    | Flow run<span style=\"color: #800080; text-decoration-color: #800080\"> 'enormous-bonobo'</span> - Executing 't任务-0' immediately...\n",
       "</pre>\n"
      ],
      "text/plain": [
       "11:29:54.135 | \u001b[36mINFO\u001b[0m    | Flow run\u001b[35m 'enormous-bonobo'\u001b[0m - Executing 't任务-0' immediately...\n"
      ]
     },
     "metadata": {},
     "output_type": "display_data"
    },
    {
     "data": {
      "text/html": [
       "<pre style=\"white-space:pre;overflow-x:auto;line-height:normal;font-family:Menlo,'DejaVu Sans Mono',consolas,'Courier New',monospace\">11:29:54.228 | <span style=\"color: #008080; text-decoration-color: #008080\">INFO</span>    | Task run 't任务-0' - Finished in state Cached(type=COMPLETED)\n",
       "</pre>\n"
      ],
      "text/plain": [
       "11:29:54.228 | \u001b[36mINFO\u001b[0m    | Task run 't任务-0' - Finished in state Cached(type=COMPLETED)\n"
      ]
     },
     "metadata": {},
     "output_type": "display_data"
    },
    {
     "data": {
      "text/html": [
       "<pre style=\"white-space:pre;overflow-x:auto;line-height:normal;font-family:Menlo,'DejaVu Sans Mono',consolas,'Courier New',monospace\">11:29:54.301 | <span style=\"color: #008080; text-decoration-color: #008080\">INFO</span>    | Flow run<span style=\"color: #800080; text-decoration-color: #800080\"> 'enormous-bonobo'</span> - Created task run 't任务-1' for task 't任务'\n",
       "</pre>\n"
      ],
      "text/plain": [
       "11:29:54.301 | \u001b[36mINFO\u001b[0m    | Flow run\u001b[35m 'enormous-bonobo'\u001b[0m - Created task run 't任务-1' for task 't任务'\n"
      ]
     },
     "metadata": {},
     "output_type": "display_data"
    },
    {
     "data": {
      "text/html": [
       "<pre style=\"white-space:pre;overflow-x:auto;line-height:normal;font-family:Menlo,'DejaVu Sans Mono',consolas,'Courier New',monospace\">11:29:54.302 | <span style=\"color: #008080; text-decoration-color: #008080\">INFO</span>    | Flow run<span style=\"color: #800080; text-decoration-color: #800080\"> 'enormous-bonobo'</span> - Executing 't任务-1' immediately...\n",
       "</pre>\n"
      ],
      "text/plain": [
       "11:29:54.302 | \u001b[36mINFO\u001b[0m    | Flow run\u001b[35m 'enormous-bonobo'\u001b[0m - Executing 't任务-1' immediately...\n"
      ]
     },
     "metadata": {},
     "output_type": "display_data"
    },
    {
     "data": {
      "text/html": [
       "<pre style=\"white-space:pre;overflow-x:auto;line-height:normal;font-family:Menlo,'DejaVu Sans Mono',consolas,'Courier New',monospace\">11:29:54.330 | <span style=\"color: #008080; text-decoration-color: #008080\">INFO</span>    | Task run 't任务-1' - Finished in state Cached(type=COMPLETED)\n",
       "</pre>\n"
      ],
      "text/plain": [
       "11:29:54.330 | \u001b[36mINFO\u001b[0m    | Task run 't任务-1' - Finished in state Cached(type=COMPLETED)\n"
      ]
     },
     "metadata": {},
     "output_type": "display_data"
    },
    {
     "data": {
      "text/html": [
       "<pre style=\"white-space:pre;overflow-x:auto;line-height:normal;font-family:Menlo,'DejaVu Sans Mono',consolas,'Courier New',monospace\">11:29:54.401 | <span style=\"color: #008080; text-decoration-color: #008080\">INFO</span>    | Flow run<span style=\"color: #800080; text-decoration-color: #800080\"> 'enormous-bonobo'</span> - Created task run 't任务-2' for task 't任务'\n",
       "</pre>\n"
      ],
      "text/plain": [
       "11:29:54.401 | \u001b[36mINFO\u001b[0m    | Flow run\u001b[35m 'enormous-bonobo'\u001b[0m - Created task run 't任务-2' for task 't任务'\n"
      ]
     },
     "metadata": {},
     "output_type": "display_data"
    },
    {
     "data": {
      "text/html": [
       "<pre style=\"white-space:pre;overflow-x:auto;line-height:normal;font-family:Menlo,'DejaVu Sans Mono',consolas,'Courier New',monospace\">11:29:54.402 | <span style=\"color: #008080; text-decoration-color: #008080\">INFO</span>    | Flow run<span style=\"color: #800080; text-decoration-color: #800080\"> 'enormous-bonobo'</span> - Executing 't任务-2' immediately...\n",
       "</pre>\n"
      ],
      "text/plain": [
       "11:29:54.402 | \u001b[36mINFO\u001b[0m    | Flow run\u001b[35m 'enormous-bonobo'\u001b[0m - Executing 't任务-2' immediately...\n"
      ]
     },
     "metadata": {},
     "output_type": "display_data"
    },
    {
     "data": {
      "text/html": [
       "<pre style=\"white-space:pre;overflow-x:auto;line-height:normal;font-family:Menlo,'DejaVu Sans Mono',consolas,'Courier New',monospace\">11:29:54.430 | <span style=\"color: #008080; text-decoration-color: #008080\">INFO</span>    | Task run 't任务-2' - Finished in state Cached(type=COMPLETED)\n",
       "</pre>\n"
      ],
      "text/plain": [
       "11:29:54.430 | \u001b[36mINFO\u001b[0m    | Task run 't任务-2' - Finished in state Cached(type=COMPLETED)\n"
      ]
     },
     "metadata": {},
     "output_type": "display_data"
    },
    {
     "data": {
      "text/html": [
       "<pre style=\"white-space:pre;overflow-x:auto;line-height:normal;font-family:Menlo,'DejaVu Sans Mono',consolas,'Courier New',monospace\">11:29:54.502 | <span style=\"color: #008080; text-decoration-color: #008080\">INFO</span>    | Flow run<span style=\"color: #800080; text-decoration-color: #800080\"> 'enormous-bonobo'</span> - Created task run 't任务-3' for task 't任务'\n",
       "</pre>\n"
      ],
      "text/plain": [
       "11:29:54.502 | \u001b[36mINFO\u001b[0m    | Flow run\u001b[35m 'enormous-bonobo'\u001b[0m - Created task run 't任务-3' for task 't任务'\n"
      ]
     },
     "metadata": {},
     "output_type": "display_data"
    },
    {
     "data": {
      "text/html": [
       "<pre style=\"white-space:pre;overflow-x:auto;line-height:normal;font-family:Menlo,'DejaVu Sans Mono',consolas,'Courier New',monospace\">11:29:54.503 | <span style=\"color: #008080; text-decoration-color: #008080\">INFO</span>    | Flow run<span style=\"color: #800080; text-decoration-color: #800080\"> 'enormous-bonobo'</span> - Executing 't任务-3' immediately...\n",
       "</pre>\n"
      ],
      "text/plain": [
       "11:29:54.503 | \u001b[36mINFO\u001b[0m    | Flow run\u001b[35m 'enormous-bonobo'\u001b[0m - Executing 't任务-3' immediately...\n"
      ]
     },
     "metadata": {},
     "output_type": "display_data"
    },
    {
     "data": {
      "text/html": [
       "<pre style=\"white-space:pre;overflow-x:auto;line-height:normal;font-family:Menlo,'DejaVu Sans Mono',consolas,'Courier New',monospace\">11:29:54.533 | <span style=\"color: #008080; text-decoration-color: #008080\">INFO</span>    | Task run 't任务-3' - Finished in state Cached(type=COMPLETED)\n",
       "</pre>\n"
      ],
      "text/plain": [
       "11:29:54.533 | \u001b[36mINFO\u001b[0m    | Task run 't任务-3' - Finished in state Cached(type=COMPLETED)\n"
      ]
     },
     "metadata": {},
     "output_type": "display_data"
    },
    {
     "data": {
      "text/html": [
       "<pre style=\"white-space:pre;overflow-x:auto;line-height:normal;font-family:Menlo,'DejaVu Sans Mono',consolas,'Courier New',monospace\">11:29:54.607 | <span style=\"color: #008080; text-decoration-color: #008080\">INFO</span>    | Flow run<span style=\"color: #800080; text-decoration-color: #800080\"> 'enormous-bonobo'</span> - Created task run 't任务-4' for task 't任务'\n",
       "</pre>\n"
      ],
      "text/plain": [
       "11:29:54.607 | \u001b[36mINFO\u001b[0m    | Flow run\u001b[35m 'enormous-bonobo'\u001b[0m - Created task run 't任务-4' for task 't任务'\n"
      ]
     },
     "metadata": {},
     "output_type": "display_data"
    },
    {
     "data": {
      "text/html": [
       "<pre style=\"white-space:pre;overflow-x:auto;line-height:normal;font-family:Menlo,'DejaVu Sans Mono',consolas,'Courier New',monospace\">11:29:54.609 | <span style=\"color: #008080; text-decoration-color: #008080\">INFO</span>    | Flow run<span style=\"color: #800080; text-decoration-color: #800080\"> 'enormous-bonobo'</span> - Executing 't任务-4' immediately...\n",
       "</pre>\n"
      ],
      "text/plain": [
       "11:29:54.609 | \u001b[36mINFO\u001b[0m    | Flow run\u001b[35m 'enormous-bonobo'\u001b[0m - Executing 't任务-4' immediately...\n"
      ]
     },
     "metadata": {},
     "output_type": "display_data"
    },
    {
     "data": {
      "text/html": [
       "<pre style=\"white-space:pre;overflow-x:auto;line-height:normal;font-family:Menlo,'DejaVu Sans Mono',consolas,'Courier New',monospace\">11:29:54.647 | <span style=\"color: #008080; text-decoration-color: #008080\">INFO</span>    | Task run 't任务-4' - Finished in state Cached(type=COMPLETED)\n",
       "</pre>\n"
      ],
      "text/plain": [
       "11:29:54.647 | \u001b[36mINFO\u001b[0m    | Task run 't任务-4' - Finished in state Cached(type=COMPLETED)\n"
      ]
     },
     "metadata": {},
     "output_type": "display_data"
    },
    {
     "data": {
      "text/html": [
       "<pre style=\"white-space:pre;overflow-x:auto;line-height:normal;font-family:Menlo,'DejaVu Sans Mono',consolas,'Courier New',monospace\">11:29:54.719 | <span style=\"color: #008080; text-decoration-color: #008080\">INFO</span>    | Flow run<span style=\"color: #800080; text-decoration-color: #800080\"> 'enormous-bonobo'</span> - Created task run 't任务-5' for task 't任务'\n",
       "</pre>\n"
      ],
      "text/plain": [
       "11:29:54.719 | \u001b[36mINFO\u001b[0m    | Flow run\u001b[35m 'enormous-bonobo'\u001b[0m - Created task run 't任务-5' for task 't任务'\n"
      ]
     },
     "metadata": {},
     "output_type": "display_data"
    },
    {
     "data": {
      "text/html": [
       "<pre style=\"white-space:pre;overflow-x:auto;line-height:normal;font-family:Menlo,'DejaVu Sans Mono',consolas,'Courier New',monospace\">11:29:54.721 | <span style=\"color: #008080; text-decoration-color: #008080\">INFO</span>    | Flow run<span style=\"color: #800080; text-decoration-color: #800080\"> 'enormous-bonobo'</span> - Executing 't任务-5' immediately...\n",
       "</pre>\n"
      ],
      "text/plain": [
       "11:29:54.721 | \u001b[36mINFO\u001b[0m    | Flow run\u001b[35m 'enormous-bonobo'\u001b[0m - Executing 't任务-5' immediately...\n"
      ]
     },
     "metadata": {},
     "output_type": "display_data"
    },
    {
     "data": {
      "text/html": [
       "<pre style=\"white-space:pre;overflow-x:auto;line-height:normal;font-family:Menlo,'DejaVu Sans Mono',consolas,'Courier New',monospace\">11:29:54.753 | <span style=\"color: #008080; text-decoration-color: #008080\">INFO</span>    | Task run 't任务-5' - Finished in state Cached(type=COMPLETED)\n",
       "</pre>\n"
      ],
      "text/plain": [
       "11:29:54.753 | \u001b[36mINFO\u001b[0m    | Task run 't任务-5' - Finished in state Cached(type=COMPLETED)\n"
      ]
     },
     "metadata": {},
     "output_type": "display_data"
    },
    {
     "data": {
      "text/html": [
       "<pre style=\"white-space:pre;overflow-x:auto;line-height:normal;font-family:Menlo,'DejaVu Sans Mono',consolas,'Courier New',monospace\">11:29:54.830 | <span style=\"color: #008080; text-decoration-color: #008080\">INFO</span>    | Flow run<span style=\"color: #800080; text-decoration-color: #800080\"> 'enormous-bonobo'</span> - Created task run 't任务-6' for task 't任务'\n",
       "</pre>\n"
      ],
      "text/plain": [
       "11:29:54.830 | \u001b[36mINFO\u001b[0m    | Flow run\u001b[35m 'enormous-bonobo'\u001b[0m - Created task run 't任务-6' for task 't任务'\n"
      ]
     },
     "metadata": {},
     "output_type": "display_data"
    },
    {
     "data": {
      "text/html": [
       "<pre style=\"white-space:pre;overflow-x:auto;line-height:normal;font-family:Menlo,'DejaVu Sans Mono',consolas,'Courier New',monospace\">11:29:54.831 | <span style=\"color: #008080; text-decoration-color: #008080\">INFO</span>    | Flow run<span style=\"color: #800080; text-decoration-color: #800080\"> 'enormous-bonobo'</span> - Executing 't任务-6' immediately...\n",
       "</pre>\n"
      ],
      "text/plain": [
       "11:29:54.831 | \u001b[36mINFO\u001b[0m    | Flow run\u001b[35m 'enormous-bonobo'\u001b[0m - Executing 't任务-6' immediately...\n"
      ]
     },
     "metadata": {},
     "output_type": "display_data"
    },
    {
     "data": {
      "text/html": [
       "<pre style=\"white-space:pre;overflow-x:auto;line-height:normal;font-family:Menlo,'DejaVu Sans Mono',consolas,'Courier New',monospace\">11:29:54.861 | <span style=\"color: #008080; text-decoration-color: #008080\">INFO</span>    | Task run 't任务-6' - Finished in state Cached(type=COMPLETED)\n",
       "</pre>\n"
      ],
      "text/plain": [
       "11:29:54.861 | \u001b[36mINFO\u001b[0m    | Task run 't任务-6' - Finished in state Cached(type=COMPLETED)\n"
      ]
     },
     "metadata": {},
     "output_type": "display_data"
    },
    {
     "data": {
      "text/html": [
       "<pre style=\"white-space:pre;overflow-x:auto;line-height:normal;font-family:Menlo,'DejaVu Sans Mono',consolas,'Courier New',monospace\">11:29:54.935 | <span style=\"color: #008080; text-decoration-color: #008080\">INFO</span>    | Flow run<span style=\"color: #800080; text-decoration-color: #800080\"> 'enormous-bonobo'</span> - Created task run 't任务-7' for task 't任务'\n",
       "</pre>\n"
      ],
      "text/plain": [
       "11:29:54.935 | \u001b[36mINFO\u001b[0m    | Flow run\u001b[35m 'enormous-bonobo'\u001b[0m - Created task run 't任务-7' for task 't任务'\n"
      ]
     },
     "metadata": {},
     "output_type": "display_data"
    },
    {
     "data": {
      "text/html": [
       "<pre style=\"white-space:pre;overflow-x:auto;line-height:normal;font-family:Menlo,'DejaVu Sans Mono',consolas,'Courier New',monospace\">11:29:54.937 | <span style=\"color: #008080; text-decoration-color: #008080\">INFO</span>    | Flow run<span style=\"color: #800080; text-decoration-color: #800080\"> 'enormous-bonobo'</span> - Executing 't任务-7' immediately...\n",
       "</pre>\n"
      ],
      "text/plain": [
       "11:29:54.937 | \u001b[36mINFO\u001b[0m    | Flow run\u001b[35m 'enormous-bonobo'\u001b[0m - Executing 't任务-7' immediately...\n"
      ]
     },
     "metadata": {},
     "output_type": "display_data"
    },
    {
     "data": {
      "text/html": [
       "<pre style=\"white-space:pre;overflow-x:auto;line-height:normal;font-family:Menlo,'DejaVu Sans Mono',consolas,'Courier New',monospace\">11:29:54.965 | <span style=\"color: #008080; text-decoration-color: #008080\">INFO</span>    | Task run 't任务-7' - Finished in state Cached(type=COMPLETED)\n",
       "</pre>\n"
      ],
      "text/plain": [
       "11:29:54.965 | \u001b[36mINFO\u001b[0m    | Task run 't任务-7' - Finished in state Cached(type=COMPLETED)\n"
      ]
     },
     "metadata": {},
     "output_type": "display_data"
    },
    {
     "data": {
      "text/html": [
       "<pre style=\"white-space:pre;overflow-x:auto;line-height:normal;font-family:Menlo,'DejaVu Sans Mono',consolas,'Courier New',monospace\">11:29:55.017 | <span style=\"color: #008080; text-decoration-color: #008080\">INFO</span>    | Flow run<span style=\"color: #800080; text-decoration-color: #800080\"> 'enormous-bonobo'</span> - PrefectHQ/prefect repository statistics 🤓:\n",
       "</pre>\n"
      ],
      "text/plain": [
       "11:29:55.017 | \u001b[36mINFO\u001b[0m    | Flow run\u001b[35m 'enormous-bonobo'\u001b[0m - PrefectHQ/prefect repository statistics 🤓:\n"
      ]
     },
     "metadata": {},
     "output_type": "display_data"
    },
    {
     "data": {
      "text/html": [
       "<pre style=\"white-space:pre;overflow-x:auto;line-height:normal;font-family:Menlo,'DejaVu Sans Mono',consolas,'Courier New',monospace\">11:29:55.018 | <span style=\"color: #008080; text-decoration-color: #008080\">INFO</span>    | Flow run<span style=\"color: #800080; text-decoration-color: #800080\"> 'enormous-bonobo'</span> - Stars 🌠 : 13921\n",
       "</pre>\n"
      ],
      "text/plain": [
       "11:29:55.018 | \u001b[36mINFO\u001b[0m    | Flow run\u001b[35m 'enormous-bonobo'\u001b[0m - Stars 🌠 : 13921\n"
      ]
     },
     "metadata": {},
     "output_type": "display_data"
    },
    {
     "data": {
      "text/html": [
       "<pre style=\"white-space:pre;overflow-x:auto;line-height:normal;font-family:Menlo,'DejaVu Sans Mono',consolas,'Courier New',monospace\">11:29:55.020 | <span style=\"color: #008080; text-decoration-color: #008080\">INFO</span>    | Flow run<span style=\"color: #800080; text-decoration-color: #800080\"> 'enormous-bonobo'</span> - Forks 🍴 : 1424\n",
       "</pre>\n"
      ],
      "text/plain": [
       "11:29:55.020 | \u001b[36mINFO\u001b[0m    | Flow run\u001b[35m 'enormous-bonobo'\u001b[0m - Forks 🍴 : 1424\n"
      ]
     },
     "metadata": {},
     "output_type": "display_data"
    },
    {
     "data": {
      "text/html": [
       "<pre style=\"white-space:pre;overflow-x:auto;line-height:normal;font-family:Menlo,'DejaVu Sans Mono',consolas,'Courier New',monospace\">11:29:55.021 | <span style=\"color: #008080; text-decoration-color: #008080\">INFO</span>    | Flow run<span style=\"color: #800080; text-decoration-color: #800080\"> 'enormous-bonobo'</span> - Average open issues per user 💌 : 2.18\n",
       "</pre>\n"
      ],
      "text/plain": [
       "11:29:55.021 | \u001b[36mINFO\u001b[0m    | Flow run\u001b[35m 'enormous-bonobo'\u001b[0m - Average open issues per user 💌 : 2.18\n"
      ]
     },
     "metadata": {},
     "output_type": "display_data"
    },
    {
     "data": {
      "text/html": [
       "<pre style=\"white-space:pre;overflow-x:auto;line-height:normal;font-family:Menlo,'DejaVu Sans Mono',consolas,'Courier New',monospace\">11:29:55.048 | <span style=\"color: #008080; text-decoration-color: #008080\">INFO</span>    | Flow run<span style=\"color: #800080; text-decoration-color: #800080\"> 'enormous-bonobo'</span> - Finished in state <span style=\"color: #008000; text-decoration-color: #008000\">Completed</span>('All states completed.')\n",
       "</pre>\n"
      ],
      "text/plain": [
       "11:29:55.048 | \u001b[36mINFO\u001b[0m    | Flow run\u001b[35m 'enormous-bonobo'\u001b[0m - Finished in state \u001b[32mCompleted\u001b[0m('All states completed.')\n"
      ]
     },
     "metadata": {},
     "output_type": "display_data"
    }
   ],
   "source": [
    "import httpx\n",
    "from datetime import timedelta\n",
    "from prefect import flow, task\n",
    "from prefect.tasks import task_input_hash\n",
    "\n",
    "\n",
    "@task(cache_key_fn=task_input_hash, cache_expiration=timedelta(hours=1),name=\"t任务\")\n",
    "def get_url(url: str, params: dict = None):\n",
    "    response = httpx.get(url, params=params)\n",
    "    response.raise_for_status()\n",
    "    return response.json()\n",
    "\n",
    "\n",
    "def get_open_issues(repo_name: str, open_issues_count: int, per_page: int = 100):\n",
    "    issues = []\n",
    "    pages = range(1, -(open_issues_count // -per_page) + 1)\n",
    "    for page in pages:\n",
    "        issues.append(\n",
    "            get_url(\n",
    "                f\"https://api.github.com/repos/{repo_name}/issues\",\n",
    "                params={\"page\": page, \"per_page\": per_page, \"state\": \"open\"},\n",
    "            )\n",
    "        )\n",
    "    return [i for p in issues for i in p]\n",
    "\n",
    "\n",
    "@flow(retries=3, retry_delay_seconds=5, log_prints=True,name=\"f流\")\n",
    "def get_repo_info(repo_name: str = \"PrefectHQ/prefect\"):\n",
    "    repo_stats = get_url(f\"https://api.github.com/repos/{repo_name}\")\n",
    "    issues = get_open_issues(repo_name, repo_stats[\"open_issues_count\"])\n",
    "    issues_per_user = len(issues) / len(set([i[\"user\"][\"id\"] for i in issues]))\n",
    "    print(f\"{repo_name} repository statistics 🤓:\")\n",
    "    print(f\"Stars 🌠 : {repo_stats['stargazers_count']}\")\n",
    "    print(f\"Forks 🍴 : {repo_stats['forks_count']}\")\n",
    "    print(f\"Average open issues per user 💌 : {issues_per_user:.2f}\")\n",
    "\n",
    "\n",
    "if __name__ == \"__main__\":\n",
    "    get_repo_info()\n"
   ]
  },
  {
   "cell_type": "code",
   "execution_count": null,
   "id": "461d2e6b-6a4d-4252-b3ec-1b9426d5302e",
   "metadata": {},
   "outputs": [],
   "source": []
  }
 ],
 "metadata": {
  "kernelspec": {
   "display_name": "Python 3 (ipykernel)",
   "language": "python",
   "name": "python3"
  },
  "language_info": {
   "codemirror_mode": {
    "name": "ipython",
    "version": 3
   },
   "file_extension": ".py",
   "mimetype": "text/x-python",
   "name": "python",
   "nbconvert_exporter": "python",
   "pygments_lexer": "ipython3",
   "version": "3.12.1"
  }
 },
 "nbformat": 4,
 "nbformat_minor": 5
}
