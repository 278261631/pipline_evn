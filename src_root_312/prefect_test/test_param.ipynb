{
 "cells": [
  {
   "cell_type": "code",
   "execution_count": 1,
   "id": "f9c828ce-6592-468d-a9a7-901abf252c1c",
   "metadata": {},
   "outputs": [
    {
     "data": {
      "text/html": [
       "<pre style=\"white-space:pre;overflow-x:auto;line-height:normal;font-family:Menlo,'DejaVu Sans Mono',consolas,'Courier New',monospace\">16:17:49.056 | <span style=\"color: #008080; text-decoration-color: #008080\">INFO</span>    | prefect.engine - Created flow run<span style=\"color: #800080; text-decoration-color: #800080\"> 'conscious-honeybee'</span> for flow<span style=\"color: #800080; text-decoration-color: #800080; font-weight: bold\"> '测试流'</span>\n",
       "</pre>\n"
      ],
      "text/plain": [
       "16:17:49.056 | \u001b[36mINFO\u001b[0m    | prefect.engine - Created flow run\u001b[35m 'conscious-honeybee'\u001b[0m for flow\u001b[1;35m '测试流'\u001b[0m\n"
      ]
     },
     "metadata": {},
     "output_type": "display_data"
    },
    {
     "data": {
      "text/html": [
       "<pre style=\"white-space:pre;overflow-x:auto;line-height:normal;font-family:Menlo,'DejaVu Sans Mono',consolas,'Courier New',monospace\">16:17:49.117 | <span style=\"color: #008080; text-decoration-color: #008080\">INFO</span>    | Flow run<span style=\"color: #800080; text-decoration-color: #800080\"> 'conscious-honeybee'</span> - Created task run '测试任务Ok-0' for task '测试任务Ok'\n",
       "</pre>\n"
      ],
      "text/plain": [
       "16:17:49.117 | \u001b[36mINFO\u001b[0m    | Flow run\u001b[35m 'conscious-honeybee'\u001b[0m - Created task run '测试任务Ok-0' for task '测试任务Ok'\n"
      ]
     },
     "metadata": {},
     "output_type": "display_data"
    },
    {
     "data": {
      "text/html": [
       "<pre style=\"white-space:pre;overflow-x:auto;line-height:normal;font-family:Menlo,'DejaVu Sans Mono',consolas,'Courier New',monospace\">16:17:49.119 | <span style=\"color: #008080; text-decoration-color: #008080\">INFO</span>    | Flow run<span style=\"color: #800080; text-decoration-color: #800080\"> 'conscious-honeybee'</span> - Executing '测试任务Ok-0' immediately...\n",
       "</pre>\n"
      ],
      "text/plain": [
       "16:17:49.119 | \u001b[36mINFO\u001b[0m    | Flow run\u001b[35m 'conscious-honeybee'\u001b[0m - Executing '测试任务Ok-0' immediately...\n"
      ]
     },
     "metadata": {},
     "output_type": "display_data"
    },
    {
     "data": {
      "text/html": [
       "<pre style=\"white-space:pre;overflow-x:auto;line-height:normal;font-family:Menlo,'DejaVu Sans Mono',consolas,'Courier New',monospace\">16:17:49.252 | <span style=\"color: #008080; text-decoration-color: #008080\">INFO</span>    | Task run '测试任务Ok-0' - ----task:      <span style=\"color: #0000ff; text-decoration-color: #0000ff\">https://api.github.com/repos/PrefectHQ/prefect</span>  [None]\n",
       "</pre>\n"
      ],
      "text/plain": [
       "16:17:49.252 | \u001b[36mINFO\u001b[0m    | Task run '测试任务Ok-0' - ----task:      \u001b[94mhttps://api.github.com/repos/PrefectHQ/prefect\u001b[0m  [None]\n"
      ]
     },
     "metadata": {},
     "output_type": "display_data"
    },
    {
     "data": {
      "text/html": [
       "<pre style=\"white-space:pre;overflow-x:auto;line-height:normal;font-family:Menlo,'DejaVu Sans Mono',consolas,'Courier New',monospace\">16:17:49.281 | <span style=\"color: #008080; text-decoration-color: #008080\">INFO</span>    | Task run '测试任务Ok-0' - Finished in state <span style=\"color: #008000; text-decoration-color: #008000\">Completed</span>()\n",
       "</pre>\n"
      ],
      "text/plain": [
       "16:17:49.281 | \u001b[36mINFO\u001b[0m    | Task run '测试任务Ok-0' - Finished in state \u001b[32mCompleted\u001b[0m()\n"
      ]
     },
     "metadata": {},
     "output_type": "display_data"
    },
    {
     "data": {
      "text/html": [
       "<pre style=\"white-space:pre;overflow-x:auto;line-height:normal;font-family:Menlo,'DejaVu Sans Mono',consolas,'Courier New',monospace\">16:17:49.283 | <span style=\"color: #008080; text-decoration-color: #008080\">INFO</span>    | Flow run<span style=\"color: #800080; text-decoration-color: #800080\"> 'conscious-honeybee'</span> - --page??    1\n",
       "</pre>\n"
      ],
      "text/plain": [
       "16:17:49.283 | \u001b[36mINFO\u001b[0m    | Flow run\u001b[35m 'conscious-honeybee'\u001b[0m - --page??    1\n"
      ]
     },
     "metadata": {},
     "output_type": "display_data"
    },
    {
     "data": {
      "text/html": [
       "<pre style=\"white-space:pre;overflow-x:auto;line-height:normal;font-family:Menlo,'DejaVu Sans Mono',consolas,'Courier New',monospace\">16:17:49.304 | <span style=\"color: #008080; text-decoration-color: #008080\">INFO</span>    | Flow run<span style=\"color: #800080; text-decoration-color: #800080\"> 'conscious-honeybee'</span> - Created task run '测试任务Err-0' for task '测试任务Err'\n",
       "</pre>\n"
      ],
      "text/plain": [
       "16:17:49.304 | \u001b[36mINFO\u001b[0m    | Flow run\u001b[35m 'conscious-honeybee'\u001b[0m - Created task run '测试任务Err-0' for task '测试任务Err'\n"
      ]
     },
     "metadata": {},
     "output_type": "display_data"
    },
    {
     "data": {
      "text/html": [
       "<pre style=\"white-space:pre;overflow-x:auto;line-height:normal;font-family:Menlo,'DejaVu Sans Mono',consolas,'Courier New',monospace\">16:17:49.306 | <span style=\"color: #008080; text-decoration-color: #008080\">INFO</span>    | Flow run<span style=\"color: #800080; text-decoration-color: #800080\"> 'conscious-honeybee'</span> - Executing '测试任务Err-0' immediately...\n",
       "</pre>\n"
      ],
      "text/plain": [
       "16:17:49.306 | \u001b[36mINFO\u001b[0m    | Flow run\u001b[35m 'conscious-honeybee'\u001b[0m - Executing '测试任务Err-0' immediately...\n"
      ]
     },
     "metadata": {},
     "output_type": "display_data"
    },
    {
     "data": {
      "text/html": [
       "<pre style=\"white-space:pre;overflow-x:auto;line-height:normal;font-family:Menlo,'DejaVu Sans Mono',consolas,'Courier New',monospace\">16:17:49.347 | <span style=\"color: #008080; text-decoration-color: #008080\">INFO</span>    | Task run '测试任务Err-0' - ----task:      <span style=\"color: #0000ff; text-decoration-color: #0000ff\">http://google.com</span>  [None]\n",
       "</pre>\n"
      ],
      "text/plain": [
       "16:17:49.347 | \u001b[36mINFO\u001b[0m    | Task run '测试任务Err-0' - ----task:      \u001b[94mhttp://google.com\u001b[0m  [None]\n"
      ]
     },
     "metadata": {},
     "output_type": "display_data"
    },
    {
     "data": {
      "text/html": [
       "<pre style=\"white-space:pre;overflow-x:auto;line-height:normal;font-family:Menlo,'DejaVu Sans Mono',consolas,'Courier New',monospace\">16:17:49.374 | <span style=\"color: #008080; text-decoration-color: #008080\">INFO</span>    | Task run '测试任务Err-0' - Finished in state <span style=\"color: #008000; text-decoration-color: #008000\">Completed</span>()\n",
       "</pre>\n"
      ],
      "text/plain": [
       "16:17:49.374 | \u001b[36mINFO\u001b[0m    | Task run '测试任务Err-0' - Finished in state \u001b[32mCompleted\u001b[0m()\n"
      ]
     },
     "metadata": {},
     "output_type": "display_data"
    },
    {
     "data": {
      "text/html": [
       "<pre style=\"white-space:pre;overflow-x:auto;line-height:normal;font-family:Menlo,'DejaVu Sans Mono',consolas,'Courier New',monospace\">16:17:49.375 | <span style=\"color: #008080; text-decoration-color: #008080\">INFO</span>    | Flow run<span style=\"color: #800080; text-decoration-color: #800080\"> 'conscious-honeybee'</span> - --page??    2\n",
       "</pre>\n"
      ],
      "text/plain": [
       "16:17:49.375 | \u001b[36mINFO\u001b[0m    | Flow run\u001b[35m 'conscious-honeybee'\u001b[0m - --page??    2\n"
      ]
     },
     "metadata": {},
     "output_type": "display_data"
    },
    {
     "data": {
      "text/html": [
       "<pre style=\"white-space:pre;overflow-x:auto;line-height:normal;font-family:Menlo,'DejaVu Sans Mono',consolas,'Courier New',monospace\">16:17:49.395 | <span style=\"color: #008080; text-decoration-color: #008080\">INFO</span>    | Flow run<span style=\"color: #800080; text-decoration-color: #800080\"> 'conscious-honeybee'</span> - Created task run '测试任务Ok-1' for task '测试任务Ok'\n",
       "</pre>\n"
      ],
      "text/plain": [
       "16:17:49.395 | \u001b[36mINFO\u001b[0m    | Flow run\u001b[35m 'conscious-honeybee'\u001b[0m - Created task run '测试任务Ok-1' for task '测试任务Ok'\n"
      ]
     },
     "metadata": {},
     "output_type": "display_data"
    },
    {
     "data": {
      "text/html": [
       "<pre style=\"white-space:pre;overflow-x:auto;line-height:normal;font-family:Menlo,'DejaVu Sans Mono',consolas,'Courier New',monospace\">16:17:49.397 | <span style=\"color: #008080; text-decoration-color: #008080\">INFO</span>    | Flow run<span style=\"color: #800080; text-decoration-color: #800080\"> 'conscious-honeybee'</span> - Executing '测试任务Ok-1' immediately...\n",
       "</pre>\n"
      ],
      "text/plain": [
       "16:17:49.397 | \u001b[36mINFO\u001b[0m    | Flow run\u001b[35m 'conscious-honeybee'\u001b[0m - Executing '测试任务Ok-1' immediately...\n"
      ]
     },
     "metadata": {},
     "output_type": "display_data"
    },
    {
     "data": {
      "text/html": [
       "<pre style=\"white-space:pre;overflow-x:auto;line-height:normal;font-family:Menlo,'DejaVu Sans Mono',consolas,'Courier New',monospace\">16:17:49.432 | <span style=\"color: #008080; text-decoration-color: #008080\">INFO</span>    | Task run '测试任务Ok-1' - ----task:      <span style=\"color: #0000ff; text-decoration-color: #0000ff\">http://baidu.com</span>  [None]\n",
       "</pre>\n"
      ],
      "text/plain": [
       "16:17:49.432 | \u001b[36mINFO\u001b[0m    | Task run '测试任务Ok-1' - ----task:      \u001b[94mhttp://baidu.com\u001b[0m  [None]\n"
      ]
     },
     "metadata": {},
     "output_type": "display_data"
    },
    {
     "data": {
      "text/html": [
       "<pre style=\"white-space:pre;overflow-x:auto;line-height:normal;font-family:Menlo,'DejaVu Sans Mono',consolas,'Courier New',monospace\">16:17:49.459 | <span style=\"color: #008080; text-decoration-color: #008080\">INFO</span>    | Task run '测试任务Ok-1' - Finished in state <span style=\"color: #008000; text-decoration-color: #008000\">Completed</span>()\n",
       "</pre>\n"
      ],
      "text/plain": [
       "16:17:49.459 | \u001b[36mINFO\u001b[0m    | Task run '测试任务Ok-1' - Finished in state \u001b[32mCompleted\u001b[0m()\n"
      ]
     },
     "metadata": {},
     "output_type": "display_data"
    },
    {
     "data": {
      "text/html": [
       "<pre style=\"white-space:pre;overflow-x:auto;line-height:normal;font-family:Menlo,'DejaVu Sans Mono',consolas,'Courier New',monospace\">16:17:49.461 | <span style=\"color: #008080; text-decoration-color: #008080\">INFO</span>    | Flow run<span style=\"color: #800080; text-decoration-color: #800080\"> 'conscious-honeybee'</span> - --page??    3\n",
       "</pre>\n"
      ],
      "text/plain": [
       "16:17:49.461 | \u001b[36mINFO\u001b[0m    | Flow run\u001b[35m 'conscious-honeybee'\u001b[0m - --page??    3\n"
      ]
     },
     "metadata": {},
     "output_type": "display_data"
    },
    {
     "data": {
      "text/html": [
       "<pre style=\"white-space:pre;overflow-x:auto;line-height:normal;font-family:Menlo,'DejaVu Sans Mono',consolas,'Courier New',monospace\">16:17:49.482 | <span style=\"color: #008080; text-decoration-color: #008080\">INFO</span>    | Flow run<span style=\"color: #800080; text-decoration-color: #800080\"> 'conscious-honeybee'</span> - Created task run '测试任务Ok-2' for task '测试任务Ok'\n",
       "</pre>\n"
      ],
      "text/plain": [
       "16:17:49.482 | \u001b[36mINFO\u001b[0m    | Flow run\u001b[35m 'conscious-honeybee'\u001b[0m - Created task run '测试任务Ok-2' for task '测试任务Ok'\n"
      ]
     },
     "metadata": {},
     "output_type": "display_data"
    },
    {
     "data": {
      "text/html": [
       "<pre style=\"white-space:pre;overflow-x:auto;line-height:normal;font-family:Menlo,'DejaVu Sans Mono',consolas,'Courier New',monospace\">16:17:49.483 | <span style=\"color: #008080; text-decoration-color: #008080\">INFO</span>    | Flow run<span style=\"color: #800080; text-decoration-color: #800080\"> 'conscious-honeybee'</span> - Executing '测试任务Ok-2' immediately...\n",
       "</pre>\n"
      ],
      "text/plain": [
       "16:17:49.483 | \u001b[36mINFO\u001b[0m    | Flow run\u001b[35m 'conscious-honeybee'\u001b[0m - Executing '测试任务Ok-2' immediately...\n"
      ]
     },
     "metadata": {},
     "output_type": "display_data"
    },
    {
     "data": {
      "text/html": [
       "<pre style=\"white-space:pre;overflow-x:auto;line-height:normal;font-family:Menlo,'DejaVu Sans Mono',consolas,'Courier New',monospace\">16:17:49.521 | <span style=\"color: #008080; text-decoration-color: #008080\">INFO</span>    | Task run '测试任务Ok-2' - Finished in state Cached(type=COMPLETED)\n",
       "</pre>\n"
      ],
      "text/plain": [
       "16:17:49.521 | \u001b[36mINFO\u001b[0m    | Task run '测试任务Ok-2' - Finished in state Cached(type=COMPLETED)\n"
      ]
     },
     "metadata": {},
     "output_type": "display_data"
    },
    {
     "data": {
      "text/html": [
       "<pre style=\"white-space:pre;overflow-x:auto;line-height:normal;font-family:Menlo,'DejaVu Sans Mono',consolas,'Courier New',monospace\">16:17:49.523 | <span style=\"color: #008080; text-decoration-color: #008080\">INFO</span>    | Flow run<span style=\"color: #800080; text-decoration-color: #800080\"> 'conscious-honeybee'</span> - --page??    4\n",
       "</pre>\n"
      ],
      "text/plain": [
       "16:17:49.523 | \u001b[36mINFO\u001b[0m    | Flow run\u001b[35m 'conscious-honeybee'\u001b[0m - --page??    4\n"
      ]
     },
     "metadata": {},
     "output_type": "display_data"
    },
    {
     "data": {
      "text/html": [
       "<pre style=\"white-space:pre;overflow-x:auto;line-height:normal;font-family:Menlo,'DejaVu Sans Mono',consolas,'Courier New',monospace\">16:17:49.543 | <span style=\"color: #008080; text-decoration-color: #008080\">INFO</span>    | Flow run<span style=\"color: #800080; text-decoration-color: #800080\"> 'conscious-honeybee'</span> - Created task run '测试任务Ok-3' for task '测试任务Ok'\n",
       "</pre>\n"
      ],
      "text/plain": [
       "16:17:49.543 | \u001b[36mINFO\u001b[0m    | Flow run\u001b[35m 'conscious-honeybee'\u001b[0m - Created task run '测试任务Ok-3' for task '测试任务Ok'\n"
      ]
     },
     "metadata": {},
     "output_type": "display_data"
    },
    {
     "data": {
      "text/html": [
       "<pre style=\"white-space:pre;overflow-x:auto;line-height:normal;font-family:Menlo,'DejaVu Sans Mono',consolas,'Courier New',monospace\">16:17:49.545 | <span style=\"color: #008080; text-decoration-color: #008080\">INFO</span>    | Flow run<span style=\"color: #800080; text-decoration-color: #800080\"> 'conscious-honeybee'</span> - Executing '测试任务Ok-3' immediately...\n",
       "</pre>\n"
      ],
      "text/plain": [
       "16:17:49.545 | \u001b[36mINFO\u001b[0m    | Flow run\u001b[35m 'conscious-honeybee'\u001b[0m - Executing '测试任务Ok-3' immediately...\n"
      ]
     },
     "metadata": {},
     "output_type": "display_data"
    },
    {
     "data": {
      "text/html": [
       "<pre style=\"white-space:pre;overflow-x:auto;line-height:normal;font-family:Menlo,'DejaVu Sans Mono',consolas,'Courier New',monospace\">16:17:49.571 | <span style=\"color: #008080; text-decoration-color: #008080\">INFO</span>    | Task run '测试任务Ok-3' - Finished in state Cached(type=COMPLETED)\n",
       "</pre>\n"
      ],
      "text/plain": [
       "16:17:49.571 | \u001b[36mINFO\u001b[0m    | Task run '测试任务Ok-3' - Finished in state Cached(type=COMPLETED)\n"
      ]
     },
     "metadata": {},
     "output_type": "display_data"
    },
    {
     "data": {
      "text/html": [
       "<pre style=\"white-space:pre;overflow-x:auto;line-height:normal;font-family:Menlo,'DejaVu Sans Mono',consolas,'Courier New',monospace\">16:17:49.597 | <span style=\"color: #008080; text-decoration-color: #008080\">INFO</span>    | Flow run<span style=\"color: #800080; text-decoration-color: #800080\"> 'conscious-honeybee'</span> - Finished in state <span style=\"color: #008000; text-decoration-color: #008000\">Completed</span>('All states completed.')\n",
       "</pre>\n"
      ],
      "text/plain": [
       "16:17:49.597 | \u001b[36mINFO\u001b[0m    | Flow run\u001b[35m 'conscious-honeybee'\u001b[0m - Finished in state \u001b[32mCompleted\u001b[0m('All states completed.')\n"
      ]
     },
     "metadata": {},
     "output_type": "display_data"
    },
    {
     "ename": "AttributeError",
     "evalue": "'list' object has no attribute 'run'",
     "output_type": "error",
     "traceback": [
      "\u001b[1;31m---------------------------------------------------------------------------\u001b[0m",
      "\u001b[1;31mAttributeError\u001b[0m                            Traceback (most recent call last)",
      "Cell \u001b[1;32mIn[1], line 43\u001b[0m\n\u001b[0;32m     40\u001b[0m flow_instance \u001b[38;5;241m=\u001b[39m get_repo_info()\n\u001b[0;32m     42\u001b[0m \u001b[38;5;66;03m# Run the flow with a custom run name\u001b[39;00m\n\u001b[1;32m---> 43\u001b[0m \u001b[43mflow_instance\u001b[49m\u001b[38;5;241;43m.\u001b[39;49m\u001b[43mrun\u001b[49m(run_name\u001b[38;5;241m=\u001b[39m\u001b[38;5;124m\"\u001b[39m\u001b[38;5;124mCustomRunName\u001b[39m\u001b[38;5;124m\"\u001b[39m)\n",
      "\u001b[1;31mAttributeError\u001b[0m: 'list' object has no attribute 'run'"
     ]
    }
   ],
   "source": [
    "import httpx\n",
    "from datetime import timedelta\n",
    "from prefect import flow, task\n",
    "from prefect.tasks import task_input_hash\n",
    "\n",
    "\n",
    "@task(cache_key_fn=task_input_hash, cache_expiration=timedelta(hours=1),name=\"测试任务Ok\")\n",
    "def task_t1(url: str, params: dict = None):\n",
    "    print(f\"----task:      {url}  [{params}]\")\n",
    "    \n",
    "        \n",
    "        \n",
    "@task(cache_key_fn=task_input_hash, cache_expiration=timedelta(hours=1),name=\"测试任务Err\")\n",
    "def task_t2(url: str, params: dict = None):\n",
    "    print(f\"----task:      {url}  [{params}]\")\n",
    "    \n",
    "    \n",
    "\n",
    "\n",
    "def get_open_issues(repo_name: str, open_issues_count: int, per_page: int = 3):\n",
    "    issues = []\n",
    "    pages = range(1, 5)\n",
    "    for page in pages:\n",
    "        print(f\"--page??    {page}\")\n",
    "        if page>1:\n",
    "            task_t1(f\"http://baidu.com\")\n",
    "        else:\n",
    "            task_t2(f\"http://google.com\")\n",
    "\n",
    "\n",
    "@flow(retries=3, retry_delay_seconds=5, log_prints=True,name=\"测试流\")\n",
    "def get_repo_info(repo_name: str = \"PrefectHQ/prefect\"):\n",
    "    task_t1(f\"https://api.github.com/repos/{repo_name}\")\n",
    "    get_open_issues(repo_name, 10)\n",
    "\n",
    "\n",
    "if __name__ == \"__main__\":\n",
    "    # get_repo_info()\n",
    "    # Create an instance of the flow\n",
    "    flow_instance = get_repo_info()\n",
    "\n",
    "    # Run the flow with a custom run name\n",
    "    flow_instance.run(run_name=\"CustomRunName\")\n"
   ]
  },
  {
   "cell_type": "code",
   "execution_count": null,
   "id": "461d2e6b-6a4d-4252-b3ec-1b9426d5302e",
   "metadata": {},
   "outputs": [],
   "source": []
  },
  {
   "cell_type": "code",
   "execution_count": null,
   "id": "73a63719-96dd-4010-89b5-caddd03d5517",
   "metadata": {},
   "outputs": [],
   "source": []
  },
  {
   "cell_type": "code",
   "execution_count": null,
   "id": "04369728-ee2e-421f-bf21-c66fdc576ed2",
   "metadata": {},
   "outputs": [],
   "source": []
  },
  {
   "cell_type": "code",
   "execution_count": null,
   "id": "92d5deff-b6be-4c18-9da0-e8c04e7df928",
   "metadata": {},
   "outputs": [],
   "source": []
  }
 ],
 "metadata": {
  "kernelspec": {
   "display_name": "Python 3 (ipykernel)",
   "language": "python",
   "name": "python3"
  },
  "language_info": {
   "codemirror_mode": {
    "name": "ipython",
    "version": 3
   },
   "file_extension": ".py",
   "mimetype": "text/x-python",
   "name": "python",
   "nbconvert_exporter": "python",
   "pygments_lexer": "ipython3",
   "version": "3.12.1"
  }
 },
 "nbformat": 4,
 "nbformat_minor": 5
}
